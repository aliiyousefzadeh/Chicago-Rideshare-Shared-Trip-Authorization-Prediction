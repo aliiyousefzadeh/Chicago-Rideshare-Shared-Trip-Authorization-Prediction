{
  "nbformat": 4,
  "nbformat_minor": 0,
  "metadata": {
    "colab": {
      "provenance": []
    },
    "kernelspec": {
      "name": "python3",
      "display_name": "Python 3"
    },
    "language_info": {
      "name": "python"
    }
  },
  "cells": [
    {
      "cell_type": "code",
      "source": [
        "!pip install bayesian-optimization"
      ],
      "metadata": {
        "id": "RU-OAFZQtQUF",
        "colab": {
          "base_uri": "https://localhost:8080/"
        },
        "outputId": "e8f6ffda-3295-43bb-9d62-a43bc40747ca"
      },
      "execution_count": 2,
      "outputs": [
        {
          "output_type": "stream",
          "name": "stdout",
          "text": [
            "Looking in indexes: https://pypi.org/simple, https://us-python.pkg.dev/colab-wheels/public/simple/\n",
            "Collecting bayesian-optimization\n",
            "  Downloading bayesian_optimization-1.4.2-py3-none-any.whl (17 kB)\n",
            "Requirement already satisfied: scikit-learn>=0.18.0 in /usr/local/lib/python3.9/dist-packages (from bayesian-optimization) (1.2.2)\n",
            "Collecting colorama>=0.4.6\n",
            "  Downloading colorama-0.4.6-py2.py3-none-any.whl (25 kB)\n",
            "Requirement already satisfied: numpy>=1.9.0 in /usr/local/lib/python3.9/dist-packages (from bayesian-optimization) (1.22.4)\n",
            "Requirement already satisfied: scipy>=1.0.0 in /usr/local/lib/python3.9/dist-packages (from bayesian-optimization) (1.10.1)\n",
            "Requirement already satisfied: joblib>=1.1.1 in /usr/local/lib/python3.9/dist-packages (from scikit-learn>=0.18.0->bayesian-optimization) (1.1.1)\n",
            "Requirement already satisfied: threadpoolctl>=2.0.0 in /usr/local/lib/python3.9/dist-packages (from scikit-learn>=0.18.0->bayesian-optimization) (3.1.0)\n",
            "Installing collected packages: colorama, bayesian-optimization\n",
            "Successfully installed bayesian-optimization-1.4.2 colorama-0.4.6\n"
          ]
        }
      ]
    },
    {
      "cell_type": "code",
      "execution_count": 3,
      "metadata": {
        "id": "r7zgjMBvQsiU"
      },
      "outputs": [],
      "source": [
        "import numpy as np\n",
        "import pandas as pd\n",
        "from google.colab import drive"
      ]
    },
    {
      "cell_type": "code",
      "source": [
        "# Read the CSV file from My Google Drive\n",
        "drive.mount('/content/drive')\n",
        "df = pd.read_csv('/content/drive/My Drive/Transportation_Network_Providers_-_Trips_2.csv')"
      ],
      "metadata": {
        "id": "UkE9LL1_QwJp",
        "colab": {
          "base_uri": "https://localhost:8080/"
        },
        "outputId": "e631d160-c549-460d-9fdc-67c659c02af2"
      },
      "execution_count": 4,
      "outputs": [
        {
          "output_type": "stream",
          "name": "stdout",
          "text": [
            "Mounted at /content/drive\n"
          ]
        }
      ]
    },
    {
      "cell_type": "code",
      "source": [
        "df.head()"
      ],
      "metadata": {
        "id": "vASNai21nMg-"
      },
      "execution_count": null,
      "outputs": []
    },
    {
      "cell_type": "code",
      "source": [
        "df.shape"
      ],
      "metadata": {
        "id": "7tT4dOUSDdWG",
        "colab": {
          "base_uri": "https://localhost:8080/"
        },
        "outputId": "444ca678-6ab2-48a0-c27c-01cbfc8cc4b4"
      },
      "execution_count": 122,
      "outputs": [
        {
          "output_type": "execute_result",
          "data": {
            "text/plain": [
              "(280657, 21)"
            ]
          },
          "metadata": {},
          "execution_count": 122
        }
      ]
    },
    {
      "cell_type": "code",
      "source": [
        "df.dtypes"
      ],
      "metadata": {
        "colab": {
          "base_uri": "https://localhost:8080/"
        },
        "id": "_FHxBuErFsp6",
        "outputId": "bbed6432-b069-4cb2-9174-c56da4695712"
      },
      "execution_count": 123,
      "outputs": [
        {
          "output_type": "execute_result",
          "data": {
            "text/plain": [
              "Trip ID                        object\n",
              "Trip Start Timestamp           object\n",
              "Trip End Timestamp             object\n",
              "Trip Seconds                  float64\n",
              "Trip Miles                    float64\n",
              "Pickup Census Tract           float64\n",
              "Dropoff Census Tract          float64\n",
              "Pickup Community Area         float64\n",
              "Dropoff Community Area        float64\n",
              "Fare                          float64\n",
              "Tip                           float64\n",
              "Additional Charges            float64\n",
              "Trip Total                    float64\n",
              "Shared Trip Authorized         object\n",
              "Trips Pooled                  float64\n",
              "Pickup Centroid Latitude      float64\n",
              "Pickup Centroid Longitude     float64\n",
              "Pickup Centroid Location       object\n",
              "Dropoff Centroid Latitude     float64\n",
              "Dropoff Centroid Longitude    float64\n",
              "Dropoff Centroid Location      object\n",
              "dtype: object"
            ]
          },
          "metadata": {},
          "execution_count": 123
        }
      ]
    },
    {
      "cell_type": "code",
      "source": [
        "df.drop_duplicates(inplace=True)"
      ],
      "metadata": {
        "id": "qSpnljMiF-Bn"
      },
      "execution_count": 5,
      "outputs": []
    },
    {
      "cell_type": "code",
      "source": [
        "df.shape"
      ],
      "metadata": {
        "colab": {
          "base_uri": "https://localhost:8080/"
        },
        "id": "zNTKeNkrGZ8e",
        "outputId": "acd0ddad-2236-4402-c5ba-4db495c597c9"
      },
      "execution_count": 5,
      "outputs": [
        {
          "output_type": "execute_result",
          "data": {
            "text/plain": [
              "(280657, 21)"
            ]
          },
          "metadata": {},
          "execution_count": 5
        }
      ]
    },
    {
      "cell_type": "code",
      "source": [
        "df.dropna(inplace=True)"
      ],
      "metadata": {
        "id": "IwbSDFUjGc7A"
      },
      "execution_count": 6,
      "outputs": []
    },
    {
      "cell_type": "code",
      "source": [
        "df.shape"
      ],
      "metadata": {
        "colab": {
          "base_uri": "https://localhost:8080/"
        },
        "id": "j3o004odG86j",
        "outputId": "2093142d-9768-47bb-fb4a-160a7d57a9e4"
      },
      "execution_count": 7,
      "outputs": [
        {
          "output_type": "execute_result",
          "data": {
            "text/plain": [
              "(198766, 21)"
            ]
          },
          "metadata": {},
          "execution_count": 7
        }
      ]
    },
    {
      "cell_type": "code",
      "source": [
        "shared_trips = df['Shared Trip Authorized'].value_counts()\n",
        "print(shared_trips)"
      ],
      "metadata": {
        "colab": {
          "base_uri": "https://localhost:8080/"
        },
        "id": "jqQey-p0G-mE",
        "outputId": "da4ba1b6-2fc4-4d7b-acb4-226c06d20efc"
      },
      "execution_count": 126,
      "outputs": [
        {
          "output_type": "stream",
          "name": "stdout",
          "text": [
            "False    167648\n",
            "True      31118\n",
            "Name: Shared Trip Authorized, dtype: int64\n"
          ]
        }
      ]
    },
    {
      "cell_type": "code",
      "source": [
        "# compare the trip duration and distance of shared trips versus non-shared trips\n",
        "shared_trips_duration = df.loc[df['Shared Trip Authorized'] == True, 'Trip Seconds'].mean()\n",
        "print(f\"The average duration of shared trips is:{shared_trips_duration: .2f} seconds.\")\n",
        "non_shared_trips_duration = df.loc[df['Shared Trip Authorized'] == False, 'Trip Seconds'].mean()\n",
        "print(f\"The average duration of non_shared trips is:{non_shared_trips_duration: .2f} seconds\")\n",
        "\n",
        "shared_trips_distance = df.loc[df['Shared Trip Authorized'] == True, 'Trip Miles'].mean()\n",
        "print(f\"The average distance of shared trips is:{shared_trips_distance: .2f} Miles\")\n",
        "non_shared_trips_distance = df.loc[df['Shared Trip Authorized'] == False, 'Trip Miles'].mean()\n",
        "print(f\"The average distance of non_shared trips is:{non_shared_trips_distance: .2f} Miles\")"
      ],
      "metadata": {
        "colab": {
          "base_uri": "https://localhost:8080/"
        },
        "id": "7fSgPjYJIrPH",
        "outputId": "c13dc2ba-14f5-45dd-8c15-ea4b6997993b"
      },
      "execution_count": 127,
      "outputs": [
        {
          "output_type": "stream",
          "name": "stdout",
          "text": [
            "The average duration of shared trips is: 1156.53 seconds.\n",
            "The average duration of non_shared trips is: 928.87 seconds\n",
            "The average distance of shared trips is: 4.88 Miles\n",
            "The average distance of non_shared trips is: 4.37 Miles\n"
          ]
        }
      ]
    },
    {
      "cell_type": "code",
      "source": [
        "# Modify the Dataset\n",
        "\n",
        "# Assume that the \"Trip Start Timestamp\" column contains date and time strings\n",
        "df[\"Start Timestamp\"] = pd.to_datetime(df[\"Trip Start Timestamp\"])\n",
        "\n",
        "# Print the modified dataframe\n",
        "print(df.dtypes)"
      ],
      "metadata": {
        "colab": {
          "base_uri": "https://localhost:8080/"
        },
        "id": "e0h3_gsuKb8f",
        "outputId": "ffd04018-b21f-4841-8ffe-49b0efdfe569"
      },
      "execution_count": 7,
      "outputs": [
        {
          "output_type": "stream",
          "name": "stdout",
          "text": [
            "Trip ID                               object\n",
            "Trip Start Timestamp                  object\n",
            "Trip End Timestamp                    object\n",
            "Trip Seconds                         float64\n",
            "Trip Miles                           float64\n",
            "Pickup Census Tract                  float64\n",
            "Dropoff Census Tract                 float64\n",
            "Pickup Community Area                float64\n",
            "Dropoff Community Area               float64\n",
            "Fare                                 float64\n",
            "Tip                                  float64\n",
            "Additional Charges                   float64\n",
            "Trip Total                           float64\n",
            "Shared Trip Authorized                object\n",
            "Trips Pooled                         float64\n",
            "Pickup Centroid Latitude             float64\n",
            "Pickup Centroid Longitude            float64\n",
            "Pickup Centroid Location              object\n",
            "Dropoff Centroid Latitude            float64\n",
            "Dropoff Centroid Longitude           float64\n",
            "Dropoff Centroid Location             object\n",
            "Start Timestamp               datetime64[ns]\n",
            "dtype: object\n"
          ]
        }
      ]
    },
    {
      "cell_type": "code",
      "source": [
        "# Extract the day of the week from the date column and store it in a new column\n",
        "df['Start_day_of_week'] = df['Start Timestamp'].dt.strftime('%A')"
      ],
      "metadata": {
        "id": "MXzNQ8tu9E9a"
      },
      "execution_count": 8,
      "outputs": []
    },
    {
      "cell_type": "code",
      "source": [
        "# Assume that the \"Trip End Timestamp\" column contains date and time strings\n",
        "df[\"End Timestamp\"] = pd.to_datetime(df[\"Trip End Timestamp\"])\n",
        "\n",
        "# Drop the original \"Trip End Timestamp\" column\n",
        "df.drop(\"Trip End Timestamp\", axis=1, inplace=True)\n",
        "\n",
        "# Print the modified dataframe\n",
        "print(df.head())"
      ],
      "metadata": {
        "colab": {
          "base_uri": "https://localhost:8080/"
        },
        "id": "GBNMx8f-LNaN",
        "outputId": "a48c64c5-a537-4fac-8cfd-165b1af157db"
      },
      "execution_count": 9,
      "outputs": [
        {
          "output_type": "stream",
          "name": "stdout",
          "text": [
            "                                    Trip ID    Trip Start Timestamp  \\\n",
            "2  09e6dc28f00a710926385c004c9ef0099671443b  09/17/2019 10:45:00 PM   \n",
            "3  2c632a97287a94d8d9093e6082f83307435d80a6  11/29/2018 03:00:00 PM   \n",
            "4  09e6dc7bcc037a2553310b6f6dbc64ab32cddf65  08/06/2019 12:00:00 PM   \n",
            "5  2c632f3d748c49e9a6aa226fb97f492c7ed93d3a  12/13/2018 06:15:00 PM   \n",
            "7  2c632f7236325d19bbe558b59148ed5aaf034357  12/14/2018 01:15:00 AM   \n",
            "\n",
            "   Trip Seconds  Trip Miles  Pickup Census Tract  Dropoff Census Tract  \\\n",
            "2         268.0         1.1         1.703124e+10          1.703124e+10   \n",
            "3         596.0         2.5         1.703128e+10          1.703108e+10   \n",
            "4        1266.0         3.7         1.703124e+10          1.703132e+10   \n",
            "5        1147.0         4.3         1.703184e+10          1.703124e+10   \n",
            "7         346.0         1.4         1.703107e+10          1.703107e+10   \n",
            "\n",
            "   Pickup Community Area  Dropoff Community Area  Fare  Tip  ...  \\\n",
            "2                   24.0                    24.0   5.0  0.0  ...   \n",
            "3                   28.0                     8.0   7.5  0.0  ...   \n",
            "4                   24.0                    32.0  10.0  0.0  ...   \n",
            "5                   32.0                    24.0  10.0  0.0  ...   \n",
            "7                    7.0                     7.0   5.0  0.0  ...   \n",
            "\n",
            "   Trips Pooled  Pickup Centroid Latitude Pickup Centroid Longitude  \\\n",
            "2           1.0                 41.906026                -87.675312   \n",
            "3           1.0                 41.879255                -87.642649   \n",
            "4           1.0                 41.892537                -87.659864   \n",
            "5           1.0                 41.880994                -87.632746   \n",
            "7           1.0                 41.921778                -87.651062   \n",
            "\n",
            "               Pickup Centroid Location  Dropoff Centroid Latitude  \\\n",
            "2   POINT (-87.6753116216 41.906025969)                  41.906708   \n",
            "3   POINT (-87.642648998 41.8792550844)                  41.891972   \n",
            "4  POINT (-87.6598643178 41.8925368719)                  41.870607   \n",
            "5  POINT (-87.6327464887 41.8809944707)                  41.906639   \n",
            "7  POINT (-87.6510618838 41.9217781876)                  41.928763   \n",
            "\n",
            "   Dropoff Centroid Longitude             Dropoff Centroid Location  \\\n",
            "2                  -87.684686  POINT (-87.6846859492 41.9067077917)   \n",
            "3                  -87.612945  POINT (-87.6129454143 41.8919715078)   \n",
            "4                  -87.622173  POINT (-87.6221729369 41.8706073724)   \n",
            "5                  -87.689580  POINT (-87.6895798343 41.9066385418)   \n",
            "7                  -87.665677   POINT (-87.665676837 41.9287630064)   \n",
            "\n",
            "      Start Timestamp  Start_day_of_week       End Timestamp  \n",
            "2 2019-09-17 22:45:00            Tuesday 2019-09-17 22:45:00  \n",
            "3 2018-11-29 15:00:00           Thursday 2018-11-29 15:15:00  \n",
            "4 2019-08-06 12:00:00            Tuesday 2019-08-06 12:30:00  \n",
            "5 2018-12-13 18:15:00           Thursday 2018-12-13 18:30:00  \n",
            "7 2018-12-14 01:15:00             Friday 2018-12-14 01:15:00  \n",
            "\n",
            "[5 rows x 23 columns]\n"
          ]
        }
      ]
    },
    {
      "cell_type": "code",
      "source": [
        "# extract the hour from the \"Start Timestamp\" column and convert it to an integer\n",
        "df[\"Start hour\"] = df[\"Start Timestamp\"].dt.hour.astype(int)\n",
        "\n",
        "# extract the hour from the \"End Timestamp\" column and convert it to an integer\n",
        "df[\"End hour\"] = df[\"End Timestamp\"].dt.hour.astype(int)"
      ],
      "metadata": {
        "id": "opMIcAopcOqw"
      },
      "execution_count": 10,
      "outputs": []
    },
    {
      "cell_type": "code",
      "source": [
        "# Modify the data to select the required columns and delete the others\n",
        "\n",
        "# Drop \"Trip ID\" column\n",
        "df.drop(\"Trip ID\", axis=1, inplace=True)\n",
        "\n",
        "# Drop \"Pickup Census Tract\" column\n",
        "df.drop(\"Pickup Census Tract\", axis=1, inplace=True)\n",
        "\n",
        "# Drop \"Dropoff Census Tract\" column\n",
        "df.drop(\"Dropoff Census Tract\", axis=1, inplace=True)\n",
        "\n",
        "# Drop \"Pickup Centroid Latitude\" column\n",
        "df.drop(\"Pickup Centroid Latitude\", axis=1, inplace=True)\n",
        "\n",
        "# Drop \"Pickup Centroid Longitude\" column\n",
        "df.drop(\"Pickup Centroid Longitude\", axis=1, inplace=True)\n",
        "\n",
        "# Drop \"Pickup Centroid Location\" column\n",
        "df.drop(\"Pickup Centroid Location\", axis=1, inplace=True)\n",
        "\n",
        "# Drop \"Dropoff Centroid Latitude\" column\n",
        "df.drop(\"Dropoff Centroid Latitude\", axis=1, inplace=True)\n",
        "\n",
        "# Drop \"Dropoff Centroid Longitude\" column\n",
        "df.drop(\"Dropoff Centroid Longitude\", axis=1, inplace=True)\n",
        "\n",
        "# Drop \"Dropoff Centroid Location\" column\n",
        "df.drop(\"Dropoff Centroid Location\", axis=1, inplace=True)\n"
      ],
      "metadata": {
        "id": "c0GPpTP4LYd7"
      },
      "execution_count": 132,
      "outputs": []
    },
    {
      "cell_type": "code",
      "source": [
        "# map the day names to numerical values\n",
        "df['Start_day_of_week'] = df['Start_day_of_week'].map({'Monday': 0, 'Tuesday': 1, 'Wednesday': 2, 'Thursday': 3, 'Friday': 4, 'Saturday': 5, 'Sunday': 6})\n"
      ],
      "metadata": {
        "id": "YIZnaSUy_m7j"
      },
      "execution_count": 45,
      "outputs": []
    },
    {
      "cell_type": "code",
      "source": [
        "df.dtypes\n"
      ],
      "metadata": {
        "colab": {
          "base_uri": "https://localhost:8080/"
        },
        "id": "I8J03FnmMhwx",
        "outputId": "31a9769b-b785-484f-efef-5ce9b2388d70"
      },
      "execution_count": 117,
      "outputs": [
        {
          "output_type": "execute_result",
          "data": {
            "text/plain": [
              "Trip Start Timestamp       object\n",
              "Trip Seconds              float64\n",
              "Trip Miles                float64\n",
              "Pickup Community Area     float64\n",
              "Dropoff Community Area    float64\n",
              "Fare                      float64\n",
              "Tip                       float64\n",
              "Additional Charges        float64\n",
              "Trip Total                float64\n",
              "Shared Trip Authorized      int64\n",
              "Trips Pooled              float64\n",
              "Start_day_of_week         float64\n",
              "Start hour                  int64\n",
              "End hour                    int64\n",
              "dtype: object"
            ]
          },
          "metadata": {},
          "execution_count": 117
        }
      ]
    },
    {
      "cell_type": "code",
      "source": [
        "from tensorflow import keras\n",
        "from sklearn.model_selection import train_test_split\n",
        "from sklearn.metrics import roc_auc_score\n",
        "from keras.models import Sequential\n",
        "from keras.layers import Dense"
      ],
      "metadata": {
        "id": "rBjJId1MPayu"
      },
      "execution_count": 47,
      "outputs": []
    },
    {
      "cell_type": "code",
      "source": [
        "# Define the dataset\n",
        "df['Shared Trip Authorized'] = df['Shared Trip Authorized'].astype(int)\n"
      ],
      "metadata": {
        "id": "DhZeGANiSENP"
      },
      "execution_count": 48,
      "outputs": []
    },
    {
      "cell_type": "code",
      "source": [
        "# get the indices of True and False values separately\n",
        "true_indices = df[df[\"Shared Trip Authorized\"] == 1].index\n",
        "false_indices = df[df[\"Shared Trip Authorized\"] == 0].index\n",
        "\n",
        "# randomly sample an equal number of True and False values\n",
        "num_samples = min(len(true_indices), len(false_indices))\n",
        "true_samples = df.loc[true_indices].sample(n=num_samples)\n",
        "false_samples = df.loc[false_indices].sample(n=num_samples)\n",
        "\n",
        "# concatenate the sampled True and False values into a single dataframe\n",
        "selected_data = pd.concat([true_samples, false_samples])"
      ],
      "metadata": {
        "id": "QneOxXNFRrXq"
      },
      "execution_count": 49,
      "outputs": []
    },
    {
      "cell_type": "code",
      "source": [
        "# Select the required data for model\n",
        "X = selected_data.loc[:, ['Trip Seconds', 'Trip Miles', 'Pickup Community Area', 'Dropoff Community Area', 'Fare','Start hour', 'Start_day_of_week']]\n",
        "y = selected_data.loc[:, 'Shared Trip Authorized']\n",
        "\n",
        "print(X.shape)\n",
        "print(X.dtypes)\n",
        "print(y.shape)\n",
        "print(y.dtypes)"
      ],
      "metadata": {
        "colab": {
          "base_uri": "https://localhost:8080/"
        },
        "id": "oiS4-FwASIh2",
        "outputId": "b50791a2-aaca-4e21-9b97-97c58e04ce2d"
      },
      "execution_count": 50,
      "outputs": [
        {
          "output_type": "stream",
          "name": "stdout",
          "text": [
            "(62236, 7)\n",
            "Trip Seconds              float64\n",
            "Trip Miles                float64\n",
            "Pickup Community Area     float64\n",
            "Dropoff Community Area    float64\n",
            "Fare                      float64\n",
            "Start hour                  int64\n",
            "Start_day_of_week           int64\n",
            "dtype: object\n",
            "(62236,)\n",
            "int64\n"
          ]
        }
      ]
    },
    {
      "cell_type": "code",
      "source": [
        "# Split the data into training, testing, and cross validation sets\n",
        "X_train, X_test_val, y_train, y_test_val = train_test_split(X, y, test_size=0.2, random_state=42)\n",
        "\n",
        "X_test, X_val, y_test, y_val = train_test_split(X_test_val, y_test_val, test_size=0.5, random_state=42)\n",
        "\n",
        "print(X_train.shape)\n",
        "print(X_val.shape)\n",
        "print(X_test.shape)\n"
      ],
      "metadata": {
        "id": "5BHaqZviQaKN",
        "colab": {
          "base_uri": "https://localhost:8080/"
        },
        "outputId": "c9f378dd-0054-418b-85cb-a37fea1f48d7"
      },
      "execution_count": 51,
      "outputs": [
        {
          "output_type": "stream",
          "name": "stdout",
          "text": [
            "(49788, 7)\n",
            "(6224, 7)\n",
            "(6224, 7)\n"
          ]
        }
      ]
    },
    {
      "cell_type": "code",
      "source": [
        "# Define the model architecture 1\n",
        "model_1 = Sequential()\n",
        "model_1.add(Dense(64, input_dim=X_train.shape[1], activation='relu'))\n",
        "model_1.add(Dense(32, activation='relu'))\n",
        "model_1.add(Dense(1, activation='sigmoid'))"
      ],
      "metadata": {
        "id": "pUZWGpR5TtEf"
      },
      "execution_count": 52,
      "outputs": []
    },
    {
      "cell_type": "code",
      "source": [
        "# Define the model architecture 2\n",
        "model_2 = Sequential()\n",
        "model_2.add(Dense(128, input_dim=X_train.shape[1], activation='relu'))\n",
        "model_2.add(Dense(64, activation='relu'))\n",
        "model_2.add(Dense(32, activation='relu'))\n",
        "model_2.add(Dense(1, activation='sigmoid'))"
      ],
      "metadata": {
        "id": "ZNhz_Sm0W2so"
      },
      "execution_count": 53,
      "outputs": []
    },
    {
      "cell_type": "code",
      "source": [
        "# Define the model architecture 3\n",
        "model_3 = Sequential()\n",
        "model_3.add(Dense(64, input_dim=X_train.shape[1], activation='relu'))\n",
        "model_3.add(Dense(64, activation='relu'))\n",
        "model_3.add(Dense(64, activation='relu'))\n",
        "model_3.add(Dense(32, activation='relu'))\n",
        "model_3.add(Dense(1, activation='sigmoid'))"
      ],
      "metadata": {
        "id": "nijZm82rZZun"
      },
      "execution_count": 54,
      "outputs": []
    },
    {
      "cell_type": "code",
      "source": [
        "# Define the model architecture 4\n",
        "model_4 = Sequential()\n",
        "model_4.add(Dense(64, input_dim=X_train.shape[1], activation='relu'))\n",
        "model_4.add(Dense(64, activation='relu'))\n",
        "model_4.add(Dense(32, activation='relu'))\n",
        "model_4.add(Dense(32, activation='relu'))\n",
        "model_4.add(Dense(16, activation='relu'))\n",
        "model_4.add(Dense(1, activation='sigmoid'))"
      ],
      "metadata": {
        "id": "_T6l-jfQe5w6"
      },
      "execution_count": 55,
      "outputs": []
    },
    {
      "cell_type": "code",
      "source": [
        "# Define the model architecture 5\n",
        "hidden_units = 100\n",
        "\n",
        "\n",
        "model_5 = Sequential()\n",
        "model_5.add(Dense(hidden_units, input_dim=X_train.shape[1], activation='relu', kernel_regularizer=keras.regularizers.l2(0)))\n",
        "model_5.add(Dense(hidden_units, activation='relu', kernel_regularizer=keras.regularizers.l2(0.0)))\n",
        "model_5.add(Dense(hidden_units, activation='relu', kernel_regularizer=keras.regularizers.l2(0.0)))\n",
        "model_5.add(Dense(hidden_units, activation='relu', kernel_regularizer=keras.regularizers.l2(0.0)))\n",
        "model_5.add(Dense(hidden_units, activation='relu', kernel_regularizer=keras.regularizers.l2(0.0)))\n",
        "model_5.add(Dense(hidden_units, activation='relu', kernel_regularizer=keras.regularizers.l2(0.0)))\n",
        "model_5.add(Dense(1, activation='sigmoid', kernel_regularizer=keras.regularizers.l2(0.0)))"
      ],
      "metadata": {
        "id": "itLFSqb2fnc_"
      },
      "execution_count": 56,
      "outputs": []
    },
    {
      "cell_type": "code",
      "source": [
        "# Define the model architecture 6\n",
        "model_6 = Sequential()\n",
        "model_6.add(Dense(hidden_units, input_dim=X_train.shape[1], activation='relu'))\n",
        "model_6.add(Dense(hidden_units, activation='relu'))\n",
        "model_6.add(Dense(hidden_units, activation='relu'))\n",
        "model_6.add(Dense(hidden_units, activation='relu'))\n",
        "model_6.add(Dense(hidden_units, activation='relu'))\n",
        "model_6.add(Dense(hidden_units, activation='relu'))\n",
        "model_6.add(Dense(hidden_units, activation='relu'))\n",
        "model_6.add(Dense(hidden_units, activation='relu'))\n",
        "model_6.add(Dense(hidden_units, activation='relu'))\n",
        "model_6.add(Dense(hidden_units, activation='relu'))\n",
        "model_6.add(Dense(hidden_units, activation='relu'))\n",
        "model_6.add(Dense(hidden_units, activation='relu'))\n",
        "model_6.add(Dense(hidden_units, activation='relu'))\n",
        "model_6.add(Dense(1, activation='sigmoid'))"
      ],
      "metadata": {
        "id": "B2u38ee23pDP"
      },
      "execution_count": 57,
      "outputs": []
    },
    {
      "cell_type": "code",
      "source": [
        "# Compile the models\n",
        "\n",
        "model_1.compile(loss='binary_crossentropy', optimizer='adam', metrics=['binary_accuracy'])\n",
        "model_2.compile(loss='binary_crossentropy', optimizer='adam', metrics=['binary_accuracy'])\n",
        "model_3.compile(loss='binary_crossentropy', optimizer='adam', metrics=['binary_accuracy'])\n",
        "model_4.compile(loss='binary_crossentropy', optimizer='adam', metrics=['binary_accuracy'])\n",
        "model_5.compile(loss='binary_crossentropy', optimizer='adam', metrics=['binary_accuracy'])\n",
        "model_6.compile(loss='binary_crossentropy', optimizer='adam', metrics=['binary_accuracy'])"
      ],
      "metadata": {
        "id": "b0FBAQKgUS3V"
      },
      "execution_count": 58,
      "outputs": []
    },
    {
      "cell_type": "code",
      "source": [
        "# Train the model_1\n",
        "history = model_1.fit(X_val, y_val, epochs=100, batch_size=32)"
      ],
      "metadata": {
        "colab": {
          "base_uri": "https://localhost:8080/"
        },
        "id": "r9ZIncKuUVi7",
        "outputId": "a41ca2e3-c165-4b14-d77f-a5a56b3d07ae"
      },
      "execution_count": 59,
      "outputs": [
        {
          "output_type": "stream",
          "name": "stdout",
          "text": [
            "Epoch 1/100\n",
            "195/195 [==============================] - 1s 2ms/step - loss: 3.0419 - binary_accuracy: 0.6199\n",
            "Epoch 2/100\n",
            "195/195 [==============================] - 1s 3ms/step - loss: 0.6758 - binary_accuracy: 0.6968\n",
            "Epoch 3/100\n",
            "195/195 [==============================] - 1s 3ms/step - loss: 0.6117 - binary_accuracy: 0.7349\n",
            "Epoch 4/100\n",
            "195/195 [==============================] - 1s 3ms/step - loss: 0.5715 - binary_accuracy: 0.7498\n",
            "Epoch 5/100\n",
            "195/195 [==============================] - 1s 3ms/step - loss: 0.6168 - binary_accuracy: 0.7449\n",
            "Epoch 6/100\n",
            "195/195 [==============================] - 1s 3ms/step - loss: 0.5550 - binary_accuracy: 0.7670\n",
            "Epoch 7/100\n",
            "195/195 [==============================] - 1s 3ms/step - loss: 0.5243 - binary_accuracy: 0.7852\n",
            "Epoch 8/100\n",
            "195/195 [==============================] - 0s 2ms/step - loss: 0.5376 - binary_accuracy: 0.7918\n",
            "Epoch 9/100\n",
            "195/195 [==============================] - 0s 2ms/step - loss: 0.6698 - binary_accuracy: 0.7649\n",
            "Epoch 10/100\n",
            "195/195 [==============================] - 0s 2ms/step - loss: 0.4903 - binary_accuracy: 0.8122\n",
            "Epoch 11/100\n",
            "195/195 [==============================] - 0s 2ms/step - loss: 0.5413 - binary_accuracy: 0.7905\n",
            "Epoch 12/100\n",
            "195/195 [==============================] - 0s 2ms/step - loss: 0.4762 - binary_accuracy: 0.8091\n",
            "Epoch 13/100\n",
            "195/195 [==============================] - 0s 2ms/step - loss: 0.5296 - binary_accuracy: 0.7943\n",
            "Epoch 14/100\n",
            "195/195 [==============================] - 0s 2ms/step - loss: 0.5577 - binary_accuracy: 0.7870\n",
            "Epoch 15/100\n",
            "195/195 [==============================] - 0s 2ms/step - loss: 0.5827 - binary_accuracy: 0.7971\n",
            "Epoch 16/100\n",
            "195/195 [==============================] - 0s 2ms/step - loss: 0.5202 - binary_accuracy: 0.7992\n",
            "Epoch 17/100\n",
            "195/195 [==============================] - 0s 2ms/step - loss: 0.4962 - binary_accuracy: 0.8104\n",
            "Epoch 18/100\n",
            "195/195 [==============================] - 0s 2ms/step - loss: 0.4952 - binary_accuracy: 0.8141\n",
            "Epoch 19/100\n",
            "195/195 [==============================] - 0s 2ms/step - loss: 0.5113 - binary_accuracy: 0.8085\n",
            "Epoch 20/100\n",
            "195/195 [==============================] - 0s 2ms/step - loss: 0.4918 - binary_accuracy: 0.8138\n",
            "Epoch 21/100\n",
            "195/195 [==============================] - 0s 2ms/step - loss: 0.4767 - binary_accuracy: 0.8202\n",
            "Epoch 22/100\n",
            "195/195 [==============================] - 0s 2ms/step - loss: 0.5581 - binary_accuracy: 0.7960\n",
            "Epoch 23/100\n",
            "195/195 [==============================] - 0s 2ms/step - loss: 0.4394 - binary_accuracy: 0.8329\n",
            "Epoch 24/100\n",
            "195/195 [==============================] - 0s 2ms/step - loss: 0.5126 - binary_accuracy: 0.8114\n",
            "Epoch 25/100\n",
            "195/195 [==============================] - 0s 2ms/step - loss: 0.5506 - binary_accuracy: 0.7992\n",
            "Epoch 26/100\n",
            "195/195 [==============================] - 0s 2ms/step - loss: 0.5988 - binary_accuracy: 0.7887\n",
            "Epoch 27/100\n",
            "195/195 [==============================] - 0s 2ms/step - loss: 0.6053 - binary_accuracy: 0.7890\n",
            "Epoch 28/100\n",
            "195/195 [==============================] - 0s 2ms/step - loss: 0.5703 - binary_accuracy: 0.7939\n",
            "Epoch 29/100\n",
            "195/195 [==============================] - 0s 2ms/step - loss: 0.6793 - binary_accuracy: 0.7794\n",
            "Epoch 30/100\n",
            "195/195 [==============================] - 0s 2ms/step - loss: 0.4664 - binary_accuracy: 0.8303\n",
            "Epoch 31/100\n",
            "195/195 [==============================] - 0s 3ms/step - loss: 0.5471 - binary_accuracy: 0.8062\n",
            "Epoch 32/100\n",
            "195/195 [==============================] - 1s 3ms/step - loss: 0.4847 - binary_accuracy: 0.8184\n",
            "Epoch 33/100\n",
            "195/195 [==============================] - 1s 3ms/step - loss: 0.5653 - binary_accuracy: 0.7974\n",
            "Epoch 34/100\n",
            "195/195 [==============================] - 1s 4ms/step - loss: 0.6135 - binary_accuracy: 0.7902\n",
            "Epoch 35/100\n",
            "195/195 [==============================] - 1s 3ms/step - loss: 0.4811 - binary_accuracy: 0.8257\n",
            "Epoch 36/100\n",
            "195/195 [==============================] - 1s 3ms/step - loss: 0.4235 - binary_accuracy: 0.8397\n",
            "Epoch 37/100\n",
            "195/195 [==============================] - 0s 2ms/step - loss: 0.4643 - binary_accuracy: 0.8271\n",
            "Epoch 38/100\n",
            "195/195 [==============================] - 0s 2ms/step - loss: 0.5614 - binary_accuracy: 0.7913\n",
            "Epoch 39/100\n",
            "195/195 [==============================] - 0s 2ms/step - loss: 0.4886 - binary_accuracy: 0.8231\n",
            "Epoch 40/100\n",
            "195/195 [==============================] - 0s 2ms/step - loss: 0.5537 - binary_accuracy: 0.8054\n",
            "Epoch 41/100\n",
            "195/195 [==============================] - 0s 2ms/step - loss: 0.4884 - binary_accuracy: 0.8270\n",
            "Epoch 42/100\n",
            "195/195 [==============================] - 0s 2ms/step - loss: 0.4484 - binary_accuracy: 0.8321\n",
            "Epoch 43/100\n",
            "195/195 [==============================] - 0s 2ms/step - loss: 0.5207 - binary_accuracy: 0.8077\n",
            "Epoch 44/100\n",
            "195/195 [==============================] - 0s 2ms/step - loss: 0.5050 - binary_accuracy: 0.8122\n",
            "Epoch 45/100\n",
            "195/195 [==============================] - 0s 2ms/step - loss: 0.5031 - binary_accuracy: 0.8122\n",
            "Epoch 46/100\n",
            "195/195 [==============================] - 0s 2ms/step - loss: 0.4676 - binary_accuracy: 0.8292\n",
            "Epoch 47/100\n",
            "195/195 [==============================] - 0s 2ms/step - loss: 0.4869 - binary_accuracy: 0.8173\n",
            "Epoch 48/100\n",
            "195/195 [==============================] - 0s 2ms/step - loss: 0.4354 - binary_accuracy: 0.8387\n",
            "Epoch 49/100\n",
            "195/195 [==============================] - 0s 2ms/step - loss: 0.5004 - binary_accuracy: 0.8067\n",
            "Epoch 50/100\n",
            "195/195 [==============================] - 0s 2ms/step - loss: 0.4895 - binary_accuracy: 0.8239\n",
            "Epoch 51/100\n",
            "195/195 [==============================] - 0s 2ms/step - loss: 0.5075 - binary_accuracy: 0.8106\n",
            "Epoch 52/100\n",
            "195/195 [==============================] - 0s 2ms/step - loss: 0.4460 - binary_accuracy: 0.8305\n",
            "Epoch 53/100\n",
            "195/195 [==============================] - 0s 2ms/step - loss: 0.4909 - binary_accuracy: 0.8276\n",
            "Epoch 54/100\n",
            "195/195 [==============================] - 0s 2ms/step - loss: 0.5569 - binary_accuracy: 0.8162\n",
            "Epoch 55/100\n",
            "195/195 [==============================] - 0s 2ms/step - loss: 0.4030 - binary_accuracy: 0.8477\n",
            "Epoch 56/100\n",
            "195/195 [==============================] - 0s 2ms/step - loss: 0.3841 - binary_accuracy: 0.8544\n",
            "Epoch 57/100\n",
            "195/195 [==============================] - 0s 2ms/step - loss: 0.4108 - binary_accuracy: 0.8413\n",
            "Epoch 58/100\n",
            "195/195 [==============================] - 0s 2ms/step - loss: 0.4564 - binary_accuracy: 0.8252\n",
            "Epoch 59/100\n",
            "195/195 [==============================] - 0s 2ms/step - loss: 0.4732 - binary_accuracy: 0.8255\n",
            "Epoch 60/100\n",
            "195/195 [==============================] - 0s 2ms/step - loss: 0.5146 - binary_accuracy: 0.8205\n",
            "Epoch 61/100\n",
            "195/195 [==============================] - 1s 3ms/step - loss: 0.4544 - binary_accuracy: 0.8313\n",
            "Epoch 62/100\n",
            "195/195 [==============================] - 1s 3ms/step - loss: 0.4328 - binary_accuracy: 0.8358\n",
            "Epoch 63/100\n",
            "195/195 [==============================] - 1s 3ms/step - loss: 0.4504 - binary_accuracy: 0.8334\n",
            "Epoch 64/100\n",
            "195/195 [==============================] - 1s 3ms/step - loss: 0.4431 - binary_accuracy: 0.8313\n",
            "Epoch 65/100\n",
            "195/195 [==============================] - 1s 3ms/step - loss: 0.4066 - binary_accuracy: 0.8427\n",
            "Epoch 66/100\n",
            "195/195 [==============================] - 1s 3ms/step - loss: 0.3895 - binary_accuracy: 0.8487\n",
            "Epoch 67/100\n",
            "195/195 [==============================] - 0s 2ms/step - loss: 0.4950 - binary_accuracy: 0.8201\n",
            "Epoch 68/100\n",
            "195/195 [==============================] - 0s 2ms/step - loss: 0.4297 - binary_accuracy: 0.8384\n",
            "Epoch 69/100\n",
            "195/195 [==============================] - 0s 2ms/step - loss: 0.3978 - binary_accuracy: 0.8448\n",
            "Epoch 70/100\n",
            "195/195 [==============================] - 0s 2ms/step - loss: 0.3990 - binary_accuracy: 0.8435\n",
            "Epoch 71/100\n",
            "195/195 [==============================] - 0s 2ms/step - loss: 0.3788 - binary_accuracy: 0.8527\n",
            "Epoch 72/100\n",
            "195/195 [==============================] - 0s 2ms/step - loss: 0.4826 - binary_accuracy: 0.8225\n",
            "Epoch 73/100\n",
            "195/195 [==============================] - 0s 2ms/step - loss: 0.3998 - binary_accuracy: 0.8467\n",
            "Epoch 74/100\n",
            "195/195 [==============================] - 0s 2ms/step - loss: 0.4355 - binary_accuracy: 0.8372\n",
            "Epoch 75/100\n",
            "195/195 [==============================] - 0s 2ms/step - loss: 0.3669 - binary_accuracy: 0.8565\n",
            "Epoch 76/100\n",
            "195/195 [==============================] - 0s 2ms/step - loss: 0.3847 - binary_accuracy: 0.8483\n",
            "Epoch 77/100\n",
            "195/195 [==============================] - 0s 2ms/step - loss: 0.3873 - binary_accuracy: 0.8501\n",
            "Epoch 78/100\n",
            "195/195 [==============================] - 0s 2ms/step - loss: 0.3913 - binary_accuracy: 0.8458\n",
            "Epoch 79/100\n",
            "195/195 [==============================] - 0s 2ms/step - loss: 0.4228 - binary_accuracy: 0.8376\n",
            "Epoch 80/100\n",
            "195/195 [==============================] - 0s 2ms/step - loss: 0.4076 - binary_accuracy: 0.8490\n",
            "Epoch 81/100\n",
            "195/195 [==============================] - 0s 2ms/step - loss: 0.4103 - binary_accuracy: 0.8413\n",
            "Epoch 82/100\n",
            "195/195 [==============================] - 0s 2ms/step - loss: 0.3647 - binary_accuracy: 0.8559\n",
            "Epoch 83/100\n",
            "195/195 [==============================] - 0s 2ms/step - loss: 0.4134 - binary_accuracy: 0.8427\n",
            "Epoch 84/100\n",
            "195/195 [==============================] - 0s 2ms/step - loss: 0.3894 - binary_accuracy: 0.8477\n",
            "Epoch 85/100\n",
            "195/195 [==============================] - 0s 2ms/step - loss: 0.3939 - binary_accuracy: 0.8469\n",
            "Epoch 86/100\n",
            "195/195 [==============================] - 0s 2ms/step - loss: 0.3782 - binary_accuracy: 0.8490\n",
            "Epoch 87/100\n",
            "195/195 [==============================] - 0s 2ms/step - loss: 0.3673 - binary_accuracy: 0.8573\n",
            "Epoch 88/100\n",
            "195/195 [==============================] - 0s 2ms/step - loss: 0.3761 - binary_accuracy: 0.8573\n",
            "Epoch 89/100\n",
            "195/195 [==============================] - 1s 3ms/step - loss: 0.3828 - binary_accuracy: 0.8507\n",
            "Epoch 90/100\n",
            "195/195 [==============================] - 1s 3ms/step - loss: 0.3925 - binary_accuracy: 0.8501\n",
            "Epoch 91/100\n",
            "195/195 [==============================] - 1s 3ms/step - loss: 0.4023 - binary_accuracy: 0.8435\n",
            "Epoch 92/100\n",
            "195/195 [==============================] - 1s 3ms/step - loss: 0.3495 - binary_accuracy: 0.8670\n",
            "Epoch 93/100\n",
            "195/195 [==============================] - 1s 3ms/step - loss: 0.3909 - binary_accuracy: 0.8509\n",
            "Epoch 94/100\n",
            "195/195 [==============================] - 1s 3ms/step - loss: 0.3594 - binary_accuracy: 0.8605\n",
            "Epoch 95/100\n",
            "195/195 [==============================] - 0s 3ms/step - loss: 0.3940 - binary_accuracy: 0.8543\n",
            "Epoch 96/100\n",
            "195/195 [==============================] - 0s 2ms/step - loss: 0.4455 - binary_accuracy: 0.8417\n",
            "Epoch 97/100\n",
            "195/195 [==============================] - 0s 2ms/step - loss: 0.3964 - binary_accuracy: 0.8536\n",
            "Epoch 98/100\n",
            "195/195 [==============================] - 0s 2ms/step - loss: 0.3633 - binary_accuracy: 0.8604\n",
            "Epoch 99/100\n",
            "195/195 [==============================] - 0s 2ms/step - loss: 0.4211 - binary_accuracy: 0.8422\n",
            "Epoch 100/100\n",
            "195/195 [==============================] - 0s 2ms/step - loss: 0.3463 - binary_accuracy: 0.8657\n"
          ]
        }
      ]
    },
    {
      "cell_type": "code",
      "source": [
        "# Evaluate the model_1\n",
        "score_1 = model_1.evaluate(X_val, y_val, verbose=0)\n",
        "print(f'Test loss: {score_1[0]} / Test accuracy: {score_1[1]}')"
      ],
      "metadata": {
        "colab": {
          "base_uri": "https://localhost:8080/"
        },
        "id": "bvLg2hDJdh4X",
        "outputId": "1db054c9-e363-406f-9425-e077d3d0496b"
      },
      "execution_count": 60,
      "outputs": [
        {
          "output_type": "stream",
          "name": "stdout",
          "text": [
            "Test loss: 0.3187195360660553 / Test accuracy: 0.8809447288513184\n"
          ]
        }
      ]
    },
    {
      "cell_type": "code",
      "source": [
        "# Train the model_2\n",
        "history = model_2.fit(X_val, y_val, epochs=100, batch_size=32)"
      ],
      "metadata": {
        "colab": {
          "base_uri": "https://localhost:8080/"
        },
        "id": "n30g46Xnd6W_",
        "outputId": "fe893378-c389-4f07-98d1-d55b9b64a4b9"
      },
      "execution_count": 61,
      "outputs": [
        {
          "output_type": "stream",
          "name": "stdout",
          "text": [
            "Epoch 1/100\n",
            "195/195 [==============================] - 2s 4ms/step - loss: 1.6965 - binary_accuracy: 0.5182\n",
            "Epoch 2/100\n",
            "195/195 [==============================] - 0s 2ms/step - loss: 0.7808 - binary_accuracy: 0.5900\n",
            "Epoch 3/100\n",
            "195/195 [==============================] - 0s 2ms/step - loss: 0.6359 - binary_accuracy: 0.6775\n",
            "Epoch 4/100\n",
            "195/195 [==============================] - 0s 2ms/step - loss: 0.5533 - binary_accuracy: 0.7415\n",
            "Epoch 5/100\n",
            "195/195 [==============================] - 0s 2ms/step - loss: 0.6419 - binary_accuracy: 0.6869\n",
            "Epoch 6/100\n",
            "195/195 [==============================] - 0s 2ms/step - loss: 0.5963 - binary_accuracy: 0.7478\n",
            "Epoch 7/100\n",
            "195/195 [==============================] - 0s 2ms/step - loss: 0.4673 - binary_accuracy: 0.8001\n",
            "Epoch 8/100\n",
            "195/195 [==============================] - 0s 2ms/step - loss: 0.4352 - binary_accuracy: 0.8151\n",
            "Epoch 9/100\n",
            "195/195 [==============================] - 0s 2ms/step - loss: 0.4303 - binary_accuracy: 0.8156\n",
            "Epoch 10/100\n",
            "195/195 [==============================] - 1s 3ms/step - loss: 0.4597 - binary_accuracy: 0.8025\n",
            "Epoch 11/100\n",
            "195/195 [==============================] - 1s 3ms/step - loss: 0.4393 - binary_accuracy: 0.8231\n",
            "Epoch 12/100\n",
            "195/195 [==============================] - 0s 2ms/step - loss: 0.4605 - binary_accuracy: 0.8061\n",
            "Epoch 13/100\n",
            "195/195 [==============================] - 0s 2ms/step - loss: 0.4128 - binary_accuracy: 0.8205\n",
            "Epoch 14/100\n",
            "195/195 [==============================] - 1s 3ms/step - loss: 0.4028 - binary_accuracy: 0.8327\n",
            "Epoch 15/100\n",
            "195/195 [==============================] - 0s 3ms/step - loss: 0.3995 - binary_accuracy: 0.8361\n",
            "Epoch 16/100\n",
            "195/195 [==============================] - 1s 3ms/step - loss: 0.4388 - binary_accuracy: 0.8098\n",
            "Epoch 17/100\n",
            "195/195 [==============================] - 0s 3ms/step - loss: 0.4029 - binary_accuracy: 0.8324\n",
            "Epoch 18/100\n",
            "195/195 [==============================] - 0s 2ms/step - loss: 0.4273 - binary_accuracy: 0.8165\n",
            "Epoch 19/100\n",
            "195/195 [==============================] - 0s 2ms/step - loss: 0.3892 - binary_accuracy: 0.8311\n",
            "Epoch 20/100\n",
            "195/195 [==============================] - 0s 2ms/step - loss: 0.3849 - binary_accuracy: 0.8435\n",
            "Epoch 21/100\n",
            "195/195 [==============================] - 0s 2ms/step - loss: 0.4022 - binary_accuracy: 0.8345\n",
            "Epoch 22/100\n",
            "195/195 [==============================] - 1s 3ms/step - loss: 0.3796 - binary_accuracy: 0.8499\n",
            "Epoch 23/100\n",
            "195/195 [==============================] - 1s 4ms/step - loss: 0.3679 - binary_accuracy: 0.8480\n",
            "Epoch 24/100\n",
            "195/195 [==============================] - 1s 4ms/step - loss: 0.3782 - binary_accuracy: 0.8467\n",
            "Epoch 25/100\n",
            "195/195 [==============================] - 1s 4ms/step - loss: 0.3686 - binary_accuracy: 0.8504\n",
            "Epoch 26/100\n",
            "195/195 [==============================] - 1s 4ms/step - loss: 0.3754 - binary_accuracy: 0.8424\n",
            "Epoch 27/100\n",
            "195/195 [==============================] - 1s 3ms/step - loss: 0.3672 - binary_accuracy: 0.8533\n",
            "Epoch 28/100\n",
            "195/195 [==============================] - 0s 2ms/step - loss: 0.3584 - binary_accuracy: 0.8570\n",
            "Epoch 29/100\n",
            "195/195 [==============================] - 0s 2ms/step - loss: 0.3642 - binary_accuracy: 0.8496\n",
            "Epoch 30/100\n",
            "195/195 [==============================] - 0s 2ms/step - loss: 0.3726 - binary_accuracy: 0.8453\n",
            "Epoch 31/100\n",
            "195/195 [==============================] - 0s 2ms/step - loss: 0.3878 - binary_accuracy: 0.8395\n",
            "Epoch 32/100\n",
            "195/195 [==============================] - 0s 2ms/step - loss: 0.3567 - binary_accuracy: 0.8483\n",
            "Epoch 33/100\n",
            "195/195 [==============================] - 0s 2ms/step - loss: 0.3849 - binary_accuracy: 0.8342\n",
            "Epoch 34/100\n",
            "195/195 [==============================] - 0s 2ms/step - loss: 0.3606 - binary_accuracy: 0.8523\n",
            "Epoch 35/100\n",
            "195/195 [==============================] - 0s 2ms/step - loss: 0.3676 - binary_accuracy: 0.8475\n",
            "Epoch 36/100\n",
            "195/195 [==============================] - 0s 2ms/step - loss: 0.3533 - binary_accuracy: 0.8504\n",
            "Epoch 37/100\n",
            "195/195 [==============================] - 1s 3ms/step - loss: 0.3354 - binary_accuracy: 0.8626\n",
            "Epoch 38/100\n",
            "195/195 [==============================] - 0s 2ms/step - loss: 0.3398 - binary_accuracy: 0.8602\n",
            "Epoch 39/100\n",
            "195/195 [==============================] - 0s 2ms/step - loss: 0.3551 - binary_accuracy: 0.8511\n",
            "Epoch 40/100\n",
            "195/195 [==============================] - 0s 2ms/step - loss: 0.3452 - binary_accuracy: 0.8620\n",
            "Epoch 41/100\n",
            "195/195 [==============================] - 0s 2ms/step - loss: 0.3374 - binary_accuracy: 0.8607\n",
            "Epoch 42/100\n",
            "195/195 [==============================] - 0s 2ms/step - loss: 0.3583 - binary_accuracy: 0.8531\n",
            "Epoch 43/100\n",
            "195/195 [==============================] - 0s 2ms/step - loss: 0.3520 - binary_accuracy: 0.8527\n",
            "Epoch 44/100\n",
            "195/195 [==============================] - 0s 2ms/step - loss: 0.3463 - binary_accuracy: 0.8573\n",
            "Epoch 45/100\n",
            "195/195 [==============================] - 0s 3ms/step - loss: 0.3446 - binary_accuracy: 0.8551\n",
            "Epoch 46/100\n",
            "195/195 [==============================] - 0s 2ms/step - loss: 0.3375 - binary_accuracy: 0.8580\n",
            "Epoch 47/100\n",
            "195/195 [==============================] - 0s 2ms/step - loss: 0.3343 - binary_accuracy: 0.8636\n",
            "Epoch 48/100\n",
            "195/195 [==============================] - 0s 2ms/step - loss: 0.3394 - binary_accuracy: 0.8588\n",
            "Epoch 49/100\n",
            "195/195 [==============================] - 1s 4ms/step - loss: 0.3388 - binary_accuracy: 0.8602\n",
            "Epoch 50/100\n",
            "195/195 [==============================] - 1s 4ms/step - loss: 0.3380 - binary_accuracy: 0.8597\n",
            "Epoch 51/100\n",
            "195/195 [==============================] - 1s 4ms/step - loss: 0.3399 - binary_accuracy: 0.8599\n",
            "Epoch 52/100\n",
            "195/195 [==============================] - 1s 4ms/step - loss: 0.3323 - binary_accuracy: 0.8629\n",
            "Epoch 53/100\n",
            "195/195 [==============================] - 1s 4ms/step - loss: 0.3386 - binary_accuracy: 0.8601\n",
            "Epoch 54/100\n",
            "195/195 [==============================] - 0s 2ms/step - loss: 0.3373 - binary_accuracy: 0.8605\n",
            "Epoch 55/100\n",
            "195/195 [==============================] - 0s 2ms/step - loss: 0.3386 - binary_accuracy: 0.8589\n",
            "Epoch 56/100\n",
            "195/195 [==============================] - 0s 3ms/step - loss: 0.3320 - binary_accuracy: 0.8660\n",
            "Epoch 57/100\n",
            "195/195 [==============================] - 0s 2ms/step - loss: 0.3317 - binary_accuracy: 0.8629\n",
            "Epoch 58/100\n",
            "195/195 [==============================] - 0s 2ms/step - loss: 0.3293 - binary_accuracy: 0.8658\n",
            "Epoch 59/100\n",
            "195/195 [==============================] - 0s 2ms/step - loss: 0.3419 - binary_accuracy: 0.8586\n",
            "Epoch 60/100\n",
            "195/195 [==============================] - 0s 2ms/step - loss: 0.3283 - binary_accuracy: 0.8662\n",
            "Epoch 61/100\n",
            "195/195 [==============================] - 0s 2ms/step - loss: 0.3327 - binary_accuracy: 0.8638\n",
            "Epoch 62/100\n",
            "195/195 [==============================] - 0s 3ms/step - loss: 0.3264 - binary_accuracy: 0.8660\n",
            "Epoch 63/100\n",
            "195/195 [==============================] - 0s 2ms/step - loss: 0.3428 - binary_accuracy: 0.8601\n",
            "Epoch 64/100\n",
            "195/195 [==============================] - 0s 2ms/step - loss: 0.3277 - binary_accuracy: 0.8646\n",
            "Epoch 65/100\n",
            "195/195 [==============================] - 0s 2ms/step - loss: 0.3257 - binary_accuracy: 0.8642\n",
            "Epoch 66/100\n",
            "195/195 [==============================] - 0s 2ms/step - loss: 0.3294 - binary_accuracy: 0.8628\n",
            "Epoch 67/100\n",
            "195/195 [==============================] - 0s 2ms/step - loss: 0.3237 - binary_accuracy: 0.8657\n",
            "Epoch 68/100\n",
            "195/195 [==============================] - 0s 2ms/step - loss: 0.3519 - binary_accuracy: 0.8543\n",
            "Epoch 69/100\n",
            "195/195 [==============================] - 0s 2ms/step - loss: 0.3255 - binary_accuracy: 0.8658\n",
            "Epoch 70/100\n",
            "195/195 [==============================] - 0s 2ms/step - loss: 0.3281 - binary_accuracy: 0.8660\n",
            "Epoch 71/100\n",
            "195/195 [==============================] - 0s 2ms/step - loss: 0.3239 - binary_accuracy: 0.8705\n",
            "Epoch 72/100\n",
            "195/195 [==============================] - 0s 2ms/step - loss: 0.3227 - binary_accuracy: 0.8666\n",
            "Epoch 73/100\n",
            "195/195 [==============================] - 0s 2ms/step - loss: 0.3258 - binary_accuracy: 0.8691\n",
            "Epoch 74/100\n",
            "195/195 [==============================] - 1s 3ms/step - loss: 0.3292 - binary_accuracy: 0.8646\n",
            "Epoch 75/100\n",
            "195/195 [==============================] - 1s 4ms/step - loss: 0.3273 - binary_accuracy: 0.8607\n",
            "Epoch 76/100\n",
            "195/195 [==============================] - 1s 4ms/step - loss: 0.3249 - binary_accuracy: 0.8665\n",
            "Epoch 77/100\n",
            "195/195 [==============================] - 1s 4ms/step - loss: 0.3239 - binary_accuracy: 0.8654\n",
            "Epoch 78/100\n",
            "195/195 [==============================] - 1s 4ms/step - loss: 0.3200 - binary_accuracy: 0.8663\n",
            "Epoch 79/100\n",
            "195/195 [==============================] - 1s 4ms/step - loss: 0.3219 - binary_accuracy: 0.8674\n",
            "Epoch 80/100\n",
            "195/195 [==============================] - 0s 2ms/step - loss: 0.3181 - binary_accuracy: 0.8686\n",
            "Epoch 81/100\n",
            "195/195 [==============================] - 0s 2ms/step - loss: 0.3196 - binary_accuracy: 0.8694\n",
            "Epoch 82/100\n",
            "195/195 [==============================] - 0s 2ms/step - loss: 0.3213 - binary_accuracy: 0.8649\n",
            "Epoch 83/100\n",
            "195/195 [==============================] - 0s 2ms/step - loss: 0.3164 - binary_accuracy: 0.8683\n",
            "Epoch 84/100\n",
            "195/195 [==============================] - 1s 3ms/step - loss: 0.3220 - binary_accuracy: 0.8673\n",
            "Epoch 85/100\n",
            "195/195 [==============================] - 0s 2ms/step - loss: 0.3170 - binary_accuracy: 0.8711\n",
            "Epoch 86/100\n",
            "195/195 [==============================] - 0s 2ms/step - loss: 0.3114 - binary_accuracy: 0.8726\n",
            "Epoch 87/100\n",
            "195/195 [==============================] - 0s 2ms/step - loss: 0.3196 - binary_accuracy: 0.8681\n",
            "Epoch 88/100\n",
            "195/195 [==============================] - 0s 2ms/step - loss: 0.3312 - binary_accuracy: 0.8639\n",
            "Epoch 89/100\n",
            "195/195 [==============================] - 0s 2ms/step - loss: 0.3149 - binary_accuracy: 0.8707\n",
            "Epoch 90/100\n",
            "195/195 [==============================] - 1s 3ms/step - loss: 0.3193 - binary_accuracy: 0.8691\n",
            "Epoch 91/100\n",
            "195/195 [==============================] - 0s 2ms/step - loss: 0.3162 - binary_accuracy: 0.8710\n",
            "Epoch 92/100\n",
            "195/195 [==============================] - 0s 2ms/step - loss: 0.3148 - binary_accuracy: 0.8694\n",
            "Epoch 93/100\n",
            "195/195 [==============================] - 0s 2ms/step - loss: 0.3240 - binary_accuracy: 0.8671\n",
            "Epoch 94/100\n",
            "195/195 [==============================] - 1s 3ms/step - loss: 0.3230 - binary_accuracy: 0.8673\n",
            "Epoch 95/100\n",
            "195/195 [==============================] - 0s 2ms/step - loss: 0.3134 - binary_accuracy: 0.8745\n",
            "Epoch 96/100\n",
            "195/195 [==============================] - 0s 2ms/step - loss: 0.3179 - binary_accuracy: 0.8694\n",
            "Epoch 97/100\n",
            "195/195 [==============================] - 0s 2ms/step - loss: 0.3083 - binary_accuracy: 0.8769\n",
            "Epoch 98/100\n",
            "195/195 [==============================] - 0s 2ms/step - loss: 0.3161 - binary_accuracy: 0.8723\n",
            "Epoch 99/100\n",
            "195/195 [==============================] - 0s 2ms/step - loss: 0.3116 - binary_accuracy: 0.8784\n",
            "Epoch 100/100\n",
            "195/195 [==============================] - 0s 2ms/step - loss: 0.3090 - binary_accuracy: 0.8769\n"
          ]
        }
      ]
    },
    {
      "cell_type": "code",
      "source": [
        "# Evaluate the model_2\n",
        "score_2 = model_2.evaluate(X_val, y_val, verbose=0)\n",
        "print(f'Test loss: {score_2[0]} / Test accuracy: {score_2[1]}')"
      ],
      "metadata": {
        "colab": {
          "base_uri": "https://localhost:8080/"
        },
        "id": "ah9La7ned9SG",
        "outputId": "4c01c9b0-e95f-4ac3-e058-aab81d930086"
      },
      "execution_count": 62,
      "outputs": [
        {
          "output_type": "stream",
          "name": "stdout",
          "text": [
            "Test loss: 0.30485185980796814 / Test accuracy: 0.8774100542068481\n"
          ]
        }
      ]
    },
    {
      "cell_type": "code",
      "source": [
        "# Train the model_3\n",
        "history = model_3.fit(X_val, y_val, epochs=100, batch_size=32)"
      ],
      "metadata": {
        "colab": {
          "base_uri": "https://localhost:8080/"
        },
        "id": "MoJJW5UHd99o",
        "outputId": "be13287b-5044-45f1-a638-4bbfa00e0976"
      },
      "execution_count": 63,
      "outputs": [
        {
          "output_type": "stream",
          "name": "stdout",
          "text": [
            "Epoch 1/100\n",
            "195/195 [==============================] - 2s 4ms/step - loss: 1.6946 - binary_accuracy: 0.5210\n",
            "Epoch 2/100\n",
            "195/195 [==============================] - 1s 4ms/step - loss: 0.7620 - binary_accuracy: 0.5901\n",
            "Epoch 3/100\n",
            "195/195 [==============================] - 1s 4ms/step - loss: 0.6478 - binary_accuracy: 0.6748\n",
            "Epoch 4/100\n",
            "195/195 [==============================] - 0s 3ms/step - loss: 0.5417 - binary_accuracy: 0.7433\n",
            "Epoch 5/100\n",
            "195/195 [==============================] - 1s 3ms/step - loss: 0.5424 - binary_accuracy: 0.7532\n",
            "Epoch 6/100\n",
            "195/195 [==============================] - 1s 3ms/step - loss: 0.4755 - binary_accuracy: 0.7992\n",
            "Epoch 7/100\n",
            "195/195 [==============================] - 1s 3ms/step - loss: 0.4737 - binary_accuracy: 0.7897\n",
            "Epoch 8/100\n",
            "195/195 [==============================] - 0s 2ms/step - loss: 0.4531 - binary_accuracy: 0.8077\n",
            "Epoch 9/100\n",
            "195/195 [==============================] - 1s 3ms/step - loss: 0.4651 - binary_accuracy: 0.7996\n",
            "Epoch 10/100\n",
            "195/195 [==============================] - 0s 2ms/step - loss: 0.5021 - binary_accuracy: 0.7868\n",
            "Epoch 11/100\n",
            "195/195 [==============================] - 0s 2ms/step - loss: 0.4624 - binary_accuracy: 0.8008\n",
            "Epoch 12/100\n",
            "195/195 [==============================] - 0s 2ms/step - loss: 0.4121 - binary_accuracy: 0.8278\n",
            "Epoch 13/100\n",
            "195/195 [==============================] - 0s 3ms/step - loss: 0.4081 - binary_accuracy: 0.8303\n",
            "Epoch 14/100\n",
            "195/195 [==============================] - 0s 2ms/step - loss: 0.4252 - binary_accuracy: 0.8192\n",
            "Epoch 15/100\n",
            "195/195 [==============================] - 0s 3ms/step - loss: 0.3978 - binary_accuracy: 0.8308\n",
            "Epoch 16/100\n",
            "195/195 [==============================] - 0s 2ms/step - loss: 0.4294 - binary_accuracy: 0.8082\n",
            "Epoch 17/100\n",
            "195/195 [==============================] - 0s 2ms/step - loss: 0.4044 - binary_accuracy: 0.8231\n",
            "Epoch 18/100\n",
            "195/195 [==============================] - 0s 2ms/step - loss: 0.3683 - binary_accuracy: 0.8446\n",
            "Epoch 19/100\n",
            "195/195 [==============================] - 0s 2ms/step - loss: 0.3820 - binary_accuracy: 0.8377\n",
            "Epoch 20/100\n",
            "195/195 [==============================] - 0s 2ms/step - loss: 0.3571 - binary_accuracy: 0.8536\n",
            "Epoch 21/100\n",
            "195/195 [==============================] - 0s 2ms/step - loss: 0.3732 - binary_accuracy: 0.8430\n",
            "Epoch 22/100\n",
            "195/195 [==============================] - 0s 2ms/step - loss: 0.3811 - binary_accuracy: 0.8368\n",
            "Epoch 23/100\n",
            "195/195 [==============================] - 0s 2ms/step - loss: 0.3601 - binary_accuracy: 0.8480\n",
            "Epoch 24/100\n",
            "195/195 [==============================] - 1s 4ms/step - loss: 0.3469 - binary_accuracy: 0.8575\n",
            "Epoch 25/100\n",
            "195/195 [==============================] - 1s 4ms/step - loss: 0.3632 - binary_accuracy: 0.8454\n",
            "Epoch 26/100\n",
            "195/195 [==============================] - 1s 4ms/step - loss: 0.3642 - binary_accuracy: 0.8467\n",
            "Epoch 27/100\n",
            "195/195 [==============================] - 1s 4ms/step - loss: 0.3608 - binary_accuracy: 0.8475\n",
            "Epoch 28/100\n",
            "195/195 [==============================] - 1s 4ms/step - loss: 0.3523 - binary_accuracy: 0.8503\n",
            "Epoch 29/100\n",
            "195/195 [==============================] - 0s 2ms/step - loss: 0.3508 - binary_accuracy: 0.8483\n",
            "Epoch 30/100\n",
            "195/195 [==============================] - 0s 2ms/step - loss: 0.3347 - binary_accuracy: 0.8613\n",
            "Epoch 31/100\n",
            "195/195 [==============================] - 0s 2ms/step - loss: 0.3372 - binary_accuracy: 0.8633\n",
            "Epoch 32/100\n",
            "195/195 [==============================] - 0s 2ms/step - loss: 0.3496 - binary_accuracy: 0.8541\n",
            "Epoch 33/100\n",
            "195/195 [==============================] - 0s 2ms/step - loss: 0.3432 - binary_accuracy: 0.8527\n",
            "Epoch 34/100\n",
            "195/195 [==============================] - 0s 2ms/step - loss: 0.3444 - binary_accuracy: 0.8567\n",
            "Epoch 35/100\n",
            "195/195 [==============================] - 1s 3ms/step - loss: 0.3638 - binary_accuracy: 0.8472\n",
            "Epoch 36/100\n",
            "195/195 [==============================] - 0s 2ms/step - loss: 0.3566 - binary_accuracy: 0.8520\n",
            "Epoch 37/100\n",
            "195/195 [==============================] - 0s 2ms/step - loss: 0.3317 - binary_accuracy: 0.8629\n",
            "Epoch 38/100\n",
            "195/195 [==============================] - 0s 2ms/step - loss: 0.3376 - binary_accuracy: 0.8610\n",
            "Epoch 39/100\n",
            "195/195 [==============================] - 0s 2ms/step - loss: 0.3365 - binary_accuracy: 0.8625\n",
            "Epoch 40/100\n",
            "195/195 [==============================] - 0s 2ms/step - loss: 0.3378 - binary_accuracy: 0.8613\n",
            "Epoch 41/100\n",
            "195/195 [==============================] - 0s 2ms/step - loss: 0.3321 - binary_accuracy: 0.8670\n",
            "Epoch 42/100\n",
            "195/195 [==============================] - 0s 3ms/step - loss: 0.3350 - binary_accuracy: 0.8646\n",
            "Epoch 43/100\n",
            "195/195 [==============================] - 0s 2ms/step - loss: 0.3599 - binary_accuracy: 0.8470\n",
            "Epoch 44/100\n",
            "195/195 [==============================] - 0s 2ms/step - loss: 0.3373 - binary_accuracy: 0.8602\n",
            "Epoch 45/100\n",
            "195/195 [==============================] - 1s 3ms/step - loss: 0.3448 - binary_accuracy: 0.8509\n",
            "Epoch 46/100\n",
            "195/195 [==============================] - 1s 3ms/step - loss: 0.3444 - binary_accuracy: 0.8565\n",
            "Epoch 47/100\n",
            "195/195 [==============================] - 1s 3ms/step - loss: 0.3523 - binary_accuracy: 0.8541\n",
            "Epoch 48/100\n",
            "195/195 [==============================] - 1s 3ms/step - loss: 0.3330 - binary_accuracy: 0.8642\n",
            "Epoch 49/100\n",
            "195/195 [==============================] - 1s 4ms/step - loss: 0.3371 - binary_accuracy: 0.8585\n",
            "Epoch 50/100\n",
            "195/195 [==============================] - 1s 4ms/step - loss: 0.3432 - binary_accuracy: 0.8533\n",
            "Epoch 51/100\n",
            "195/195 [==============================] - 1s 4ms/step - loss: 0.3295 - binary_accuracy: 0.8639\n",
            "Epoch 52/100\n",
            "195/195 [==============================] - 1s 4ms/step - loss: 0.3310 - binary_accuracy: 0.8644\n",
            "Epoch 53/100\n",
            "195/195 [==============================] - 1s 4ms/step - loss: 0.3297 - binary_accuracy: 0.8646\n",
            "Epoch 54/100\n",
            "195/195 [==============================] - 0s 2ms/step - loss: 0.3353 - binary_accuracy: 0.8609\n",
            "Epoch 55/100\n",
            "195/195 [==============================] - 1s 3ms/step - loss: 0.3336 - binary_accuracy: 0.8602\n",
            "Epoch 56/100\n",
            "195/195 [==============================] - 0s 2ms/step - loss: 0.3280 - binary_accuracy: 0.8634\n",
            "Epoch 57/100\n",
            "195/195 [==============================] - 1s 3ms/step - loss: 0.3301 - binary_accuracy: 0.8638\n",
            "Epoch 58/100\n",
            "195/195 [==============================] - 0s 2ms/step - loss: 0.3226 - binary_accuracy: 0.8692\n",
            "Epoch 59/100\n",
            "195/195 [==============================] - 1s 3ms/step - loss: 0.3294 - binary_accuracy: 0.8649\n",
            "Epoch 60/100\n",
            "195/195 [==============================] - 0s 2ms/step - loss: 0.3219 - binary_accuracy: 0.8691\n",
            "Epoch 61/100\n",
            "195/195 [==============================] - 1s 3ms/step - loss: 0.3350 - binary_accuracy: 0.8605\n",
            "Epoch 62/100\n",
            "195/195 [==============================] - 0s 2ms/step - loss: 0.3302 - binary_accuracy: 0.8641\n",
            "Epoch 63/100\n",
            "195/195 [==============================] - 0s 2ms/step - loss: 0.3302 - binary_accuracy: 0.8654\n",
            "Epoch 64/100\n",
            "195/195 [==============================] - 0s 2ms/step - loss: 0.3185 - binary_accuracy: 0.8713\n",
            "Epoch 65/100\n",
            "195/195 [==============================] - 1s 3ms/step - loss: 0.3189 - binary_accuracy: 0.8687\n",
            "Epoch 66/100\n",
            "195/195 [==============================] - 0s 2ms/step - loss: 0.3345 - binary_accuracy: 0.8609\n",
            "Epoch 67/100\n",
            "195/195 [==============================] - 0s 2ms/step - loss: 0.3176 - binary_accuracy: 0.8703\n",
            "Epoch 68/100\n",
            "195/195 [==============================] - 0s 3ms/step - loss: 0.3259 - binary_accuracy: 0.8681\n",
            "Epoch 69/100\n",
            "195/195 [==============================] - 0s 3ms/step - loss: 0.3221 - binary_accuracy: 0.8679\n",
            "Epoch 70/100\n",
            "195/195 [==============================] - 0s 2ms/step - loss: 0.3218 - binary_accuracy: 0.8671\n",
            "Epoch 71/100\n",
            "195/195 [==============================] - 0s 2ms/step - loss: 0.3260 - binary_accuracy: 0.8666\n",
            "Epoch 72/100\n",
            "195/195 [==============================] - 0s 2ms/step - loss: 0.3146 - binary_accuracy: 0.8707\n",
            "Epoch 73/100\n",
            "195/195 [==============================] - 0s 2ms/step - loss: 0.3247 - binary_accuracy: 0.8676\n",
            "Epoch 74/100\n",
            "195/195 [==============================] - 1s 4ms/step - loss: 0.3174 - binary_accuracy: 0.8728\n",
            "Epoch 75/100\n",
            "195/195 [==============================] - 1s 4ms/step - loss: 0.3335 - binary_accuracy: 0.8633\n",
            "Epoch 76/100\n",
            "195/195 [==============================] - 1s 4ms/step - loss: 0.3244 - binary_accuracy: 0.8671\n",
            "Epoch 77/100\n",
            "195/195 [==============================] - 1s 4ms/step - loss: 0.3202 - binary_accuracy: 0.8666\n",
            "Epoch 78/100\n",
            "195/195 [==============================] - 1s 4ms/step - loss: 0.3246 - binary_accuracy: 0.8621\n",
            "Epoch 79/100\n",
            "195/195 [==============================] - 0s 2ms/step - loss: 0.3197 - binary_accuracy: 0.8692\n",
            "Epoch 80/100\n",
            "195/195 [==============================] - 0s 2ms/step - loss: 0.3219 - binary_accuracy: 0.8683\n",
            "Epoch 81/100\n",
            "195/195 [==============================] - 0s 2ms/step - loss: 0.3264 - binary_accuracy: 0.8684\n",
            "Epoch 82/100\n",
            "195/195 [==============================] - 0s 3ms/step - loss: 0.3288 - binary_accuracy: 0.8646\n",
            "Epoch 83/100\n",
            "195/195 [==============================] - 1s 3ms/step - loss: 0.3090 - binary_accuracy: 0.8771\n",
            "Epoch 84/100\n",
            "195/195 [==============================] - 1s 3ms/step - loss: 0.3128 - binary_accuracy: 0.8726\n",
            "Epoch 85/100\n",
            "195/195 [==============================] - 1s 3ms/step - loss: 0.3098 - binary_accuracy: 0.8781\n",
            "Epoch 86/100\n",
            "195/195 [==============================] - 1s 3ms/step - loss: 0.3137 - binary_accuracy: 0.8708\n",
            "Epoch 87/100\n",
            "195/195 [==============================] - 1s 3ms/step - loss: 0.3179 - binary_accuracy: 0.8732\n",
            "Epoch 88/100\n",
            "195/195 [==============================] - 1s 3ms/step - loss: 0.3079 - binary_accuracy: 0.8777\n",
            "Epoch 89/100\n",
            "195/195 [==============================] - 0s 2ms/step - loss: 0.3164 - binary_accuracy: 0.8697\n",
            "Epoch 90/100\n",
            "195/195 [==============================] - 0s 2ms/step - loss: 0.3102 - binary_accuracy: 0.8732\n",
            "Epoch 91/100\n",
            "195/195 [==============================] - 1s 3ms/step - loss: 0.3139 - binary_accuracy: 0.8713\n",
            "Epoch 92/100\n",
            "195/195 [==============================] - 0s 3ms/step - loss: 0.3212 - binary_accuracy: 0.8699\n",
            "Epoch 93/100\n",
            "195/195 [==============================] - 1s 3ms/step - loss: 0.3165 - binary_accuracy: 0.8724\n",
            "Epoch 94/100\n",
            "195/195 [==============================] - 1s 3ms/step - loss: 0.3182 - binary_accuracy: 0.8699\n",
            "Epoch 95/100\n",
            "195/195 [==============================] - 1s 3ms/step - loss: 0.3136 - binary_accuracy: 0.8761\n",
            "Epoch 96/100\n",
            "195/195 [==============================] - 0s 3ms/step - loss: 0.3136 - binary_accuracy: 0.8781\n",
            "Epoch 97/100\n",
            "195/195 [==============================] - 0s 2ms/step - loss: 0.3075 - binary_accuracy: 0.8790\n",
            "Epoch 98/100\n",
            "195/195 [==============================] - 1s 3ms/step - loss: 0.3094 - binary_accuracy: 0.8707\n",
            "Epoch 99/100\n",
            "195/195 [==============================] - 1s 4ms/step - loss: 0.3153 - binary_accuracy: 0.8707\n",
            "Epoch 100/100\n",
            "195/195 [==============================] - 1s 4ms/step - loss: 0.3056 - binary_accuracy: 0.8769\n"
          ]
        }
      ]
    },
    {
      "cell_type": "code",
      "source": [
        "# Evaluate the model_3\n",
        "score_3 = model_3.evaluate(X_val, y_val, verbose=0)\n",
        "print(f'Test loss: {score_3[0]} / Test accuracy: {score_3[1]}')"
      ],
      "metadata": {
        "colab": {
          "base_uri": "https://localhost:8080/"
        },
        "id": "dv26fb5TeGGa",
        "outputId": "01ec0e93-67c0-466b-d83b-e0c35232ffa8"
      },
      "execution_count": 64,
      "outputs": [
        {
          "output_type": "stream",
          "name": "stdout",
          "text": [
            "Test loss: 0.3141501545906067 / Test accuracy: 0.8679305911064148\n"
          ]
        }
      ]
    },
    {
      "cell_type": "code",
      "source": [
        "# Train the model_4\n",
        "history = model_4.fit(X_val, y_val, epochs=100, batch_size=32)"
      ],
      "metadata": {
        "colab": {
          "base_uri": "https://localhost:8080/"
        },
        "id": "ksrusw9RfLzh",
        "outputId": "a3045e3e-7b13-4301-f9a1-9b1c2a2db494"
      },
      "execution_count": 65,
      "outputs": [
        {
          "output_type": "stream",
          "name": "stdout",
          "text": [
            "Epoch 1/100\n",
            "195/195 [==============================] - 2s 3ms/step - loss: 1.0546 - binary_accuracy: 0.5588\n",
            "Epoch 2/100\n",
            "195/195 [==============================] - 0s 2ms/step - loss: 0.7012 - binary_accuracy: 0.6309\n",
            "Epoch 3/100\n",
            "195/195 [==============================] - 1s 3ms/step - loss: 0.6873 - binary_accuracy: 0.6653\n",
            "Epoch 4/100\n",
            "195/195 [==============================] - 1s 3ms/step - loss: 0.5792 - binary_accuracy: 0.7367\n",
            "Epoch 5/100\n",
            "195/195 [==============================] - 1s 3ms/step - loss: 0.5474 - binary_accuracy: 0.7539\n",
            "Epoch 6/100\n",
            "195/195 [==============================] - 0s 2ms/step - loss: 0.5148 - binary_accuracy: 0.7649\n",
            "Epoch 7/100\n",
            "195/195 [==============================] - 1s 3ms/step - loss: 0.4495 - binary_accuracy: 0.8093\n",
            "Epoch 8/100\n",
            "195/195 [==============================] - 1s 3ms/step - loss: 0.4863 - binary_accuracy: 0.7887\n",
            "Epoch 9/100\n",
            "195/195 [==============================] - 1s 3ms/step - loss: 0.4522 - binary_accuracy: 0.8038\n",
            "Epoch 10/100\n",
            "195/195 [==============================] - 0s 2ms/step - loss: 0.4432 - binary_accuracy: 0.8107\n",
            "Epoch 11/100\n",
            "195/195 [==============================] - 1s 3ms/step - loss: 0.5163 - binary_accuracy: 0.7715\n",
            "Epoch 12/100\n",
            "195/195 [==============================] - 0s 2ms/step - loss: 0.4394 - binary_accuracy: 0.8099\n",
            "Epoch 13/100\n",
            "195/195 [==============================] - 0s 2ms/step - loss: 0.4204 - binary_accuracy: 0.8167\n",
            "Epoch 14/100\n",
            "195/195 [==============================] - 0s 3ms/step - loss: 0.3866 - binary_accuracy: 0.8363\n",
            "Epoch 15/100\n",
            "195/195 [==============================] - 0s 3ms/step - loss: 0.4052 - binary_accuracy: 0.8335\n",
            "Epoch 16/100\n",
            "195/195 [==============================] - 1s 3ms/step - loss: 0.3865 - binary_accuracy: 0.8392\n",
            "Epoch 17/100\n",
            "195/195 [==============================] - 0s 3ms/step - loss: 0.4063 - binary_accuracy: 0.8258\n",
            "Epoch 18/100\n",
            "195/195 [==============================] - 0s 2ms/step - loss: 0.4041 - binary_accuracy: 0.8257\n",
            "Epoch 19/100\n",
            "195/195 [==============================] - 1s 3ms/step - loss: 0.3831 - binary_accuracy: 0.8376\n",
            "Epoch 20/100\n",
            "195/195 [==============================] - 1s 4ms/step - loss: 0.3912 - binary_accuracy: 0.8300\n",
            "Epoch 21/100\n",
            "195/195 [==============================] - 1s 5ms/step - loss: 0.4054 - binary_accuracy: 0.8286\n",
            "Epoch 22/100\n",
            "195/195 [==============================] - 1s 4ms/step - loss: 0.4077 - binary_accuracy: 0.8247\n",
            "Epoch 23/100\n",
            "195/195 [==============================] - 1s 4ms/step - loss: 0.3661 - binary_accuracy: 0.8432\n",
            "Epoch 24/100\n",
            "195/195 [==============================] - 0s 2ms/step - loss: 0.4149 - binary_accuracy: 0.8239\n",
            "Epoch 25/100\n",
            "195/195 [==============================] - 0s 3ms/step - loss: 0.3815 - binary_accuracy: 0.8364\n",
            "Epoch 26/100\n",
            "195/195 [==============================] - 0s 3ms/step - loss: 0.3851 - binary_accuracy: 0.8321\n",
            "Epoch 27/100\n",
            "195/195 [==============================] - 1s 3ms/step - loss: 0.3656 - binary_accuracy: 0.8406\n",
            "Epoch 28/100\n",
            "195/195 [==============================] - 1s 3ms/step - loss: 0.3616 - binary_accuracy: 0.8478\n",
            "Epoch 29/100\n",
            "195/195 [==============================] - 0s 3ms/step - loss: 0.3691 - binary_accuracy: 0.8445\n",
            "Epoch 30/100\n",
            "195/195 [==============================] - 1s 3ms/step - loss: 0.4068 - binary_accuracy: 0.8273\n",
            "Epoch 31/100\n",
            "195/195 [==============================] - 1s 3ms/step - loss: 0.3684 - binary_accuracy: 0.8427\n",
            "Epoch 32/100\n",
            "195/195 [==============================] - 1s 3ms/step - loss: 0.3602 - binary_accuracy: 0.8450\n",
            "Epoch 33/100\n",
            "195/195 [==============================] - 0s 2ms/step - loss: 0.3764 - binary_accuracy: 0.8380\n",
            "Epoch 34/100\n",
            "195/195 [==============================] - 1s 3ms/step - loss: 0.3696 - binary_accuracy: 0.8414\n",
            "Epoch 35/100\n",
            "195/195 [==============================] - 1s 3ms/step - loss: 0.3659 - binary_accuracy: 0.8413\n",
            "Epoch 36/100\n",
            "195/195 [==============================] - 1s 3ms/step - loss: 0.3603 - binary_accuracy: 0.8472\n",
            "Epoch 37/100\n",
            "195/195 [==============================] - 1s 3ms/step - loss: 0.3627 - binary_accuracy: 0.8440\n",
            "Epoch 38/100\n",
            "195/195 [==============================] - 1s 3ms/step - loss: 0.3627 - binary_accuracy: 0.8433\n",
            "Epoch 39/100\n",
            "195/195 [==============================] - 1s 3ms/step - loss: 0.3551 - binary_accuracy: 0.8506\n",
            "Epoch 40/100\n",
            "195/195 [==============================] - 1s 3ms/step - loss: 0.3513 - binary_accuracy: 0.8548\n",
            "Epoch 41/100\n",
            "195/195 [==============================] - 1s 3ms/step - loss: 0.3436 - binary_accuracy: 0.8556\n",
            "Epoch 42/100\n",
            "195/195 [==============================] - 1s 3ms/step - loss: 0.3553 - binary_accuracy: 0.8491\n",
            "Epoch 43/100\n",
            "195/195 [==============================] - 1s 4ms/step - loss: 0.3485 - binary_accuracy: 0.8531\n",
            "Epoch 44/100\n",
            "195/195 [==============================] - 1s 4ms/step - loss: 0.3361 - binary_accuracy: 0.8618\n",
            "Epoch 45/100\n",
            "195/195 [==============================] - 1s 4ms/step - loss: 0.3490 - binary_accuracy: 0.8544\n",
            "Epoch 46/100\n",
            "195/195 [==============================] - 1s 4ms/step - loss: 0.3480 - binary_accuracy: 0.8573\n",
            "Epoch 47/100\n",
            "195/195 [==============================] - 1s 3ms/step - loss: 0.3354 - binary_accuracy: 0.8655\n",
            "Epoch 48/100\n",
            "195/195 [==============================] - 1s 3ms/step - loss: 0.3479 - binary_accuracy: 0.8575\n",
            "Epoch 49/100\n",
            "195/195 [==============================] - 1s 3ms/step - loss: 0.3530 - binary_accuracy: 0.8514\n",
            "Epoch 50/100\n",
            "195/195 [==============================] - 1s 3ms/step - loss: 0.3611 - binary_accuracy: 0.8453\n",
            "Epoch 51/100\n",
            "195/195 [==============================] - 1s 3ms/step - loss: 0.3429 - binary_accuracy: 0.8580\n",
            "Epoch 52/100\n",
            "195/195 [==============================] - 1s 3ms/step - loss: 0.3394 - binary_accuracy: 0.8609\n",
            "Epoch 53/100\n",
            "195/195 [==============================] - 1s 3ms/step - loss: 0.3520 - binary_accuracy: 0.8531\n",
            "Epoch 54/100\n",
            "195/195 [==============================] - 1s 3ms/step - loss: 0.3481 - binary_accuracy: 0.8535\n",
            "Epoch 55/100\n",
            "195/195 [==============================] - 1s 3ms/step - loss: 0.3338 - binary_accuracy: 0.8626\n",
            "Epoch 56/100\n",
            "195/195 [==============================] - 1s 3ms/step - loss: 0.3342 - binary_accuracy: 0.8654\n",
            "Epoch 57/100\n",
            "195/195 [==============================] - 1s 3ms/step - loss: 0.3348 - binary_accuracy: 0.8636\n",
            "Epoch 58/100\n",
            "195/195 [==============================] - 1s 3ms/step - loss: 0.3401 - binary_accuracy: 0.8609\n",
            "Epoch 59/100\n",
            "195/195 [==============================] - 1s 3ms/step - loss: 0.3295 - binary_accuracy: 0.8657\n",
            "Epoch 60/100\n",
            "195/195 [==============================] - 0s 3ms/step - loss: 0.3454 - binary_accuracy: 0.8578\n",
            "Epoch 61/100\n",
            "195/195 [==============================] - 0s 2ms/step - loss: 0.3244 - binary_accuracy: 0.8660\n",
            "Epoch 62/100\n",
            "195/195 [==============================] - 1s 3ms/step - loss: 0.3390 - binary_accuracy: 0.8612\n",
            "Epoch 63/100\n",
            "195/195 [==============================] - 0s 3ms/step - loss: 0.3335 - binary_accuracy: 0.8617\n",
            "Epoch 64/100\n",
            "195/195 [==============================] - 1s 3ms/step - loss: 0.3359 - binary_accuracy: 0.8602\n",
            "Epoch 65/100\n",
            "195/195 [==============================] - 1s 3ms/step - loss: 0.3283 - binary_accuracy: 0.8674\n",
            "Epoch 66/100\n",
            "195/195 [==============================] - 1s 4ms/step - loss: 0.3421 - binary_accuracy: 0.8564\n",
            "Epoch 67/100\n",
            "195/195 [==============================] - 1s 5ms/step - loss: 0.3289 - binary_accuracy: 0.8684\n",
            "Epoch 68/100\n",
            "195/195 [==============================] - 1s 4ms/step - loss: 0.3249 - binary_accuracy: 0.8703\n",
            "Epoch 69/100\n",
            "195/195 [==============================] - 1s 4ms/step - loss: 0.3711 - binary_accuracy: 0.8446\n",
            "Epoch 70/100\n",
            "195/195 [==============================] - 1s 3ms/step - loss: 0.3355 - binary_accuracy: 0.8594\n",
            "Epoch 71/100\n",
            "195/195 [==============================] - 1s 3ms/step - loss: 0.3240 - binary_accuracy: 0.8681\n",
            "Epoch 72/100\n",
            "195/195 [==============================] - 1s 3ms/step - loss: 0.3358 - binary_accuracy: 0.8568\n",
            "Epoch 73/100\n",
            "195/195 [==============================] - 1s 3ms/step - loss: 0.3312 - binary_accuracy: 0.8636\n",
            "Epoch 74/100\n",
            "195/195 [==============================] - 1s 3ms/step - loss: 0.3241 - binary_accuracy: 0.8686\n",
            "Epoch 75/100\n",
            "195/195 [==============================] - 1s 3ms/step - loss: 0.3249 - binary_accuracy: 0.8694\n",
            "Epoch 76/100\n",
            "195/195 [==============================] - 1s 3ms/step - loss: 0.3281 - binary_accuracy: 0.8623\n",
            "Epoch 77/100\n",
            "195/195 [==============================] - 1s 3ms/step - loss: 0.3285 - binary_accuracy: 0.8666\n",
            "Epoch 78/100\n",
            "195/195 [==============================] - 1s 3ms/step - loss: 0.3353 - binary_accuracy: 0.8618\n",
            "Epoch 79/100\n",
            "195/195 [==============================] - 1s 3ms/step - loss: 0.3265 - binary_accuracy: 0.8623\n",
            "Epoch 80/100\n",
            "195/195 [==============================] - 1s 3ms/step - loss: 0.3264 - binary_accuracy: 0.8674\n",
            "Epoch 81/100\n",
            "195/195 [==============================] - 1s 3ms/step - loss: 0.3188 - binary_accuracy: 0.8723\n",
            "Epoch 82/100\n",
            "195/195 [==============================] - 1s 3ms/step - loss: 0.3169 - binary_accuracy: 0.8707\n",
            "Epoch 83/100\n",
            "195/195 [==============================] - 1s 3ms/step - loss: 0.3210 - binary_accuracy: 0.8666\n",
            "Epoch 84/100\n",
            "195/195 [==============================] - 1s 3ms/step - loss: 0.3285 - binary_accuracy: 0.8691\n",
            "Epoch 85/100\n",
            "195/195 [==============================] - 0s 2ms/step - loss: 0.3275 - binary_accuracy: 0.8665\n",
            "Epoch 86/100\n",
            "195/195 [==============================] - 1s 3ms/step - loss: 0.3256 - binary_accuracy: 0.8628\n",
            "Epoch 87/100\n",
            "195/195 [==============================] - 0s 3ms/step - loss: 0.3315 - binary_accuracy: 0.8626\n",
            "Epoch 88/100\n",
            "195/195 [==============================] - 1s 3ms/step - loss: 0.3193 - binary_accuracy: 0.8687\n",
            "Epoch 89/100\n",
            "195/195 [==============================] - 1s 4ms/step - loss: 0.3281 - binary_accuracy: 0.8629\n",
            "Epoch 90/100\n",
            "195/195 [==============================] - 1s 4ms/step - loss: 0.3197 - binary_accuracy: 0.8686\n",
            "Epoch 91/100\n",
            "195/195 [==============================] - 1s 4ms/step - loss: 0.3237 - binary_accuracy: 0.8666\n",
            "Epoch 92/100\n",
            "195/195 [==============================] - 1s 4ms/step - loss: 0.3232 - binary_accuracy: 0.8676\n",
            "Epoch 93/100\n",
            "195/195 [==============================] - 1s 3ms/step - loss: 0.3292 - binary_accuracy: 0.8638\n",
            "Epoch 94/100\n",
            "195/195 [==============================] - 1s 3ms/step - loss: 0.3228 - binary_accuracy: 0.8674\n",
            "Epoch 95/100\n",
            "195/195 [==============================] - 0s 3ms/step - loss: 0.3289 - binary_accuracy: 0.8655\n",
            "Epoch 96/100\n",
            "195/195 [==============================] - 1s 3ms/step - loss: 0.3328 - binary_accuracy: 0.8638\n",
            "Epoch 97/100\n",
            "195/195 [==============================] - 0s 2ms/step - loss: 0.3215 - binary_accuracy: 0.8703\n",
            "Epoch 98/100\n",
            "195/195 [==============================] - 1s 3ms/step - loss: 0.3140 - binary_accuracy: 0.8734\n",
            "Epoch 99/100\n",
            "195/195 [==============================] - 1s 3ms/step - loss: 0.3206 - binary_accuracy: 0.8695\n",
            "Epoch 100/100\n",
            "195/195 [==============================] - 1s 3ms/step - loss: 0.3100 - binary_accuracy: 0.8748\n"
          ]
        }
      ]
    },
    {
      "cell_type": "code",
      "source": [
        "# Evaluate the model_4\n",
        "score_4 = model_4.evaluate(X_val, y_val, verbose=0)\n",
        "print(f'Test loss: {score_4[0]} / Test accuracy: {score_4[1]}')"
      ],
      "metadata": {
        "colab": {
          "base_uri": "https://localhost:8080/"
        },
        "id": "KEieIh2SfOJo",
        "outputId": "a62aa508-0ff1-43ea-d32a-a51289361c2d"
      },
      "execution_count": 66,
      "outputs": [
        {
          "output_type": "stream",
          "name": "stdout",
          "text": [
            "Test loss: 0.3274873197078705 / Test accuracy: 0.8611825108528137\n"
          ]
        }
      ]
    },
    {
      "cell_type": "code",
      "source": [
        "# Train the model_5\n",
        "history = model_5.fit(X_val, y_val, epochs=100, batch_size=32)"
      ],
      "metadata": {
        "colab": {
          "base_uri": "https://localhost:8080/"
        },
        "id": "1QUu0QLMgDKX",
        "outputId": "254960a6-202b-4b77-f35a-abcc05dda272"
      },
      "execution_count": 67,
      "outputs": [
        {
          "output_type": "stream",
          "name": "stdout",
          "text": [
            "Epoch 1/100\n",
            "195/195 [==============================] - 2s 4ms/step - loss: 1.4112 - binary_accuracy: 0.5370\n",
            "Epoch 2/100\n",
            "195/195 [==============================] - 1s 3ms/step - loss: 0.6766 - binary_accuracy: 0.5996\n",
            "Epoch 3/100\n",
            "195/195 [==============================] - 1s 3ms/step - loss: 0.6371 - binary_accuracy: 0.6623\n",
            "Epoch 4/100\n",
            "195/195 [==============================] - 1s 4ms/step - loss: 0.5547 - binary_accuracy: 0.7277\n",
            "Epoch 5/100\n",
            "195/195 [==============================] - 1s 3ms/step - loss: 0.5150 - binary_accuracy: 0.7588\n",
            "Epoch 6/100\n",
            "195/195 [==============================] - 1s 3ms/step - loss: 0.4445 - binary_accuracy: 0.8035\n",
            "Epoch 7/100\n",
            "195/195 [==============================] - 1s 4ms/step - loss: 0.4414 - binary_accuracy: 0.8025\n",
            "Epoch 8/100\n",
            "195/195 [==============================] - 1s 3ms/step - loss: 0.4163 - binary_accuracy: 0.8138\n",
            "Epoch 9/100\n",
            "195/195 [==============================] - 1s 3ms/step - loss: 0.4081 - binary_accuracy: 0.8212\n",
            "Epoch 10/100\n",
            "195/195 [==============================] - 1s 4ms/step - loss: 0.4027 - binary_accuracy: 0.8254\n",
            "Epoch 11/100\n",
            "195/195 [==============================] - 1s 5ms/step - loss: 0.3937 - binary_accuracy: 0.8287\n",
            "Epoch 12/100\n",
            "195/195 [==============================] - 1s 6ms/step - loss: 0.3918 - binary_accuracy: 0.8295\n",
            "Epoch 13/100\n",
            "195/195 [==============================] - 1s 6ms/step - loss: 0.3864 - binary_accuracy: 0.8315\n",
            "Epoch 14/100\n",
            "195/195 [==============================] - 1s 4ms/step - loss: 0.3794 - binary_accuracy: 0.8369\n",
            "Epoch 15/100\n",
            "195/195 [==============================] - 1s 3ms/step - loss: 0.3569 - binary_accuracy: 0.8477\n",
            "Epoch 16/100\n",
            "195/195 [==============================] - 1s 3ms/step - loss: 0.3572 - binary_accuracy: 0.8466\n",
            "Epoch 17/100\n",
            "195/195 [==============================] - 1s 3ms/step - loss: 0.3903 - binary_accuracy: 0.8252\n",
            "Epoch 18/100\n",
            "195/195 [==============================] - 1s 3ms/step - loss: 0.3751 - binary_accuracy: 0.8385\n",
            "Epoch 19/100\n",
            "195/195 [==============================] - 1s 3ms/step - loss: 0.3890 - binary_accuracy: 0.8303\n",
            "Epoch 20/100\n",
            "195/195 [==============================] - 1s 3ms/step - loss: 0.3510 - binary_accuracy: 0.8562\n",
            "Epoch 21/100\n",
            "195/195 [==============================] - 1s 3ms/step - loss: 0.3641 - binary_accuracy: 0.8459\n",
            "Epoch 22/100\n",
            "195/195 [==============================] - 1s 4ms/step - loss: 0.3445 - binary_accuracy: 0.8548\n",
            "Epoch 23/100\n",
            "195/195 [==============================] - 1s 3ms/step - loss: 0.3793 - binary_accuracy: 0.8382\n",
            "Epoch 24/100\n",
            "195/195 [==============================] - 1s 3ms/step - loss: 0.3668 - binary_accuracy: 0.8467\n",
            "Epoch 25/100\n",
            "195/195 [==============================] - 1s 3ms/step - loss: 0.3449 - binary_accuracy: 0.8540\n",
            "Epoch 26/100\n",
            "195/195 [==============================] - 1s 3ms/step - loss: 0.3489 - binary_accuracy: 0.8514\n",
            "Epoch 27/100\n",
            "195/195 [==============================] - 1s 4ms/step - loss: 0.3436 - binary_accuracy: 0.8575\n",
            "Epoch 28/100\n",
            "195/195 [==============================] - 1s 4ms/step - loss: 0.3527 - binary_accuracy: 0.8512\n",
            "Epoch 29/100\n",
            "195/195 [==============================] - 1s 5ms/step - loss: 0.3646 - binary_accuracy: 0.8433\n",
            "Epoch 30/100\n",
            "195/195 [==============================] - 1s 6ms/step - loss: 0.3427 - binary_accuracy: 0.8531\n",
            "Epoch 31/100\n",
            "195/195 [==============================] - 1s 5ms/step - loss: 0.3495 - binary_accuracy: 0.8531\n",
            "Epoch 32/100\n",
            "195/195 [==============================] - 1s 3ms/step - loss: 0.3337 - binary_accuracy: 0.8613\n",
            "Epoch 33/100\n",
            "195/195 [==============================] - 1s 3ms/step - loss: 0.3562 - binary_accuracy: 0.8482\n",
            "Epoch 34/100\n",
            "195/195 [==============================] - 1s 3ms/step - loss: 0.3411 - binary_accuracy: 0.8575\n",
            "Epoch 35/100\n",
            "195/195 [==============================] - 1s 3ms/step - loss: 0.3478 - binary_accuracy: 0.8536\n",
            "Epoch 36/100\n",
            "195/195 [==============================] - 1s 3ms/step - loss: 0.3373 - binary_accuracy: 0.8581\n",
            "Epoch 37/100\n",
            "195/195 [==============================] - 1s 3ms/step - loss: 0.3326 - binary_accuracy: 0.8610\n",
            "Epoch 38/100\n",
            "195/195 [==============================] - 1s 3ms/step - loss: 0.3315 - binary_accuracy: 0.8650\n",
            "Epoch 39/100\n",
            "195/195 [==============================] - 1s 3ms/step - loss: 0.3383 - binary_accuracy: 0.8572\n",
            "Epoch 40/100\n",
            "195/195 [==============================] - 1s 3ms/step - loss: 0.3470 - binary_accuracy: 0.8517\n",
            "Epoch 41/100\n",
            "195/195 [==============================] - 1s 3ms/step - loss: 0.3294 - binary_accuracy: 0.8658\n",
            "Epoch 42/100\n",
            "195/195 [==============================] - 1s 3ms/step - loss: 0.3278 - binary_accuracy: 0.8639\n",
            "Epoch 43/100\n",
            "195/195 [==============================] - 1s 3ms/step - loss: 0.3193 - binary_accuracy: 0.8699\n",
            "Epoch 44/100\n",
            "195/195 [==============================] - 1s 3ms/step - loss: 0.3391 - binary_accuracy: 0.8575\n",
            "Epoch 45/100\n",
            "195/195 [==============================] - 1s 3ms/step - loss: 0.3287 - binary_accuracy: 0.8657\n",
            "Epoch 46/100\n",
            "195/195 [==============================] - 1s 3ms/step - loss: 0.3346 - binary_accuracy: 0.8626\n",
            "Epoch 47/100\n",
            "195/195 [==============================] - 1s 5ms/step - loss: 0.3269 - binary_accuracy: 0.8638\n",
            "Epoch 48/100\n",
            "195/195 [==============================] - 1s 5ms/step - loss: 0.3327 - binary_accuracy: 0.8576\n",
            "Epoch 49/100\n",
            "195/195 [==============================] - 1s 5ms/step - loss: 0.3321 - binary_accuracy: 0.8588\n",
            "Epoch 50/100\n",
            "195/195 [==============================] - 1s 5ms/step - loss: 0.3228 - binary_accuracy: 0.8649\n",
            "Epoch 51/100\n",
            "195/195 [==============================] - 1s 3ms/step - loss: 0.3352 - binary_accuracy: 0.8607\n",
            "Epoch 52/100\n",
            "195/195 [==============================] - 1s 3ms/step - loss: 0.3306 - binary_accuracy: 0.8633\n",
            "Epoch 53/100\n",
            "195/195 [==============================] - 1s 3ms/step - loss: 0.3339 - binary_accuracy: 0.8593\n",
            "Epoch 54/100\n",
            "195/195 [==============================] - 1s 3ms/step - loss: 0.3321 - binary_accuracy: 0.8607\n",
            "Epoch 55/100\n",
            "195/195 [==============================] - 1s 3ms/step - loss: 0.3194 - binary_accuracy: 0.8684\n",
            "Epoch 56/100\n",
            "195/195 [==============================] - 1s 3ms/step - loss: 0.3207 - binary_accuracy: 0.8670\n",
            "Epoch 57/100\n",
            "195/195 [==============================] - 1s 3ms/step - loss: 0.3183 - binary_accuracy: 0.8654\n",
            "Epoch 58/100\n",
            "195/195 [==============================] - 1s 3ms/step - loss: 0.3267 - binary_accuracy: 0.8615\n",
            "Epoch 59/100\n",
            "195/195 [==============================] - 1s 3ms/step - loss: 0.3139 - binary_accuracy: 0.8729\n",
            "Epoch 60/100\n",
            "195/195 [==============================] - 1s 3ms/step - loss: 0.3113 - binary_accuracy: 0.8740\n",
            "Epoch 61/100\n",
            "195/195 [==============================] - 1s 3ms/step - loss: 0.3156 - binary_accuracy: 0.8719\n",
            "Epoch 62/100\n",
            "195/195 [==============================] - 1s 3ms/step - loss: 0.3254 - binary_accuracy: 0.8621\n",
            "Epoch 63/100\n",
            "195/195 [==============================] - 1s 3ms/step - loss: 0.3263 - binary_accuracy: 0.8628\n",
            "Epoch 64/100\n",
            "195/195 [==============================] - 1s 3ms/step - loss: 0.3178 - binary_accuracy: 0.8668\n",
            "Epoch 65/100\n",
            "195/195 [==============================] - 1s 4ms/step - loss: 0.3241 - binary_accuracy: 0.8647\n",
            "Epoch 66/100\n",
            "195/195 [==============================] - 1s 5ms/step - loss: 0.3214 - binary_accuracy: 0.8694\n",
            "Epoch 67/100\n",
            "195/195 [==============================] - 1s 6ms/step - loss: 0.3273 - binary_accuracy: 0.8662\n",
            "Epoch 68/100\n",
            "195/195 [==============================] - 1s 5ms/step - loss: 0.3195 - binary_accuracy: 0.8678\n",
            "Epoch 69/100\n",
            "195/195 [==============================] - 1s 4ms/step - loss: 0.3159 - binary_accuracy: 0.8707\n",
            "Epoch 70/100\n",
            "195/195 [==============================] - 1s 3ms/step - loss: 0.3344 - binary_accuracy: 0.8607\n",
            "Epoch 71/100\n",
            "195/195 [==============================] - 1s 3ms/step - loss: 0.3111 - binary_accuracy: 0.8734\n",
            "Epoch 72/100\n",
            "195/195 [==============================] - 1s 3ms/step - loss: 0.3184 - binary_accuracy: 0.8668\n",
            "Epoch 73/100\n",
            "195/195 [==============================] - 1s 3ms/step - loss: 0.3160 - binary_accuracy: 0.8689\n",
            "Epoch 74/100\n",
            "195/195 [==============================] - 1s 3ms/step - loss: 0.3208 - binary_accuracy: 0.8665\n",
            "Epoch 75/100\n",
            "195/195 [==============================] - 1s 3ms/step - loss: 0.3206 - binary_accuracy: 0.8660\n",
            "Epoch 76/100\n",
            "195/195 [==============================] - 1s 3ms/step - loss: 0.3151 - binary_accuracy: 0.8679\n",
            "Epoch 77/100\n",
            "195/195 [==============================] - 1s 3ms/step - loss: 0.3183 - binary_accuracy: 0.8699\n",
            "Epoch 78/100\n",
            "195/195 [==============================] - 1s 3ms/step - loss: 0.3207 - binary_accuracy: 0.8668\n",
            "Epoch 79/100\n",
            "195/195 [==============================] - 1s 3ms/step - loss: 0.3103 - binary_accuracy: 0.8729\n",
            "Epoch 80/100\n",
            "195/195 [==============================] - 1s 4ms/step - loss: 0.3099 - binary_accuracy: 0.8708\n",
            "Epoch 81/100\n",
            "195/195 [==============================] - 1s 3ms/step - loss: 0.3141 - binary_accuracy: 0.8692\n",
            "Epoch 82/100\n",
            "195/195 [==============================] - 1s 3ms/step - loss: 0.3111 - binary_accuracy: 0.8707\n",
            "Epoch 83/100\n",
            "195/195 [==============================] - 1s 4ms/step - loss: 0.3136 - binary_accuracy: 0.8694\n",
            "Epoch 84/100\n",
            "195/195 [==============================] - 1s 6ms/step - loss: 0.3095 - binary_accuracy: 0.8724\n",
            "Epoch 85/100\n",
            "195/195 [==============================] - 1s 6ms/step - loss: 0.3097 - binary_accuracy: 0.8732\n",
            "Epoch 86/100\n",
            "195/195 [==============================] - 1s 6ms/step - loss: 0.3068 - binary_accuracy: 0.8724\n",
            "Epoch 87/100\n",
            "195/195 [==============================] - 1s 4ms/step - loss: 0.3119 - binary_accuracy: 0.8742\n",
            "Epoch 88/100\n",
            "195/195 [==============================] - 1s 3ms/step - loss: 0.3214 - binary_accuracy: 0.8666\n",
            "Epoch 89/100\n",
            "195/195 [==============================] - 1s 3ms/step - loss: 0.3176 - binary_accuracy: 0.8697\n",
            "Epoch 90/100\n",
            "195/195 [==============================] - 1s 4ms/step - loss: 0.3303 - binary_accuracy: 0.8585\n",
            "Epoch 91/100\n",
            "195/195 [==============================] - 1s 4ms/step - loss: 0.3086 - binary_accuracy: 0.8753\n",
            "Epoch 92/100\n",
            "195/195 [==============================] - 1s 3ms/step - loss: 0.3077 - binary_accuracy: 0.8756\n",
            "Epoch 93/100\n",
            "195/195 [==============================] - 1s 4ms/step - loss: 0.3059 - binary_accuracy: 0.8750\n",
            "Epoch 94/100\n",
            "195/195 [==============================] - 1s 4ms/step - loss: 0.3001 - binary_accuracy: 0.8774\n",
            "Epoch 95/100\n",
            "195/195 [==============================] - 1s 3ms/step - loss: 0.3031 - binary_accuracy: 0.8764\n",
            "Epoch 96/100\n",
            "195/195 [==============================] - 1s 3ms/step - loss: 0.3038 - binary_accuracy: 0.8745\n",
            "Epoch 97/100\n",
            "195/195 [==============================] - 1s 4ms/step - loss: 0.3132 - binary_accuracy: 0.8737\n",
            "Epoch 98/100\n",
            "195/195 [==============================] - 1s 3ms/step - loss: 0.3087 - binary_accuracy: 0.8742\n",
            "Epoch 99/100\n",
            "195/195 [==============================] - 1s 4ms/step - loss: 0.3045 - binary_accuracy: 0.8731\n",
            "Epoch 100/100\n",
            "195/195 [==============================] - 1s 4ms/step - loss: 0.3032 - binary_accuracy: 0.8781\n"
          ]
        }
      ]
    },
    {
      "cell_type": "code",
      "source": [
        "# Evaluate the model_5\n",
        "score_5 = model_5.evaluate(X_val, y_val, verbose=0)\n",
        "print(f'Test loss: {score_5[0]} / Test accuracy: {score_5[1]}')"
      ],
      "metadata": {
        "colab": {
          "base_uri": "https://localhost:8080/"
        },
        "id": "9yC16lysgF9n",
        "outputId": "6cd91fb6-8093-467c-9e04-761ff6952e54"
      },
      "execution_count": 68,
      "outputs": [
        {
          "output_type": "stream",
          "name": "stdout",
          "text": [
            "Test loss: 0.2889428436756134 / Test accuracy: 0.8835154175758362\n"
          ]
        }
      ]
    },
    {
      "cell_type": "code",
      "source": [
        "# Train the model_6\n",
        "history = model_6.fit(X_val, y_val, epochs=100, batch_size=32)"
      ],
      "metadata": {
        "colab": {
          "base_uri": "https://localhost:8080/"
        },
        "id": "VXfvk5K039pU",
        "outputId": "6d344a98-2def-4e96-a226-1656d9e01b6d"
      },
      "execution_count": 69,
      "outputs": [
        {
          "output_type": "stream",
          "name": "stdout",
          "text": [
            "Epoch 1/100\n",
            "195/195 [==============================] - 4s 5ms/step - loss: 0.6981 - binary_accuracy: 0.5259\n",
            "Epoch 2/100\n",
            "195/195 [==============================] - 1s 5ms/step - loss: 0.6870 - binary_accuracy: 0.5631\n",
            "Epoch 3/100\n",
            "195/195 [==============================] - 1s 5ms/step - loss: 0.6854 - binary_accuracy: 0.5611\n",
            "Epoch 4/100\n",
            "195/195 [==============================] - 2s 8ms/step - loss: 0.6858 - binary_accuracy: 0.5596\n",
            "Epoch 5/100\n",
            "195/195 [==============================] - 2s 8ms/step - loss: 0.6784 - binary_accuracy: 0.5776\n",
            "Epoch 6/100\n",
            "195/195 [==============================] - 1s 6ms/step - loss: 0.6495 - binary_accuracy: 0.6192\n",
            "Epoch 7/100\n",
            "195/195 [==============================] - 1s 5ms/step - loss: 0.6913 - binary_accuracy: 0.5315\n",
            "Epoch 8/100\n",
            "195/195 [==============================] - 1s 5ms/step - loss: 0.6894 - binary_accuracy: 0.5421\n",
            "Epoch 9/100\n",
            "195/195 [==============================] - 1s 5ms/step - loss: 0.6909 - binary_accuracy: 0.5411\n",
            "Epoch 10/100\n",
            "195/195 [==============================] - 1s 5ms/step - loss: 0.6828 - binary_accuracy: 0.5615\n",
            "Epoch 11/100\n",
            "195/195 [==============================] - 1s 5ms/step - loss: 0.6883 - binary_accuracy: 0.5471\n",
            "Epoch 12/100\n",
            "195/195 [==============================] - 1s 5ms/step - loss: 0.6862 - binary_accuracy: 0.5586\n",
            "Epoch 13/100\n",
            "195/195 [==============================] - 1s 5ms/step - loss: 0.6886 - binary_accuracy: 0.5435\n",
            "Epoch 14/100\n",
            "195/195 [==============================] - 1s 4ms/step - loss: 0.6866 - binary_accuracy: 0.5575\n",
            "Epoch 15/100\n",
            "195/195 [==============================] - 1s 4ms/step - loss: 0.6874 - binary_accuracy: 0.5479\n",
            "Epoch 16/100\n",
            "195/195 [==============================] - 1s 5ms/step - loss: 0.6845 - binary_accuracy: 0.5652\n",
            "Epoch 17/100\n",
            "195/195 [==============================] - 1s 7ms/step - loss: 0.6864 - binary_accuracy: 0.5541\n",
            "Epoch 18/100\n",
            "195/195 [==============================] - 2s 8ms/step - loss: 0.6807 - binary_accuracy: 0.5795\n",
            "Epoch 19/100\n",
            "195/195 [==============================] - 1s 6ms/step - loss: 0.6475 - binary_accuracy: 0.6207\n",
            "Epoch 20/100\n",
            "195/195 [==============================] - 1s 5ms/step - loss: 0.6916 - binary_accuracy: 0.5308\n",
            "Epoch 21/100\n",
            "195/195 [==============================] - 1s 5ms/step - loss: 0.6855 - binary_accuracy: 0.5448\n",
            "Epoch 22/100\n",
            "195/195 [==============================] - 1s 5ms/step - loss: 0.6903 - binary_accuracy: 0.5349\n",
            "Epoch 23/100\n",
            "195/195 [==============================] - 1s 5ms/step - loss: 0.6869 - binary_accuracy: 0.5556\n",
            "Epoch 24/100\n",
            "195/195 [==============================] - 1s 5ms/step - loss: 0.6863 - binary_accuracy: 0.5530\n",
            "Epoch 25/100\n",
            "195/195 [==============================] - 1s 5ms/step - loss: 0.6843 - binary_accuracy: 0.5580\n",
            "Epoch 26/100\n",
            "195/195 [==============================] - 1s 5ms/step - loss: 0.6843 - binary_accuracy: 0.5603\n",
            "Epoch 27/100\n",
            "195/195 [==============================] - 1s 5ms/step - loss: 0.6846 - binary_accuracy: 0.5609\n",
            "Epoch 28/100\n",
            "195/195 [==============================] - 1s 5ms/step - loss: 0.6827 - binary_accuracy: 0.5697\n",
            "Epoch 29/100\n",
            "195/195 [==============================] - 1s 5ms/step - loss: 0.6831 - binary_accuracy: 0.5646\n",
            "Epoch 30/100\n",
            "195/195 [==============================] - 2s 8ms/step - loss: 0.6598 - binary_accuracy: 0.6146\n",
            "Epoch 31/100\n",
            "195/195 [==============================] - 2s 8ms/step - loss: 0.5494 - binary_accuracy: 0.7338\n",
            "Epoch 32/100\n",
            "195/195 [==============================] - 1s 5ms/step - loss: 0.4461 - binary_accuracy: 0.8030\n",
            "Epoch 33/100\n",
            "195/195 [==============================] - 1s 5ms/step - loss: 0.4039 - binary_accuracy: 0.8233\n",
            "Epoch 34/100\n",
            "195/195 [==============================] - 1s 5ms/step - loss: 0.4045 - binary_accuracy: 0.8244\n",
            "Epoch 35/100\n",
            "195/195 [==============================] - 1s 5ms/step - loss: 0.3863 - binary_accuracy: 0.8347\n",
            "Epoch 36/100\n",
            "195/195 [==============================] - 1s 5ms/step - loss: 0.3800 - binary_accuracy: 0.8371\n",
            "Epoch 37/100\n",
            "195/195 [==============================] - 1s 5ms/step - loss: 0.3863 - binary_accuracy: 0.8340\n",
            "Epoch 38/100\n",
            "195/195 [==============================] - 1s 5ms/step - loss: 0.3714 - binary_accuracy: 0.8445\n",
            "Epoch 39/100\n",
            "195/195 [==============================] - 1s 5ms/step - loss: 0.3648 - binary_accuracy: 0.8488\n",
            "Epoch 40/100\n",
            "195/195 [==============================] - 1s 5ms/step - loss: 0.3630 - binary_accuracy: 0.8467\n",
            "Epoch 41/100\n",
            "195/195 [==============================] - 1s 5ms/step - loss: 0.3742 - binary_accuracy: 0.8440\n",
            "Epoch 42/100\n",
            "195/195 [==============================] - 1s 6ms/step - loss: 0.3527 - binary_accuracy: 0.8535\n",
            "Epoch 43/100\n",
            "195/195 [==============================] - 2s 8ms/step - loss: 0.3552 - binary_accuracy: 0.8570\n",
            "Epoch 44/100\n",
            "195/195 [==============================] - 2s 8ms/step - loss: 0.3462 - binary_accuracy: 0.8575\n",
            "Epoch 45/100\n",
            "195/195 [==============================] - 1s 5ms/step - loss: 0.3490 - binary_accuracy: 0.8536\n",
            "Epoch 46/100\n",
            "195/195 [==============================] - 1s 5ms/step - loss: 0.3456 - binary_accuracy: 0.8543\n",
            "Epoch 47/100\n",
            "195/195 [==============================] - 1s 5ms/step - loss: 0.3487 - binary_accuracy: 0.8538\n",
            "Epoch 48/100\n",
            "195/195 [==============================] - 1s 5ms/step - loss: 0.3370 - binary_accuracy: 0.8610\n",
            "Epoch 49/100\n",
            "195/195 [==============================] - 1s 5ms/step - loss: 0.3341 - binary_accuracy: 0.8620\n",
            "Epoch 50/100\n",
            "195/195 [==============================] - 1s 5ms/step - loss: 0.3346 - binary_accuracy: 0.8618\n",
            "Epoch 51/100\n",
            "195/195 [==============================] - 1s 5ms/step - loss: 0.3437 - binary_accuracy: 0.8517\n",
            "Epoch 52/100\n",
            "195/195 [==============================] - 1s 5ms/step - loss: 0.3391 - binary_accuracy: 0.8583\n",
            "Epoch 53/100\n",
            "195/195 [==============================] - 1s 5ms/step - loss: 0.3318 - binary_accuracy: 0.8628\n",
            "Epoch 54/100\n",
            "195/195 [==============================] - 1s 5ms/step - loss: 0.3340 - binary_accuracy: 0.8585\n",
            "Epoch 55/100\n",
            "195/195 [==============================] - 1s 5ms/step - loss: 0.3244 - binary_accuracy: 0.8673\n",
            "Epoch 56/100\n",
            "195/195 [==============================] - 1s 8ms/step - loss: 0.3228 - binary_accuracy: 0.8691\n",
            "Epoch 57/100\n",
            "195/195 [==============================] - 2s 8ms/step - loss: 0.3235 - binary_accuracy: 0.8679\n",
            "Epoch 58/100\n",
            "195/195 [==============================] - 1s 6ms/step - loss: 0.3465 - binary_accuracy: 0.8515\n",
            "Epoch 59/100\n",
            "195/195 [==============================] - 1s 5ms/step - loss: 0.3376 - binary_accuracy: 0.8557\n",
            "Epoch 60/100\n",
            "195/195 [==============================] - 1s 5ms/step - loss: 0.3188 - binary_accuracy: 0.8705\n",
            "Epoch 61/100\n",
            "195/195 [==============================] - 1s 5ms/step - loss: 0.3232 - binary_accuracy: 0.8657\n",
            "Epoch 62/100\n",
            "195/195 [==============================] - 1s 5ms/step - loss: 0.3315 - binary_accuracy: 0.8636\n",
            "Epoch 63/100\n",
            "195/195 [==============================] - 1s 5ms/step - loss: 0.3182 - binary_accuracy: 0.8694\n",
            "Epoch 64/100\n",
            "195/195 [==============================] - 1s 5ms/step - loss: 0.3266 - binary_accuracy: 0.8620\n",
            "Epoch 65/100\n",
            "195/195 [==============================] - 1s 5ms/step - loss: 0.3265 - binary_accuracy: 0.8647\n",
            "Epoch 66/100\n",
            "195/195 [==============================] - 1s 5ms/step - loss: 0.3224 - binary_accuracy: 0.8655\n",
            "Epoch 67/100\n",
            "195/195 [==============================] - 1s 5ms/step - loss: 0.3199 - binary_accuracy: 0.8695\n",
            "Epoch 68/100\n",
            "195/195 [==============================] - 1s 5ms/step - loss: 0.3205 - binary_accuracy: 0.8699\n",
            "Epoch 69/100\n",
            "195/195 [==============================] - 1s 7ms/step - loss: 0.3258 - binary_accuracy: 0.8665\n",
            "Epoch 70/100\n",
            "195/195 [==============================] - 1s 7ms/step - loss: 0.3235 - binary_accuracy: 0.8718\n",
            "Epoch 71/100\n",
            "195/195 [==============================] - 1s 6ms/step - loss: 0.3261 - binary_accuracy: 0.8649\n",
            "Epoch 72/100\n",
            "195/195 [==============================] - 1s 4ms/step - loss: 0.3283 - binary_accuracy: 0.8642\n",
            "Epoch 73/100\n",
            "195/195 [==============================] - 1s 4ms/step - loss: 0.3171 - binary_accuracy: 0.8686\n",
            "Epoch 74/100\n",
            "195/195 [==============================] - 1s 4ms/step - loss: 0.3271 - binary_accuracy: 0.8621\n",
            "Epoch 75/100\n",
            "195/195 [==============================] - 1s 4ms/step - loss: 0.3173 - binary_accuracy: 0.8678\n",
            "Epoch 76/100\n",
            "195/195 [==============================] - 1s 4ms/step - loss: 0.3205 - binary_accuracy: 0.8673\n",
            "Epoch 77/100\n",
            "195/195 [==============================] - 1s 4ms/step - loss: 0.3187 - binary_accuracy: 0.8699\n",
            "Epoch 78/100\n",
            "195/195 [==============================] - 1s 5ms/step - loss: 0.3330 - binary_accuracy: 0.8572\n",
            "Epoch 79/100\n",
            "195/195 [==============================] - 1s 5ms/step - loss: 0.3296 - binary_accuracy: 0.8662\n",
            "Epoch 80/100\n",
            "195/195 [==============================] - 1s 5ms/step - loss: 0.3252 - binary_accuracy: 0.8652\n",
            "Epoch 81/100\n",
            "195/195 [==============================] - 1s 5ms/step - loss: 0.3172 - binary_accuracy: 0.8702\n",
            "Epoch 82/100\n",
            "195/195 [==============================] - 1s 6ms/step - loss: 0.3144 - binary_accuracy: 0.8719\n",
            "Epoch 83/100\n",
            "195/195 [==============================] - 2s 8ms/step - loss: 0.3205 - binary_accuracy: 0.8676\n",
            "Epoch 84/100\n",
            "195/195 [==============================] - 2s 8ms/step - loss: 0.3194 - binary_accuracy: 0.8705\n",
            "Epoch 85/100\n",
            "195/195 [==============================] - 1s 5ms/step - loss: 0.3297 - binary_accuracy: 0.8633\n",
            "Epoch 86/100\n",
            "195/195 [==============================] - 1s 5ms/step - loss: 0.3136 - binary_accuracy: 0.8731\n",
            "Epoch 87/100\n",
            "195/195 [==============================] - 1s 5ms/step - loss: 0.3139 - binary_accuracy: 0.8711\n",
            "Epoch 88/100\n",
            "195/195 [==============================] - 1s 5ms/step - loss: 0.3140 - binary_accuracy: 0.8726\n",
            "Epoch 89/100\n",
            "195/195 [==============================] - 1s 5ms/step - loss: 0.3165 - binary_accuracy: 0.8703\n",
            "Epoch 90/100\n",
            "195/195 [==============================] - 1s 5ms/step - loss: 0.3090 - binary_accuracy: 0.8763\n",
            "Epoch 91/100\n",
            "195/195 [==============================] - 1s 5ms/step - loss: 0.3157 - binary_accuracy: 0.8716\n",
            "Epoch 92/100\n",
            "195/195 [==============================] - 1s 5ms/step - loss: 0.3167 - binary_accuracy: 0.8695\n",
            "Epoch 93/100\n",
            "195/195 [==============================] - 1s 5ms/step - loss: 0.3217 - binary_accuracy: 0.8676\n",
            "Epoch 94/100\n",
            "195/195 [==============================] - 1s 5ms/step - loss: 0.3132 - binary_accuracy: 0.8734\n",
            "Epoch 95/100\n",
            "195/195 [==============================] - 1s 5ms/step - loss: 0.3150 - binary_accuracy: 0.8711\n",
            "Epoch 96/100\n",
            "195/195 [==============================] - 2s 8ms/step - loss: 0.3185 - binary_accuracy: 0.8663\n",
            "Epoch 97/100\n",
            "195/195 [==============================] - 2s 8ms/step - loss: 0.3148 - binary_accuracy: 0.8723\n",
            "Epoch 98/100\n",
            "195/195 [==============================] - 1s 5ms/step - loss: 0.3183 - binary_accuracy: 0.8718\n",
            "Epoch 99/100\n",
            "195/195 [==============================] - 1s 5ms/step - loss: 0.3020 - binary_accuracy: 0.8805\n",
            "Epoch 100/100\n",
            "195/195 [==============================] - 1s 5ms/step - loss: 0.3052 - binary_accuracy: 0.8760\n"
          ]
        }
      ]
    },
    {
      "cell_type": "code",
      "source": [
        "# Evaluate the model_6\n",
        "score_6 = model_6.evaluate(X_val, y_val, verbose=0)\n",
        "print(f'Test loss: {score_6[0]} / Test accuracy: {score_6[1]}')"
      ],
      "metadata": {
        "colab": {
          "base_uri": "https://localhost:8080/"
        },
        "id": "VkOT1YkL4BTE",
        "outputId": "838fcd26-ff8b-4b42-c5d1-0a4ea2e6ea18"
      },
      "execution_count": 70,
      "outputs": [
        {
          "output_type": "stream",
          "name": "stdout",
          "text": [
            "Test loss: 0.3038906157016754 / Test accuracy: 0.8725899457931519\n"
          ]
        }
      ]
    },
    {
      "cell_type": "code",
      "source": [
        "# Choose The Final Model\n",
        "model_loss = [score_1[0], score_2[0], score_3[0], score_4[0], score_5[0], score_6[0]]\n",
        "model_accuracy = [score_1[1], score_2[1], score_3[1], score_4[1], score_5[1], score_6[1]]\n",
        "                  \n",
        "# Find the index of the model with the minimum loss\n",
        "min_loss_index = model_loss.index(min(model_loss))\n",
        "\n",
        "# Find the index of the model with the maximum accuracy\n",
        "max_accuracy_index = model_accuracy.index(max(model_accuracy))\n",
        "\n",
        "# Determine the best model based on the minimum loss and maximum accuracy\n",
        "if min_loss_index == max_accuracy_index:\n",
        "    print(\"The best model is Model \", min_loss_index+1, \" with a loss of \", model_loss[min_loss_index], \" and an accuracy of \", model_accuracy[max_accuracy_index])\n",
        "elif min_loss_index < max_accuracy_index:\n",
        "    print(\"The best model based on the minimum loss is Model \", min_loss_index+1, \" with a loss of \", model_loss[min_loss_index])\n",
        "else:\n",
        "    print(\"The best model based on the maximum accuracy is Model \", max_accuracy_index+1, \" with an accuracy of \", model_accuracy[max_accuracy_index])"
      ],
      "metadata": {
        "colab": {
          "base_uri": "https://localhost:8080/"
        },
        "id": "tsn2Y0zdeUca",
        "outputId": "cd91f712-d820-41c2-d8c0-bf2fe73804e1"
      },
      "execution_count": 71,
      "outputs": [
        {
          "output_type": "stream",
          "name": "stdout",
          "text": [
            "The best model is Model  5  with a loss of  0.2889428436756134  and an accuracy of  0.8835154175758362\n"
          ]
        }
      ]
    },
    {
      "cell_type": "code",
      "source": [
        "# Train the Final Model\n",
        "\n",
        "model = model_5\n",
        "history = model.fit(X_train, y_train, epochs=100, batch_size=32)"
      ],
      "metadata": {
        "colab": {
          "base_uri": "https://localhost:8080/"
        },
        "id": "qrDapdCAgfaG",
        "outputId": "101d524c-5613-456b-bef0-b86be796cff7"
      },
      "execution_count": 72,
      "outputs": [
        {
          "output_type": "stream",
          "name": "stdout",
          "text": [
            "Epoch 1/100\n",
            "1556/1556 [==============================] - 5s 3ms/step - loss: 0.3367 - binary_accuracy: 0.8602\n",
            "Epoch 2/100\n",
            "1556/1556 [==============================] - 6s 4ms/step - loss: 0.3307 - binary_accuracy: 0.8619\n",
            "Epoch 3/100\n",
            "1556/1556 [==============================] - 5s 3ms/step - loss: 0.3248 - binary_accuracy: 0.8658\n",
            "Epoch 4/100\n",
            "1556/1556 [==============================] - 7s 4ms/step - loss: 0.3274 - binary_accuracy: 0.8639\n",
            "Epoch 5/100\n",
            "1556/1556 [==============================] - 6s 4ms/step - loss: 0.3223 - binary_accuracy: 0.8662\n",
            "Epoch 6/100\n",
            "1556/1556 [==============================] - 7s 5ms/step - loss: 0.3242 - binary_accuracy: 0.8664\n",
            "Epoch 7/100\n",
            "1556/1556 [==============================] - 6s 4ms/step - loss: 0.3234 - binary_accuracy: 0.8667\n",
            "Epoch 8/100\n",
            "1556/1556 [==============================] - 7s 4ms/step - loss: 0.3186 - binary_accuracy: 0.8687\n",
            "Epoch 9/100\n",
            "1556/1556 [==============================] - 6s 4ms/step - loss: 0.3205 - binary_accuracy: 0.8677\n",
            "Epoch 10/100\n",
            "1556/1556 [==============================] - 6s 4ms/step - loss: 0.3180 - binary_accuracy: 0.8690\n",
            "Epoch 11/100\n",
            "1556/1556 [==============================] - 6s 4ms/step - loss: 0.3194 - binary_accuracy: 0.8683\n",
            "Epoch 12/100\n",
            "1556/1556 [==============================] - 5s 3ms/step - loss: 0.3228 - binary_accuracy: 0.8665\n",
            "Epoch 13/100\n",
            "1556/1556 [==============================] - 6s 4ms/step - loss: 0.3177 - binary_accuracy: 0.8682\n",
            "Epoch 14/100\n",
            "1556/1556 [==============================] - 5s 3ms/step - loss: 0.3182 - binary_accuracy: 0.8690\n",
            "Epoch 15/100\n",
            "1556/1556 [==============================] - 5s 3ms/step - loss: 0.3176 - binary_accuracy: 0.8687\n",
            "Epoch 16/100\n",
            "1556/1556 [==============================] - 6s 4ms/step - loss: 0.3157 - binary_accuracy: 0.8706\n",
            "Epoch 17/100\n",
            "1556/1556 [==============================] - 5s 3ms/step - loss: 0.3174 - binary_accuracy: 0.8692\n",
            "Epoch 18/100\n",
            "1556/1556 [==============================] - 6s 4ms/step - loss: 0.3161 - binary_accuracy: 0.8699\n",
            "Epoch 19/100\n",
            "1556/1556 [==============================] - 5s 3ms/step - loss: 0.3141 - binary_accuracy: 0.8712\n",
            "Epoch 20/100\n",
            "1556/1556 [==============================] - 5s 3ms/step - loss: 0.3116 - binary_accuracy: 0.8716\n",
            "Epoch 21/100\n",
            "1556/1556 [==============================] - 6s 4ms/step - loss: 0.3125 - binary_accuracy: 0.8703\n",
            "Epoch 22/100\n",
            "1556/1556 [==============================] - 5s 3ms/step - loss: 0.3126 - binary_accuracy: 0.8708\n",
            "Epoch 23/100\n",
            "1556/1556 [==============================] - 5s 3ms/step - loss: 0.3125 - binary_accuracy: 0.8709\n",
            "Epoch 24/100\n",
            "1556/1556 [==============================] - 5s 3ms/step - loss: 0.3132 - binary_accuracy: 0.8709\n",
            "Epoch 25/100\n",
            "1556/1556 [==============================] - 5s 3ms/step - loss: 0.3110 - binary_accuracy: 0.8716\n",
            "Epoch 26/100\n",
            "1556/1556 [==============================] - 6s 4ms/step - loss: 0.3134 - binary_accuracy: 0.8700\n",
            "Epoch 27/100\n",
            "1556/1556 [==============================] - 5s 3ms/step - loss: 0.3125 - binary_accuracy: 0.8708\n",
            "Epoch 28/100\n",
            "1556/1556 [==============================] - 5s 3ms/step - loss: 0.3094 - binary_accuracy: 0.8720\n",
            "Epoch 29/100\n",
            "1556/1556 [==============================] - 6s 4ms/step - loss: 0.3130 - binary_accuracy: 0.8711\n",
            "Epoch 30/100\n",
            "1556/1556 [==============================] - 5s 3ms/step - loss: 0.3107 - binary_accuracy: 0.8718\n",
            "Epoch 31/100\n",
            "1556/1556 [==============================] - 6s 4ms/step - loss: 0.3108 - binary_accuracy: 0.8716\n",
            "Epoch 32/100\n",
            "1556/1556 [==============================] - 5s 3ms/step - loss: 0.3104 - binary_accuracy: 0.8722\n",
            "Epoch 33/100\n",
            "1556/1556 [==============================] - 5s 3ms/step - loss: 0.3128 - binary_accuracy: 0.8717\n",
            "Epoch 34/100\n",
            "1556/1556 [==============================] - 6s 4ms/step - loss: 0.3100 - binary_accuracy: 0.8721\n",
            "Epoch 35/100\n",
            "1556/1556 [==============================] - 5s 3ms/step - loss: 0.3121 - binary_accuracy: 0.8703\n",
            "Epoch 36/100\n",
            "1556/1556 [==============================] - 5s 3ms/step - loss: 0.3108 - binary_accuracy: 0.8721\n",
            "Epoch 37/100\n",
            "1556/1556 [==============================] - 6s 4ms/step - loss: 0.3083 - binary_accuracy: 0.8724\n",
            "Epoch 38/100\n",
            "1556/1556 [==============================] - 5s 3ms/step - loss: 0.3090 - binary_accuracy: 0.8729\n",
            "Epoch 39/100\n",
            "1556/1556 [==============================] - 6s 4ms/step - loss: 0.3100 - binary_accuracy: 0.8724\n",
            "Epoch 40/100\n",
            "1556/1556 [==============================] - 5s 3ms/step - loss: 0.3086 - binary_accuracy: 0.8733\n",
            "Epoch 41/100\n",
            "1556/1556 [==============================] - 5s 3ms/step - loss: 0.3066 - binary_accuracy: 0.8733\n",
            "Epoch 42/100\n",
            "1556/1556 [==============================] - 7s 4ms/step - loss: 0.3114 - binary_accuracy: 0.8714\n",
            "Epoch 43/100\n",
            "1556/1556 [==============================] - 5s 3ms/step - loss: 0.3127 - binary_accuracy: 0.8727\n",
            "Epoch 44/100\n",
            "1556/1556 [==============================] - 7s 4ms/step - loss: 0.3082 - binary_accuracy: 0.8746\n",
            "Epoch 45/100\n",
            "1556/1556 [==============================] - 5s 3ms/step - loss: 0.3078 - binary_accuracy: 0.8736\n",
            "Epoch 46/100\n",
            "1556/1556 [==============================] - 7s 5ms/step - loss: 0.3095 - binary_accuracy: 0.8719\n",
            "Epoch 47/100\n",
            "1556/1556 [==============================] - 6s 4ms/step - loss: 0.3056 - binary_accuracy: 0.8751\n",
            "Epoch 48/100\n",
            "1556/1556 [==============================] - 6s 4ms/step - loss: 0.3060 - binary_accuracy: 0.8749\n",
            "Epoch 49/100\n",
            "1556/1556 [==============================] - 6s 4ms/step - loss: 0.3073 - binary_accuracy: 0.8731\n",
            "Epoch 50/100\n",
            "1556/1556 [==============================] - 5s 3ms/step - loss: 0.3076 - binary_accuracy: 0.8734\n",
            "Epoch 51/100\n",
            "1556/1556 [==============================] - 7s 4ms/step - loss: 0.3036 - binary_accuracy: 0.8755\n",
            "Epoch 52/100\n",
            "1556/1556 [==============================] - 5s 3ms/step - loss: 0.3063 - binary_accuracy: 0.8743\n",
            "Epoch 53/100\n",
            "1556/1556 [==============================] - 7s 4ms/step - loss: 0.3036 - binary_accuracy: 0.8760\n",
            "Epoch 54/100\n",
            "1556/1556 [==============================] - 5s 3ms/step - loss: 0.3059 - binary_accuracy: 0.8753\n",
            "Epoch 55/100\n",
            "1556/1556 [==============================] - 7s 4ms/step - loss: 0.3055 - binary_accuracy: 0.8755\n",
            "Epoch 56/100\n",
            "1556/1556 [==============================] - 6s 4ms/step - loss: 0.3067 - binary_accuracy: 0.8741\n",
            "Epoch 57/100\n",
            "1556/1556 [==============================] - 7s 4ms/step - loss: 0.3079 - binary_accuracy: 0.8740\n",
            "Epoch 58/100\n",
            "1556/1556 [==============================] - 6s 4ms/step - loss: 0.3056 - binary_accuracy: 0.8740\n",
            "Epoch 59/100\n",
            "1556/1556 [==============================] - 6s 4ms/step - loss: 0.3058 - binary_accuracy: 0.8750\n",
            "Epoch 60/100\n",
            "1556/1556 [==============================] - 7s 4ms/step - loss: 0.3055 - binary_accuracy: 0.8747\n",
            "Epoch 61/100\n",
            "1556/1556 [==============================] - 5s 3ms/step - loss: 0.3046 - binary_accuracy: 0.8747\n",
            "Epoch 62/100\n",
            "1556/1556 [==============================] - 7s 4ms/step - loss: 0.3060 - binary_accuracy: 0.8747\n",
            "Epoch 63/100\n",
            "1556/1556 [==============================] - 5s 3ms/step - loss: 0.3046 - binary_accuracy: 0.8750\n",
            "Epoch 64/100\n",
            "1556/1556 [==============================] - 7s 4ms/step - loss: 0.3028 - binary_accuracy: 0.8762\n",
            "Epoch 65/100\n",
            "1556/1556 [==============================] - 5s 3ms/step - loss: 0.3074 - binary_accuracy: 0.8737\n",
            "Epoch 66/100\n",
            "1556/1556 [==============================] - 6s 4ms/step - loss: 0.3059 - binary_accuracy: 0.8745\n",
            "Epoch 67/100\n",
            "1556/1556 [==============================] - 6s 4ms/step - loss: 0.3075 - binary_accuracy: 0.8743\n",
            "Epoch 68/100\n",
            "1556/1556 [==============================] - 6s 4ms/step - loss: 0.3048 - binary_accuracy: 0.8753\n",
            "Epoch 69/100\n",
            "1556/1556 [==============================] - 6s 4ms/step - loss: 0.3043 - binary_accuracy: 0.8753\n",
            "Epoch 70/100\n",
            "1556/1556 [==============================] - 6s 4ms/step - loss: 0.3050 - binary_accuracy: 0.8758\n",
            "Epoch 71/100\n",
            "1556/1556 [==============================] - 7s 4ms/step - loss: 0.3042 - binary_accuracy: 0.8744\n",
            "Epoch 72/100\n",
            "1556/1556 [==============================] - 5s 3ms/step - loss: 0.3032 - binary_accuracy: 0.8765\n",
            "Epoch 73/100\n",
            "1556/1556 [==============================] - 7s 4ms/step - loss: 0.3047 - binary_accuracy: 0.8745\n",
            "Epoch 74/100\n",
            "1556/1556 [==============================] - 6s 4ms/step - loss: 0.3028 - binary_accuracy: 0.8764\n",
            "Epoch 75/100\n",
            "1556/1556 [==============================] - 7s 4ms/step - loss: 0.3027 - binary_accuracy: 0.8767\n",
            "Epoch 76/100\n",
            "1556/1556 [==============================] - 5s 3ms/step - loss: 0.3027 - binary_accuracy: 0.8754\n",
            "Epoch 77/100\n",
            "1556/1556 [==============================] - 6s 4ms/step - loss: 0.3034 - binary_accuracy: 0.8749\n",
            "Epoch 78/100\n",
            "1556/1556 [==============================] - 6s 4ms/step - loss: 0.3030 - binary_accuracy: 0.8766\n",
            "Epoch 79/100\n",
            "1556/1556 [==============================] - 5s 3ms/step - loss: 0.3029 - binary_accuracy: 0.8754\n",
            "Epoch 80/100\n",
            "1556/1556 [==============================] - 7s 4ms/step - loss: 0.3026 - binary_accuracy: 0.8762\n",
            "Epoch 81/100\n",
            "1556/1556 [==============================] - 5s 4ms/step - loss: 0.3043 - binary_accuracy: 0.8767\n",
            "Epoch 82/100\n",
            "1556/1556 [==============================] - 7s 4ms/step - loss: 0.3027 - binary_accuracy: 0.8762\n",
            "Epoch 83/100\n",
            "1556/1556 [==============================] - 5s 3ms/step - loss: 0.3017 - binary_accuracy: 0.8767\n",
            "Epoch 84/100\n",
            "1556/1556 [==============================] - 7s 4ms/step - loss: 0.3054 - binary_accuracy: 0.8753\n",
            "Epoch 85/100\n",
            "1556/1556 [==============================] - 5s 3ms/step - loss: 0.3071 - binary_accuracy: 0.8759\n",
            "Epoch 86/100\n",
            "1556/1556 [==============================] - 6s 4ms/step - loss: 0.3036 - binary_accuracy: 0.8749\n",
            "Epoch 87/100\n",
            "1556/1556 [==============================] - 6s 4ms/step - loss: 0.3024 - binary_accuracy: 0.8762\n",
            "Epoch 88/100\n",
            "1556/1556 [==============================] - 6s 4ms/step - loss: 0.3038 - binary_accuracy: 0.8751\n",
            "Epoch 89/100\n",
            "1556/1556 [==============================] - 7s 4ms/step - loss: 0.3008 - binary_accuracy: 0.8765\n",
            "Epoch 90/100\n",
            "1556/1556 [==============================] - 6s 4ms/step - loss: 0.3028 - binary_accuracy: 0.8758\n",
            "Epoch 91/100\n",
            "1556/1556 [==============================] - 7s 5ms/step - loss: 0.3025 - binary_accuracy: 0.8754\n",
            "Epoch 92/100\n",
            "1556/1556 [==============================] - 5s 3ms/step - loss: 0.3040 - binary_accuracy: 0.8766\n",
            "Epoch 93/100\n",
            "1556/1556 [==============================] - 7s 4ms/step - loss: 0.3044 - binary_accuracy: 0.8746\n",
            "Epoch 94/100\n",
            "1556/1556 [==============================] - 6s 4ms/step - loss: 0.3033 - binary_accuracy: 0.8755\n",
            "Epoch 95/100\n",
            "1556/1556 [==============================] - 7s 4ms/step - loss: 0.3027 - binary_accuracy: 0.8768\n",
            "Epoch 96/100\n",
            "1556/1556 [==============================] - 6s 4ms/step - loss: 0.3042 - binary_accuracy: 0.8755\n",
            "Epoch 97/100\n",
            "1556/1556 [==============================] - 6s 4ms/step - loss: 0.3023 - binary_accuracy: 0.8763\n",
            "Epoch 98/100\n",
            "1556/1556 [==============================] - 7s 4ms/step - loss: 0.3010 - binary_accuracy: 0.8767\n",
            "Epoch 99/100\n",
            "1556/1556 [==============================] - 5s 4ms/step - loss: 0.3049 - binary_accuracy: 0.8754\n",
            "Epoch 100/100\n",
            "1556/1556 [==============================] - 7s 4ms/step - loss: 0.3011 - binary_accuracy: 0.8782\n"
          ]
        }
      ]
    },
    {
      "cell_type": "code",
      "source": [
        "# Evaluate the Final Model\n",
        "score = model.evaluate(X_test, y_test, verbose=0)\n",
        "print(f'Model loss: {score[0]} \\nModel accuracy: {score[1]}')"
      ],
      "metadata": {
        "colab": {
          "base_uri": "https://localhost:8080/"
        },
        "id": "yMHEeOVOl-S3",
        "outputId": "a13130fa-84ea-459f-997b-c9eb2f5eccd3"
      },
      "execution_count": 73,
      "outputs": [
        {
          "output_type": "stream",
          "name": "stdout",
          "text": [
            "Model loss: 0.2902596592903137 \n",
            "Model accuracy: 0.8865681290626526\n"
          ]
        }
      ]
    },
    {
      "cell_type": "code",
      "source": [
        "# Use the model for prediction\n",
        "\n",
        "# Choose a sample from dataset for prediction\n",
        "sample = 528\n",
        "X_new = X_val.iloc[sample].values.reshape(1, -1)\n",
        "\n",
        "y_correct = y_val.iloc[sample]\n",
        "\n",
        "# Predict\n",
        "y_pred = model.predict(X_new)\n",
        "\n",
        "if y_pred > 0.5:\n",
        "  y_predict = 1\n",
        "  print(\"Predict if this trip is going to be shared?   YES\")\n",
        "else:\n",
        "  y_predict = 0\n",
        "  print(\"Predict if this trip is going to be shared?   NO\")\n",
        "\n",
        "print(\"===================================================================\\n\")\n",
        "print(f\"The prediction is: {y_pred}   /   The true answer is: {y_correct}\")\n",
        "\n",
        "print(\"===================================================================\\n\")\n",
        "\n",
        "if y_predict == y_correct:\n",
        "  print(\"Prediction: CORRECT!\")\n",
        "else:\n",
        "  print(\"Prediction: WRONG!\")"
      ],
      "metadata": {
        "colab": {
          "base_uri": "https://localhost:8080/"
        },
        "id": "B48Qyd6ZiM7c",
        "outputId": "5faa47d1-0184-4e33-df55-97ea3d6bd1e4"
      },
      "execution_count": 75,
      "outputs": [
        {
          "output_type": "stream",
          "name": "stdout",
          "text": [
            "1/1 [==============================] - 0s 44ms/step\n",
            "Predict if this trip is going to be shared?   YES\n",
            "===================================================================\n",
            "\n",
            "The prediction is: [[0.98614216]]   /   The true answer is: 1\n",
            "===================================================================\n",
            "\n",
            "Prediction: CORRECT!\n"
          ]
        }
      ]
    },
    {
      "cell_type": "code",
      "source": [
        "import seaborn as sns\n",
        "import matplotlib.pyplot as plt\n",
        "\n",
        "# Calculate the number of shared and non-shared trips\n",
        "num_shared_trips = df[df[\"Shared Trip Authorized\"] == True][\"Shared Trip Authorized\"].count()\n",
        "num_non_shared_trips = df[df[\"Shared Trip Authorized\"] == False][\"Shared Trip Authorized\"].count()\n",
        "\n",
        "# Create the bar chart\n",
        "plt.bar([\"Shared Trips\", \"Non-Shared Trips\"], [num_shared_trips, num_non_shared_trips])\n",
        "plt.title(\"Shared vs Non-Shared Trips\")\n",
        "plt.xlabel(\"Trip Type\")\n",
        "plt.ylabel(\"Number of Trips\")\n",
        "plt.show()"
      ],
      "metadata": {
        "colab": {
          "base_uri": "https://localhost:8080/",
          "height": 295
        },
        "id": "cHbdrddpGQbk",
        "outputId": "b8aef2c0-d6e8-48ef-c320-2ad36957f6a5"
      },
      "execution_count": 12,
      "outputs": [
        {
          "output_type": "display_data",
          "data": {
            "text/plain": [
              "<Figure size 432x288 with 1 Axes>"
            ],
            "image/png": "[encoded data removed]"
          },
          "metadata": {
            "needs_background": "light"
          }
        }
      ]
    },
    {
      "cell_type": "code",
      "source": [
        "# Create a box plot for trip duration\n",
        "sns.boxplot(x=\"Shared Trip Authorized\", y=\"Trip Seconds\", data=df)\n",
        "plt.title(\"Comparison of Trip Duration between Shared and Non-shared Trips\")\n",
        "plt.xlabel(\"Shared Trip Authorized\")\n",
        "plt.ylabel(\"Trip Duration (seconds)\")\n",
        "plt.show()\n",
        "\n",
        "# Create a box plot for trip distance\n",
        "sns.boxplot(x=\"Shared Trip Authorized\", y=\"Trip Miles\", data=df)\n",
        "plt.title(\"Comparison of Trip Distance between Shared and Non-shared Trips\")\n",
        "plt.xlabel(\"Shared Trip Authorized\")\n",
        "plt.ylabel(\"Trip Distance (miles)\")\n",
        "plt.show()"
      ],
      "metadata": {
        "colab": {
          "base_uri": "https://localhost:8080/",
          "height": 573
        },
        "id": "DFffVF1aIoRl",
        "outputId": "eb967577-ec0c-4fdc-96af-ae8bcc62740f"
      },
      "execution_count": 78,
      "outputs": [
        {
          "output_type": "display_data",
          "data": {
            "text/plain": [
              "<Figure size 432x288 with 1 Axes>"
            ],
            "image/png": "[encoded data removed]"
          },
          "metadata": {
            "needs_background": "light"
          }
        },
        {
          "output_type": "display_data",
          "data": {
            "text/plain": [
              "<Figure size 432x288 with 1 Axes>"
            ],
            "image/png": "[encoded data removed]"
          },
          "metadata": {
            "needs_background": "light"
          }
        }
      ]
    },
    {
      "cell_type": "code",
      "source": [
        "# group the data by day of the week and shared trip authorization\n",
        "trips_by_day_and_shared = df.groupby(['Start_day_of_week', 'Shared Trip Authorized']).size().unstack()\n",
        "\n",
        "# reset the index and rename the columns for plotting\n",
        "shared_trips = trips_by_day_and_shared[1].reset_index().rename(columns={1: 'count'})\n",
        "non_shared_trips = trips_by_day_and_shared[0].reset_index().rename(columns={0: 'count'})\n",
        "\n",
        "# create the bar chart\n",
        "fig, ax = plt.subplots()\n",
        "shared_trips.plot(x='Start_day_of_week', y='count', kind='bar', width=0.4, position=0, ax=ax, color='blue', label='Shared Trip')\n",
        "non_shared_trips.plot(x='Start_day_of_week', y='count', kind='bar', width=0.4, position=1, ax=ax, color='red', label='Non-Shared Trip')\n",
        "\n",
        "# set the chart title and axis labels\n",
        "plt.title('Number of Shared and Non-Shared Trips by Day of the Week')\n",
        "plt.xlabel('Day of the Week')\n",
        "plt.xticks(rotation=0)\n",
        "plt.ylabel('Number of Trips')\n",
        "\n",
        "# show the chart\n",
        "plt.show()"
      ],
      "metadata": {
        "colab": {
          "base_uri": "https://localhost:8080/",
          "height": 295
        },
        "id": "M4eA2O7sIvLE",
        "outputId": "e8c5f17f-04b7-412f-c012-7df0eda8e3af"
      },
      "execution_count": 134,
      "outputs": [
        {
          "output_type": "display_data",
          "data": {
            "text/plain": [
              "<Figure size 432x288 with 1 Axes>"
            ],
            "image/png": "[encoded data removed]"
          },
          "metadata": {
            "needs_background": "light"
          }
        }
      ]
    },
    {
      "cell_type": "code",
      "source": [
        "# Group data by start hour and shared trip authorized\n",
        "hourly_trips = df.groupby(['Start hour', 'Shared Trip Authorized'])['Start hour'].count().unstack()\n",
        "\n",
        "# Plot the bar chart with separate bars for shared and non-shared trips\n",
        "fig, ax = plt.subplots(figsize=(12, 6))\n",
        "hourly_trips[0].plot(kind='bar', position=0, width=0.4, color='blue', ax=ax, label='Non-Shared Trips')\n",
        "hourly_trips[1].plot(kind='bar', position=1, width=0.4, color='orange', ax=ax, label='Shared Trips')\n",
        "\n",
        "# Set the chart title and axis labels\n",
        "plt.title('Number of Shared and Non-Shared Trips by Hour of Day')\n",
        "plt.xlabel('Hour of Day')\n",
        "plt.ylabel('Number of Trips')\n",
        "\n",
        "# Add legend\n",
        "plt.legend()\n",
        "\n",
        "# Show the chart\n",
        "plt.show()"
      ],
      "metadata": {
        "colab": {
          "base_uri": "https://localhost:8080/",
          "height": 407
        },
        "id": "rIyU2C4-LE4p",
        "outputId": "e48302a9-7a1f-4b45-b264-7ab63eb5c6fc"
      },
      "execution_count": 17,
      "outputs": [
        {
          "output_type": "display_data",
          "data": {
            "text/plain": [
              "<Figure size 864x432 with 1 Axes>"
            ],
            "image/png": "[encoded data removed]"
          },
          "metadata": {
            "needs_background": "light"
          }
        }
      ]
    }
  ]
}