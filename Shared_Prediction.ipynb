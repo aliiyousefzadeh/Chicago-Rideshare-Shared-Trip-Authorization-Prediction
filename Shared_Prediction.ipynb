{
  "nbformat": 4,
  "nbformat_minor": 0,
  "metadata": {
    "colab": {
      "provenance": []
    },
    "kernelspec": {
      "name": "python3",
      "display_name": "Python 3"
    },
    "language_info": {
      "name": "python"
    }
  },
  "cells": [
    {
      "cell_type": "code",
      "source": [
        "!pip install bayesian-optimization"
      ],
      "metadata": {
        "id": "RU-OAFZQtQUF"
      },
      "execution_count": null,
      "outputs": []
    },
    {
      "cell_type": "code",
      "execution_count": 2,
      "metadata": {
        "id": "r7zgjMBvQsiU"
      },
      "outputs": [],
      "source": [
        "import numpy as np\n",
        "import pandas as pd\n",
        "from google.colab import drive"
      ]
    },
    {
      "cell_type": "code",
      "source": [
        "# Read the CSV file from My Google Drive\n",
        "drive.mount('/content/drive')\n",
        "df = pd.read_csv('/content/drive/My Drive/Transportation_Network_Providers_-_Trips_2.csv')"
      ],
      "metadata": {
        "id": "UkE9LL1_QwJp",
        "colab": {
          "base_uri": "https://localhost:8080/"
        },
        "outputId": "545f2744-2775-45d6-f3c2-df42f4e7cd37"
      },
      "execution_count": 3,
      "outputs": [
        {
          "output_type": "stream",
          "name": "stdout",
          "text": [
            "Mounted at /content/drive\n"
          ]
        },
        {
          "output_type": "stream",
          "name": "stderr",
          "text": [
            "<ipython-input-3-64c1ae7489be>:3: DtypeWarning: Columns (13) have mixed types. Specify dtype option on import or set low_memory=False.\n",
            "  df = pd.read_csv('/content/drive/My Drive/Transportation_Network_Providers_-_Trips_2.csv')\n"
          ]
        }
      ]
    },
    {
      "cell_type": "code",
      "source": [
        "df.head()"
      ],
      "metadata": {
        "id": "vASNai21nMg-"
      },
      "execution_count": null,
      "outputs": []
    },
    {
      "cell_type": "code",
      "source": [
        "df.shape"
      ],
      "metadata": {
        "id": "7tT4dOUSDdWG",
        "colab": {
          "base_uri": "https://localhost:8080/"
        },
        "outputId": "0b901d48-4ca7-482d-b4b1-3e35d075623e"
      },
      "execution_count": 5,
      "outputs": [
        {
          "output_type": "execute_result",
          "data": {
            "text/plain": [
              "(280657, 21)"
            ]
          },
          "metadata": {},
          "execution_count": 5
        }
      ]
    },
    {
      "cell_type": "code",
      "source": [
        "df.dtypes"
      ],
      "metadata": {
        "colab": {
          "base_uri": "https://localhost:8080/"
        },
        "id": "_FHxBuErFsp6",
        "outputId": "56ff3201-054b-403e-e079-5cc4b757051f"
      },
      "execution_count": 6,
      "outputs": [
        {
          "output_type": "execute_result",
          "data": {
            "text/plain": [
              "Trip ID                        object\n",
              "Trip Start Timestamp           object\n",
              "Trip End Timestamp             object\n",
              "Trip Seconds                  float64\n",
              "Trip Miles                    float64\n",
              "Pickup Census Tract           float64\n",
              "Dropoff Census Tract          float64\n",
              "Pickup Community Area         float64\n",
              "Dropoff Community Area        float64\n",
              "Fare                          float64\n",
              "Tip                           float64\n",
              "Additional Charges            float64\n",
              "Trip Total                    float64\n",
              "Shared Trip Authorized         object\n",
              "Trips Pooled                  float64\n",
              "Pickup Centroid Latitude      float64\n",
              "Pickup Centroid Longitude     float64\n",
              "Pickup Centroid Location       object\n",
              "Dropoff Centroid Latitude     float64\n",
              "Dropoff Centroid Longitude    float64\n",
              "Dropoff Centroid Location      object\n",
              "dtype: object"
            ]
          },
          "metadata": {},
          "execution_count": 6
        }
      ]
    },
    {
      "cell_type": "code",
      "source": [
        "df.drop_duplicates(inplace=True)"
      ],
      "metadata": {
        "id": "qSpnljMiF-Bn"
      },
      "execution_count": 7,
      "outputs": []
    },
    {
      "cell_type": "code",
      "source": [
        "df.shape"
      ],
      "metadata": {
        "colab": {
          "base_uri": "https://localhost:8080/"
        },
        "id": "zNTKeNkrGZ8e",
        "outputId": "582fbbfb-9361-4318-8838-928b4cfda154"
      },
      "execution_count": 8,
      "outputs": [
        {
          "output_type": "execute_result",
          "data": {
            "text/plain": [
              "(280657, 21)"
            ]
          },
          "metadata": {},
          "execution_count": 8
        }
      ]
    },
    {
      "cell_type": "code",
      "source": [
        "df.dropna(inplace=True)"
      ],
      "metadata": {
        "id": "IwbSDFUjGc7A"
      },
      "execution_count": 9,
      "outputs": []
    },
    {
      "cell_type": "code",
      "source": [
        "df.shape"
      ],
      "metadata": {
        "colab": {
          "base_uri": "https://localhost:8080/"
        },
        "id": "j3o004odG86j",
        "outputId": "944bd122-0657-40cf-b353-483de620a629"
      },
      "execution_count": 10,
      "outputs": [
        {
          "output_type": "execute_result",
          "data": {
            "text/plain": [
              "(198766, 21)"
            ]
          },
          "metadata": {},
          "execution_count": 10
        }
      ]
    },
    {
      "cell_type": "code",
      "source": [
        "shared_trips = df['Shared Trip Authorized'].value_counts()\n",
        "print(shared_trips)"
      ],
      "metadata": {
        "colab": {
          "base_uri": "https://localhost:8080/"
        },
        "id": "jqQey-p0G-mE",
        "outputId": "8da5f874-b4f7-4591-ab45-4831d611fd19"
      },
      "execution_count": 11,
      "outputs": [
        {
          "output_type": "stream",
          "name": "stdout",
          "text": [
            "False    167648\n",
            "True      31118\n",
            "Name: Shared Trip Authorized, dtype: int64\n"
          ]
        }
      ]
    },
    {
      "cell_type": "code",
      "source": [
        "# compare the trip duration and distance of shared trips versus non-shared trips\n",
        "shared_trips_duration = df.loc[df['Shared Trip Authorized'] == True, 'Trip Seconds'].mean()\n",
        "print(f\"The average duration of shared trips is:{shared_trips_duration: .2f} seconds.\")\n",
        "non_shared_trips_duration = df.loc[df['Shared Trip Authorized'] == False, 'Trip Seconds'].mean()\n",
        "print(f\"The average duration of non_shared trips is:{non_shared_trips_duration: .2f} seconds\")\n",
        "\n",
        "shared_trips_distance = df.loc[df['Shared Trip Authorized'] == True, 'Trip Miles'].mean()\n",
        "print(f\"The average distance of shared trips is:{shared_trips_distance: .2f} Miles\")\n",
        "non_shared_trips_distance = df.loc[df['Shared Trip Authorized'] == False, 'Trip Miles'].mean()\n",
        "print(f\"The average distance of non_shared trips is:{non_shared_trips_distance: .2f} Miles\")"
      ],
      "metadata": {
        "colab": {
          "base_uri": "https://localhost:8080/"
        },
        "id": "7fSgPjYJIrPH",
        "outputId": "6de651b8-2de5-491c-e243-9269e194d01e"
      },
      "execution_count": 12,
      "outputs": [
        {
          "output_type": "stream",
          "name": "stdout",
          "text": [
            "The average duration of shared trips is: 1156.53 seconds.\n",
            "The average duration of non_shared trips is: 928.87 seconds\n",
            "The average distance of shared trips is: 4.88 Miles\n",
            "The average distance of non_shared trips is: 4.37 Miles\n"
          ]
        }
      ]
    },
    {
      "cell_type": "code",
      "source": [
        "# Modify the Dataset\n",
        "\n",
        "# Assume that the \"Trip Start Timestamp\" column contains date and time strings\n",
        "df[\"Start Timestamp\"] = pd.to_datetime(df[\"Trip Start Timestamp\"])\n",
        "\n",
        "# Print the modified dataframe\n",
        "print(df.dtypes)"
      ],
      "metadata": {
        "colab": {
          "base_uri": "https://localhost:8080/"
        },
        "id": "e0h3_gsuKb8f",
        "outputId": "2a89cda2-ca1c-4063-9191-19eb6b15d416"
      },
      "execution_count": 13,
      "outputs": [
        {
          "output_type": "stream",
          "name": "stdout",
          "text": [
            "Trip ID                               object\n",
            "Trip Start Timestamp                  object\n",
            "Trip End Timestamp                    object\n",
            "Trip Seconds                         float64\n",
            "Trip Miles                           float64\n",
            "Pickup Census Tract                  float64\n",
            "Dropoff Census Tract                 float64\n",
            "Pickup Community Area                float64\n",
            "Dropoff Community Area               float64\n",
            "Fare                                 float64\n",
            "Tip                                  float64\n",
            "Additional Charges                   float64\n",
            "Trip Total                           float64\n",
            "Shared Trip Authorized                object\n",
            "Trips Pooled                         float64\n",
            "Pickup Centroid Latitude             float64\n",
            "Pickup Centroid Longitude            float64\n",
            "Pickup Centroid Location              object\n",
            "Dropoff Centroid Latitude            float64\n",
            "Dropoff Centroid Longitude           float64\n",
            "Dropoff Centroid Location             object\n",
            "Start Timestamp               datetime64[ns]\n",
            "dtype: object\n"
          ]
        }
      ]
    },
    {
      "cell_type": "code",
      "source": [
        "# Assume that the \"Trip End Timestamp\" column contains date and time strings\n",
        "df[\"End Timestamp\"] = pd.to_datetime(df[\"Trip End Timestamp\"])\n",
        "\n",
        "# Drop the original \"Trip End Timestamp\" column\n",
        "df.drop(\"Trip End Timestamp\", axis=1, inplace=True)\n",
        "\n",
        "# Print the modified dataframe\n",
        "print(df.head())"
      ],
      "metadata": {
        "colab": {
          "base_uri": "https://localhost:8080/"
        },
        "id": "GBNMx8f-LNaN",
        "outputId": "37f2a48c-58a7-429c-f50b-7f488fe83467"
      },
      "execution_count": 14,
      "outputs": [
        {
          "output_type": "stream",
          "name": "stdout",
          "text": [
            "                                    Trip ID    Trip Start Timestamp  \\\n",
            "2  09e6dc28f00a710926385c004c9ef0099671443b  09/17/2019 10:45:00 PM   \n",
            "3  2c632a97287a94d8d9093e6082f83307435d80a6  11/29/2018 03:00:00 PM   \n",
            "4  09e6dc7bcc037a2553310b6f6dbc64ab32cddf65  08/06/2019 12:00:00 PM   \n",
            "5  2c632f3d748c49e9a6aa226fb97f492c7ed93d3a  12/13/2018 06:15:00 PM   \n",
            "7  2c632f7236325d19bbe558b59148ed5aaf034357  12/14/2018 01:15:00 AM   \n",
            "\n",
            "   Trip Seconds  Trip Miles  Pickup Census Tract  Dropoff Census Tract  \\\n",
            "2         268.0         1.1         1.703124e+10          1.703124e+10   \n",
            "3         596.0         2.5         1.703128e+10          1.703108e+10   \n",
            "4        1266.0         3.7         1.703124e+10          1.703132e+10   \n",
            "5        1147.0         4.3         1.703184e+10          1.703124e+10   \n",
            "7         346.0         1.4         1.703107e+10          1.703107e+10   \n",
            "\n",
            "   Pickup Community Area  Dropoff Community Area  Fare  Tip  ...  \\\n",
            "2                   24.0                    24.0   5.0  0.0  ...   \n",
            "3                   28.0                     8.0   7.5  0.0  ...   \n",
            "4                   24.0                    32.0  10.0  0.0  ...   \n",
            "5                   32.0                    24.0  10.0  0.0  ...   \n",
            "7                    7.0                     7.0   5.0  0.0  ...   \n",
            "\n",
            "   Shared Trip Authorized  Trips Pooled Pickup Centroid Latitude  \\\n",
            "2                   False           1.0                41.906026   \n",
            "3                   False           1.0                41.879255   \n",
            "4                   False           1.0                41.892537   \n",
            "5                   False           1.0                41.880994   \n",
            "7                   False           1.0                41.921778   \n",
            "\n",
            "   Pickup Centroid Longitude              Pickup Centroid Location  \\\n",
            "2                 -87.675312   POINT (-87.6753116216 41.906025969)   \n",
            "3                 -87.642649   POINT (-87.642648998 41.8792550844)   \n",
            "4                 -87.659864  POINT (-87.6598643178 41.8925368719)   \n",
            "5                 -87.632746  POINT (-87.6327464887 41.8809944707)   \n",
            "7                 -87.651062  POINT (-87.6510618838 41.9217781876)   \n",
            "\n",
            "   Dropoff Centroid Latitude Dropoff Centroid Longitude  \\\n",
            "2                  41.906708                 -87.684686   \n",
            "3                  41.891972                 -87.612945   \n",
            "4                  41.870607                 -87.622173   \n",
            "5                  41.906639                 -87.689580   \n",
            "7                  41.928763                 -87.665677   \n",
            "\n",
            "              Dropoff Centroid Location     Start Timestamp  \\\n",
            "2  POINT (-87.6846859492 41.9067077917) 2019-09-17 22:45:00   \n",
            "3  POINT (-87.6129454143 41.8919715078) 2018-11-29 15:00:00   \n",
            "4  POINT (-87.6221729369 41.8706073724) 2019-08-06 12:00:00   \n",
            "5  POINT (-87.6895798343 41.9066385418) 2018-12-13 18:15:00   \n",
            "7   POINT (-87.665676837 41.9287630064) 2018-12-14 01:15:00   \n",
            "\n",
            "        End Timestamp  \n",
            "2 2019-09-17 22:45:00  \n",
            "3 2018-11-29 15:15:00  \n",
            "4 2019-08-06 12:30:00  \n",
            "5 2018-12-13 18:30:00  \n",
            "7 2018-12-14 01:15:00  \n",
            "\n",
            "[5 rows x 22 columns]\n"
          ]
        }
      ]
    },
    {
      "cell_type": "code",
      "source": [
        "# extract the hour from the \"Start Timestamp\" column and convert it to an integer\n",
        "df[\"Start hour\"] = df[\"Start Timestamp\"].dt.hour.astype(int)\n",
        "\n",
        "# extract the hour from the \"End Timestamp\" column and convert it to an integer\n",
        "df[\"End hour\"] = df[\"End Timestamp\"].dt.hour.astype(int)"
      ],
      "metadata": {
        "id": "opMIcAopcOqw"
      },
      "execution_count": 15,
      "outputs": []
    },
    {
      "cell_type": "code",
      "source": [
        "# Modify the data to select the required columns and delete the others\n",
        "\n",
        "# Drop \"Trip ID\" column\n",
        "df.drop(\"Trip ID\", axis=1, inplace=True)\n",
        "\n",
        "# Drop \"Pickup Census Tract\" column\n",
        "df.drop(\"Pickup Census Tract\", axis=1, inplace=True)\n",
        "\n",
        "# Drop \"Dropoff Census Tract\" column\n",
        "df.drop(\"Dropoff Census Tract\", axis=1, inplace=True)\n",
        "\n",
        "# Drop \"Pickup Centroid Latitude\" column\n",
        "df.drop(\"Pickup Centroid Latitude\", axis=1, inplace=True)\n",
        "\n",
        "# Drop \"Pickup Centroid Longitude\" column\n",
        "df.drop(\"Pickup Centroid Longitude\", axis=1, inplace=True)\n",
        "\n",
        "# Drop \"Pickup Centroid Location\" column\n",
        "df.drop(\"Pickup Centroid Location\", axis=1, inplace=True)\n",
        "\n",
        "# Drop \"Dropoff Centroid Latitude\" column\n",
        "df.drop(\"Dropoff Centroid Latitude\", axis=1, inplace=True)\n",
        "\n",
        "# Drop \"Dropoff Centroid Longitude\" column\n",
        "df.drop(\"Dropoff Centroid Longitude\", axis=1, inplace=True)\n",
        "\n",
        "# Drop \"Dropoff Centroid Location\" column\n",
        "df.drop(\"Dropoff Centroid Location\", axis=1, inplace=True)\n"
      ],
      "metadata": {
        "id": "c0GPpTP4LYd7"
      },
      "execution_count": 18,
      "outputs": []
    },
    {
      "cell_type": "code",
      "source": [
        "# Drop \"Start Timestamp\" column\n",
        "df.drop(\"Start Timestamp\", axis=1, inplace=True)\n",
        "\n",
        "# Drop \"End Timestamp\" column\n",
        "df.drop(\"End Timestamp\", axis=1, inplace=True)"
      ],
      "metadata": {
        "id": "UpduZxNEcpCA"
      },
      "execution_count": 19,
      "outputs": []
    },
    {
      "cell_type": "code",
      "source": [
        "df.dtypes\n"
      ],
      "metadata": {
        "colab": {
          "base_uri": "https://localhost:8080/"
        },
        "id": "I8J03FnmMhwx",
        "outputId": "770632b4-b94d-4229-c726-7311f1e0dec7"
      },
      "execution_count": 20,
      "outputs": [
        {
          "output_type": "execute_result",
          "data": {
            "text/plain": [
              "Trip Seconds              float64\n",
              "Trip Miles                float64\n",
              "Pickup Community Area     float64\n",
              "Dropoff Community Area    float64\n",
              "Fare                      float64\n",
              "Tip                       float64\n",
              "Additional Charges        float64\n",
              "Trip Total                float64\n",
              "Shared Trip Authorized     object\n",
              "Trips Pooled              float64\n",
              "Start hour                  int64\n",
              "End hour                    int64\n",
              "dtype: object"
            ]
          },
          "metadata": {},
          "execution_count": 20
        }
      ]
    },
    {
      "cell_type": "code",
      "source": [
        "from tensorflow import keras\n",
        "from sklearn.model_selection import train_test_split\n",
        "from sklearn.metrics import roc_auc_score\n",
        "from keras.models import Sequential\n",
        "from keras.layers import Dense"
      ],
      "metadata": {
        "id": "rBjJId1MPayu"
      },
      "execution_count": 21,
      "outputs": []
    },
    {
      "cell_type": "code",
      "source": [
        "# Define the dataset\n",
        "df['Shared Trip Authorized'] = df['Shared Trip Authorized'].astype(int)\n"
      ],
      "metadata": {
        "id": "DhZeGANiSENP"
      },
      "execution_count": 40,
      "outputs": []
    },
    {
      "cell_type": "code",
      "source": [
        "# get the indices of True and False values separately\n",
        "true_indices = df[df[\"Shared Trip Authorized\"] == 1].index\n",
        "false_indices = df[df[\"Shared Trip Authorized\"] == 0].index\n",
        "\n",
        "# randomly sample an equal number of True and False values\n",
        "num_samples = min(len(true_indices), len(false_indices))\n",
        "true_samples = df.loc[true_indices].sample(n=num_samples)\n",
        "false_samples = df.loc[false_indices].sample(n=num_samples)\n",
        "\n",
        "# concatenate the sampled True and False values into a single dataframe\n",
        "selected_data = pd.concat([true_samples, false_samples])"
      ],
      "metadata": {
        "id": "QneOxXNFRrXq"
      },
      "execution_count": 41,
      "outputs": []
    },
    {
      "cell_type": "code",
      "source": [
        "# Select the required data for model\n",
        "X = selected_data.loc[:, ['Trip Seconds', 'Trip Miles', 'Pickup Community Area', 'Dropoff Community Area', 'Fare','Start hour']]\n",
        "y = selected_data.loc[:, 'Shared Trip Authorized']\n",
        "\n",
        "print(X.shape)\n",
        "print(X.dtypes)\n",
        "print(y.shape)\n",
        "print(y.dtypes)"
      ],
      "metadata": {
        "colab": {
          "base_uri": "https://localhost:8080/"
        },
        "id": "oiS4-FwASIh2",
        "outputId": "6b3c86ad-5214-4c0f-b413-b1eefccf7996"
      },
      "execution_count": 42,
      "outputs": [
        {
          "output_type": "stream",
          "name": "stdout",
          "text": [
            "(62236, 6)\n",
            "Trip Seconds              float64\n",
            "Trip Miles                float64\n",
            "Pickup Community Area     float64\n",
            "Dropoff Community Area    float64\n",
            "Fare                      float64\n",
            "Start hour                  int64\n",
            "dtype: object\n",
            "(62236,)\n",
            "int64\n"
          ]
        }
      ]
    },
    {
      "cell_type": "code",
      "source": [
        "# Split the data into training, testing, and cross validation sets\n",
        "X_train, X_test_val, y_train, y_test_val = train_test_split(X, y, test_size=0.2, random_state=42)\n",
        "\n",
        "X_test, X_val, y_test, y_val = train_test_split(X_test_val, y_test_val, test_size=0.5, random_state=42)\n",
        "\n",
        "print(X_train.shape)\n",
        "print(X_val.shape)\n",
        "print(X_test.shape)\n"
      ],
      "metadata": {
        "id": "5BHaqZviQaKN",
        "colab": {
          "base_uri": "https://localhost:8080/"
        },
        "outputId": "234d2c02-351a-40a7-cc37-dc9927621737"
      },
      "execution_count": 43,
      "outputs": [
        {
          "output_type": "stream",
          "name": "stdout",
          "text": [
            "(49788, 6)\n",
            "(6224, 6)\n",
            "(6224, 6)\n"
          ]
        }
      ]
    },
    {
      "cell_type": "code",
      "source": [
        "# Define the model architecture 1\n",
        "model_1 = Sequential()\n",
        "model_1.add(Dense(64, input_dim=X_train.shape[1], activation='relu'))\n",
        "model_1.add(Dense(32, activation='relu'))\n",
        "model_1.add(Dense(1, activation='sigmoid'))"
      ],
      "metadata": {
        "id": "pUZWGpR5TtEf"
      },
      "execution_count": 172,
      "outputs": []
    },
    {
      "cell_type": "code",
      "source": [
        "# Define the model architecture 2\n",
        "model_2 = Sequential()\n",
        "model_2.add(Dense(128, input_dim=X_train.shape[1], activation='relu'))\n",
        "model_2.add(Dense(64, activation='relu'))\n",
        "model_2.add(Dense(32, activation='relu'))\n",
        "model_2.add(Dense(1, activation='sigmoid'))"
      ],
      "metadata": {
        "id": "ZNhz_Sm0W2so"
      },
      "execution_count": 173,
      "outputs": []
    },
    {
      "cell_type": "code",
      "source": [
        "# Define the model architecture 3\n",
        "model_3 = Sequential()\n",
        "model_3.add(Dense(64, input_dim=X_train.shape[1], activation='relu'))\n",
        "model_3.add(Dense(64, activation='relu'))\n",
        "model_3.add(Dense(64, activation='relu'))\n",
        "model_3.add(Dense(32, activation='relu'))\n",
        "model_3.add(Dense(1, activation='sigmoid'))"
      ],
      "metadata": {
        "id": "nijZm82rZZun"
      },
      "execution_count": 174,
      "outputs": []
    },
    {
      "cell_type": "code",
      "source": [
        "# Define the model architecture 4\n",
        "model_4 = Sequential()\n",
        "model_4.add(Dense(64, input_dim=X_train.shape[1], activation='relu'))\n",
        "model_4.add(Dense(64, activation='relu'))\n",
        "model_4.add(Dense(32, activation='relu'))\n",
        "model_4.add(Dense(32, activation='relu'))\n",
        "model_4.add(Dense(16, activation='relu'))\n",
        "model_4.add(Dense(1, activation='sigmoid'))"
      ],
      "metadata": {
        "id": "_T6l-jfQe5w6"
      },
      "execution_count": 175,
      "outputs": []
    },
    {
      "cell_type": "code",
      "source": [
        "# Define the model architecture 5\n",
        "hidden_units = 100\n",
        "\n",
        "\n",
        "model_5 = Sequential()\n",
        "model_5.add(Dense(hidden_units, input_dim=X_train.shape[1], activation='relu', kernel_regularizer=keras.regularizers.l2(0)))\n",
        "model_5.add(Dense(hidden_units, activation='relu', kernel_regularizer=keras.regularizers.l2(0.0)))\n",
        "model_5.add(Dense(hidden_units, activation='relu', kernel_regularizer=keras.regularizers.l2(0.0)))\n",
        "model_5.add(Dense(hidden_units, activation='relu', kernel_regularizer=keras.regularizers.l2(0.0)))\n",
        "model_5.add(Dense(hidden_units, activation='relu', kernel_regularizer=keras.regularizers.l2(0.0)))\n",
        "model_5.add(Dense(hidden_units, activation='relu', kernel_regularizer=keras.regularizers.l2(0.0)))\n",
        "model_5.add(Dense(1, activation='sigmoid', kernel_regularizer=keras.regularizers.l2(0.0)))"
      ],
      "metadata": {
        "id": "itLFSqb2fnc_"
      },
      "execution_count": 176,
      "outputs": []
    },
    {
      "cell_type": "code",
      "source": [
        "# Define the model architecture 6\n",
        "model_6 = Sequential()\n",
        "model_6.add(Dense(hidden_units, input_dim=X_train.shape[1], activation='relu'))\n",
        "model_6.add(Dense(hidden_units, activation='relu'))\n",
        "model_6.add(Dense(hidden_units, activation='relu'))\n",
        "model_6.add(Dense(hidden_units, activation='relu'))\n",
        "model_6.add(Dense(hidden_units, activation='relu'))\n",
        "model_6.add(Dense(hidden_units, activation='relu'))\n",
        "model_6.add(Dense(hidden_units, activation='relu'))\n",
        "model_6.add(Dense(hidden_units, activation='relu'))\n",
        "model_6.add(Dense(hidden_units, activation='relu'))\n",
        "model_6.add(Dense(hidden_units, activation='relu'))\n",
        "model_6.add(Dense(hidden_units, activation='relu'))\n",
        "model_6.add(Dense(hidden_units, activation='relu'))\n",
        "model_6.add(Dense(hidden_units, activation='relu'))\n",
        "model_6.add(Dense(1, activation='sigmoid'))"
      ],
      "metadata": {
        "id": "B2u38ee23pDP"
      },
      "execution_count": 177,
      "outputs": []
    },
    {
      "cell_type": "code",
      "source": [
        "# Compile the models\n",
        "\n",
        "model_1.compile(loss='binary_crossentropy', optimizer='adam', metrics=['binary_accuracy'])\n",
        "model_2.compile(loss='binary_crossentropy', optimizer='adam', metrics=['binary_accuracy'])\n",
        "model_3.compile(loss='binary_crossentropy', optimizer='adam', metrics=['binary_accuracy'])\n",
        "model_4.compile(loss='binary_crossentropy', optimizer='adam', metrics=['binary_accuracy'])\n",
        "model_5.compile(loss='binary_crossentropy', optimizer='adam', metrics=['binary_accuracy'])\n",
        "model_6.compile(loss='binary_crossentropy', optimizer='adam', metrics=['binary_accuracy'])"
      ],
      "metadata": {
        "id": "b0FBAQKgUS3V"
      },
      "execution_count": 178,
      "outputs": []
    },
    {
      "cell_type": "code",
      "source": [
        "# Train the model_1\n",
        "history = model_1.fit(X_val, y_val, epochs=100, batch_size=32)"
      ],
      "metadata": {
        "colab": {
          "base_uri": "https://localhost:8080/"
        },
        "id": "r9ZIncKuUVi7",
        "outputId": "8a39c9df-f62b-49bc-980f-cfb690da5e22"
      },
      "execution_count": 179,
      "outputs": [
        {
          "output_type": "stream",
          "name": "stdout",
          "text": [
            "Epoch 1/100\n",
            "195/195 [==============================] - 1s 2ms/step - loss: 2.2269 - binary_accuracy: 0.4998\n",
            "Epoch 2/100\n",
            "195/195 [==============================] - 0s 2ms/step - loss: 0.7762 - binary_accuracy: 0.6228\n",
            "Epoch 3/100\n",
            "195/195 [==============================] - 0s 2ms/step - loss: 0.5856 - binary_accuracy: 0.7195\n",
            "Epoch 4/100\n",
            "195/195 [==============================] - 0s 3ms/step - loss: 0.5663 - binary_accuracy: 0.7412\n",
            "Epoch 5/100\n",
            "195/195 [==============================] - 0s 2ms/step - loss: 0.5396 - binary_accuracy: 0.7555\n",
            "Epoch 6/100\n",
            "195/195 [==============================] - 0s 2ms/step - loss: 0.6054 - binary_accuracy: 0.7423\n",
            "Epoch 7/100\n",
            "195/195 [==============================] - 0s 2ms/step - loss: 0.4923 - binary_accuracy: 0.7878\n",
            "Epoch 8/100\n",
            "195/195 [==============================] - 0s 2ms/step - loss: 0.5436 - binary_accuracy: 0.7625\n",
            "Epoch 9/100\n",
            "195/195 [==============================] - 1s 3ms/step - loss: 0.4966 - binary_accuracy: 0.7884\n",
            "Epoch 10/100\n",
            "195/195 [==============================] - 0s 2ms/step - loss: 0.5214 - binary_accuracy: 0.7847\n",
            "Epoch 11/100\n",
            "195/195 [==============================] - 0s 2ms/step - loss: 0.5050 - binary_accuracy: 0.7927\n",
            "Epoch 12/100\n",
            "195/195 [==============================] - 0s 2ms/step - loss: 0.4916 - binary_accuracy: 0.7908\n",
            "Epoch 13/100\n",
            "195/195 [==============================] - 0s 2ms/step - loss: 0.4585 - binary_accuracy: 0.8104\n",
            "Epoch 14/100\n",
            "195/195 [==============================] - 0s 2ms/step - loss: 0.5055 - binary_accuracy: 0.7860\n",
            "Epoch 15/100\n",
            "195/195 [==============================] - 0s 2ms/step - loss: 0.5194 - binary_accuracy: 0.7868\n",
            "Epoch 16/100\n",
            "195/195 [==============================] - 0s 2ms/step - loss: 0.4912 - binary_accuracy: 0.8048\n",
            "Epoch 17/100\n",
            "195/195 [==============================] - 0s 2ms/step - loss: 0.5042 - binary_accuracy: 0.7919\n",
            "Epoch 18/100\n",
            "195/195 [==============================] - 0s 2ms/step - loss: 0.4895 - binary_accuracy: 0.8041\n",
            "Epoch 19/100\n",
            "195/195 [==============================] - 0s 2ms/step - loss: 0.5510 - binary_accuracy: 0.7831\n",
            "Epoch 20/100\n",
            "195/195 [==============================] - 0s 2ms/step - loss: 0.4975 - binary_accuracy: 0.7960\n",
            "Epoch 21/100\n",
            "195/195 [==============================] - 0s 2ms/step - loss: 0.4693 - binary_accuracy: 0.8027\n",
            "Epoch 22/100\n",
            "195/195 [==============================] - 0s 2ms/step - loss: 0.4576 - binary_accuracy: 0.8139\n",
            "Epoch 23/100\n",
            "195/195 [==============================] - 0s 2ms/step - loss: 0.4923 - binary_accuracy: 0.7972\n",
            "Epoch 24/100\n",
            "195/195 [==============================] - 0s 2ms/step - loss: 0.4229 - binary_accuracy: 0.8297\n",
            "Epoch 25/100\n",
            "195/195 [==============================] - 0s 2ms/step - loss: 0.4477 - binary_accuracy: 0.8212\n",
            "Epoch 26/100\n",
            "195/195 [==============================] - 0s 2ms/step - loss: 0.4480 - binary_accuracy: 0.8201\n",
            "Epoch 27/100\n",
            "195/195 [==============================] - 0s 2ms/step - loss: 0.4570 - binary_accuracy: 0.8067\n",
            "Epoch 28/100\n",
            "195/195 [==============================] - 0s 2ms/step - loss: 0.5253 - binary_accuracy: 0.8029\n",
            "Epoch 29/100\n",
            "195/195 [==============================] - 0s 2ms/step - loss: 0.4175 - binary_accuracy: 0.8335\n",
            "Epoch 30/100\n",
            "195/195 [==============================] - 0s 2ms/step - loss: 0.4233 - binary_accuracy: 0.8262\n",
            "Epoch 31/100\n",
            "195/195 [==============================] - 0s 2ms/step - loss: 0.4281 - binary_accuracy: 0.8292\n",
            "Epoch 32/100\n",
            "195/195 [==============================] - 0s 2ms/step - loss: 0.5025 - binary_accuracy: 0.8001\n",
            "Epoch 33/100\n",
            "195/195 [==============================] - 0s 2ms/step - loss: 0.5151 - binary_accuracy: 0.7987\n",
            "Epoch 34/100\n",
            "195/195 [==============================] - 0s 2ms/step - loss: 0.4439 - binary_accuracy: 0.8231\n",
            "Epoch 35/100\n",
            "195/195 [==============================] - 0s 2ms/step - loss: 0.4709 - binary_accuracy: 0.8072\n",
            "Epoch 36/100\n",
            "195/195 [==============================] - 0s 2ms/step - loss: 0.4280 - binary_accuracy: 0.8308\n",
            "Epoch 37/100\n",
            "195/195 [==============================] - 0s 2ms/step - loss: 0.4595 - binary_accuracy: 0.8147\n",
            "Epoch 38/100\n",
            "195/195 [==============================] - 0s 1ms/step - loss: 0.4719 - binary_accuracy: 0.8133\n",
            "Epoch 39/100\n",
            "195/195 [==============================] - 0s 2ms/step - loss: 0.5555 - binary_accuracy: 0.7972\n",
            "Epoch 40/100\n",
            "195/195 [==============================] - 0s 2ms/step - loss: 0.4843 - binary_accuracy: 0.8006\n",
            "Epoch 41/100\n",
            "195/195 [==============================] - 0s 2ms/step - loss: 0.4363 - binary_accuracy: 0.8276\n",
            "Epoch 42/100\n",
            "195/195 [==============================] - 0s 2ms/step - loss: 0.4104 - binary_accuracy: 0.8388\n",
            "Epoch 43/100\n",
            "195/195 [==============================] - 0s 2ms/step - loss: 0.4475 - binary_accuracy: 0.8199\n",
            "Epoch 44/100\n",
            "195/195 [==============================] - 0s 3ms/step - loss: 0.4262 - binary_accuracy: 0.8307\n",
            "Epoch 45/100\n",
            "195/195 [==============================] - 0s 2ms/step - loss: 0.4383 - binary_accuracy: 0.8300\n",
            "Epoch 46/100\n",
            "195/195 [==============================] - 0s 2ms/step - loss: 0.4200 - binary_accuracy: 0.8308\n",
            "Epoch 47/100\n",
            "195/195 [==============================] - 0s 2ms/step - loss: 0.4152 - binary_accuracy: 0.8316\n",
            "Epoch 48/100\n",
            "195/195 [==============================] - 0s 2ms/step - loss: 0.4851 - binary_accuracy: 0.8067\n",
            "Epoch 49/100\n",
            "195/195 [==============================] - 0s 2ms/step - loss: 0.3947 - binary_accuracy: 0.8401\n",
            "Epoch 50/100\n",
            "195/195 [==============================] - 0s 2ms/step - loss: 0.4181 - binary_accuracy: 0.8310\n",
            "Epoch 51/100\n",
            "195/195 [==============================] - 0s 2ms/step - loss: 0.4170 - binary_accuracy: 0.8334\n",
            "Epoch 52/100\n",
            "195/195 [==============================] - 0s 2ms/step - loss: 0.4214 - binary_accuracy: 0.8257\n",
            "Epoch 53/100\n",
            "195/195 [==============================] - 0s 2ms/step - loss: 0.4180 - binary_accuracy: 0.8311\n",
            "Epoch 54/100\n",
            "195/195 [==============================] - 0s 2ms/step - loss: 0.3938 - binary_accuracy: 0.8366\n",
            "Epoch 55/100\n",
            "195/195 [==============================] - 0s 2ms/step - loss: 0.4100 - binary_accuracy: 0.8382\n",
            "Epoch 56/100\n",
            "195/195 [==============================] - 0s 2ms/step - loss: 0.3856 - binary_accuracy: 0.8461\n",
            "Epoch 57/100\n",
            "195/195 [==============================] - 0s 2ms/step - loss: 0.3943 - binary_accuracy: 0.8427\n",
            "Epoch 58/100\n",
            "195/195 [==============================] - 0s 2ms/step - loss: 0.3976 - binary_accuracy: 0.8380\n",
            "Epoch 59/100\n",
            "195/195 [==============================] - 0s 2ms/step - loss: 0.3964 - binary_accuracy: 0.8345\n",
            "Epoch 60/100\n",
            "195/195 [==============================] - 0s 2ms/step - loss: 0.4010 - binary_accuracy: 0.8401\n",
            "Epoch 61/100\n",
            "195/195 [==============================] - 0s 2ms/step - loss: 0.4113 - binary_accuracy: 0.8282\n",
            "Epoch 62/100\n",
            "195/195 [==============================] - 0s 2ms/step - loss: 0.4200 - binary_accuracy: 0.8300\n",
            "Epoch 63/100\n",
            "195/195 [==============================] - 0s 2ms/step - loss: 0.4019 - binary_accuracy: 0.8329\n",
            "Epoch 64/100\n",
            "195/195 [==============================] - 0s 2ms/step - loss: 0.4139 - binary_accuracy: 0.8305\n",
            "Epoch 65/100\n",
            "195/195 [==============================] - 0s 2ms/step - loss: 0.3920 - binary_accuracy: 0.8398\n",
            "Epoch 66/100\n",
            "195/195 [==============================] - 0s 2ms/step - loss: 0.3928 - binary_accuracy: 0.8425\n",
            "Epoch 67/100\n",
            "195/195 [==============================] - 0s 2ms/step - loss: 0.3933 - binary_accuracy: 0.8448\n",
            "Epoch 68/100\n",
            "195/195 [==============================] - 0s 2ms/step - loss: 0.3993 - binary_accuracy: 0.8380\n",
            "Epoch 69/100\n",
            "195/195 [==============================] - 0s 2ms/step - loss: 0.4187 - binary_accuracy: 0.8287\n",
            "Epoch 70/100\n",
            "195/195 [==============================] - 0s 2ms/step - loss: 0.3900 - binary_accuracy: 0.8422\n",
            "Epoch 71/100\n",
            "195/195 [==============================] - 0s 2ms/step - loss: 0.3863 - binary_accuracy: 0.8459\n",
            "Epoch 72/100\n",
            "195/195 [==============================] - 0s 2ms/step - loss: 0.3730 - binary_accuracy: 0.8531\n",
            "Epoch 73/100\n",
            "195/195 [==============================] - 0s 2ms/step - loss: 0.3910 - binary_accuracy: 0.8376\n",
            "Epoch 74/100\n",
            "195/195 [==============================] - 1s 6ms/step - loss: 0.3827 - binary_accuracy: 0.8443\n",
            "Epoch 75/100\n",
            "195/195 [==============================] - 1s 6ms/step - loss: 0.3873 - binary_accuracy: 0.8401\n",
            "Epoch 76/100\n",
            "195/195 [==============================] - 1s 3ms/step - loss: 0.4160 - binary_accuracy: 0.8321\n",
            "Epoch 77/100\n",
            "195/195 [==============================] - 1s 4ms/step - loss: 0.3752 - binary_accuracy: 0.8507\n",
            "Epoch 78/100\n",
            "195/195 [==============================] - 0s 2ms/step - loss: 0.3809 - binary_accuracy: 0.8461\n",
            "Epoch 79/100\n",
            "195/195 [==============================] - 0s 2ms/step - loss: 0.4035 - binary_accuracy: 0.8377\n",
            "Epoch 80/100\n",
            "195/195 [==============================] - 0s 2ms/step - loss: 0.3848 - binary_accuracy: 0.8458\n",
            "Epoch 81/100\n",
            "195/195 [==============================] - 0s 2ms/step - loss: 0.3711 - binary_accuracy: 0.8536\n",
            "Epoch 82/100\n",
            "195/195 [==============================] - 0s 2ms/step - loss: 0.3674 - binary_accuracy: 0.8515\n",
            "Epoch 83/100\n",
            "195/195 [==============================] - 0s 2ms/step - loss: 0.3757 - binary_accuracy: 0.8462\n",
            "Epoch 84/100\n",
            "195/195 [==============================] - 0s 2ms/step - loss: 0.3973 - binary_accuracy: 0.8384\n",
            "Epoch 85/100\n",
            "195/195 [==============================] - 0s 2ms/step - loss: 0.3839 - binary_accuracy: 0.8446\n",
            "Epoch 86/100\n",
            "195/195 [==============================] - 0s 2ms/step - loss: 0.4110 - binary_accuracy: 0.8315\n",
            "Epoch 87/100\n",
            "195/195 [==============================] - 0s 2ms/step - loss: 0.3915 - binary_accuracy: 0.8413\n",
            "Epoch 88/100\n",
            "195/195 [==============================] - 0s 2ms/step - loss: 0.3914 - binary_accuracy: 0.8411\n",
            "Epoch 89/100\n",
            "195/195 [==============================] - 0s 2ms/step - loss: 0.3798 - binary_accuracy: 0.8499\n",
            "Epoch 90/100\n",
            "195/195 [==============================] - 0s 2ms/step - loss: 0.3733 - binary_accuracy: 0.8472\n",
            "Epoch 91/100\n",
            "195/195 [==============================] - 1s 4ms/step - loss: 0.3925 - binary_accuracy: 0.8384\n",
            "Epoch 92/100\n",
            "195/195 [==============================] - 0s 2ms/step - loss: 0.3798 - binary_accuracy: 0.8478\n",
            "Epoch 93/100\n",
            "195/195 [==============================] - 1s 4ms/step - loss: 0.3733 - binary_accuracy: 0.8459\n",
            "Epoch 94/100\n",
            "195/195 [==============================] - 0s 2ms/step - loss: 0.3693 - binary_accuracy: 0.8483\n",
            "Epoch 95/100\n",
            "195/195 [==============================] - 0s 2ms/step - loss: 0.3882 - binary_accuracy: 0.8398\n",
            "Epoch 96/100\n",
            "195/195 [==============================] - 0s 2ms/step - loss: 0.3666 - binary_accuracy: 0.8540\n",
            "Epoch 97/100\n",
            "195/195 [==============================] - 0s 2ms/step - loss: 0.3873 - binary_accuracy: 0.8438\n",
            "Epoch 98/100\n",
            "195/195 [==============================] - 0s 2ms/step - loss: 0.3659 - binary_accuracy: 0.8525\n",
            "Epoch 99/100\n",
            "195/195 [==============================] - 0s 2ms/step - loss: 0.3690 - binary_accuracy: 0.8480\n",
            "Epoch 100/100\n",
            "195/195 [==============================] - 0s 2ms/step - loss: 0.3898 - binary_accuracy: 0.8417\n"
          ]
        }
      ]
    },
    {
      "cell_type": "code",
      "source": [
        "# Evaluate the model_1\n",
        "score_1 = model_1.evaluate(X_val, y_val, verbose=0)\n",
        "print(f'Test loss: {score_1[0]} / Test accuracy: {score_1[1]}')"
      ],
      "metadata": {
        "colab": {
          "base_uri": "https://localhost:8080/"
        },
        "id": "bvLg2hDJdh4X",
        "outputId": "f42b84e9-e59e-4b50-80dd-ba8594525214"
      },
      "execution_count": 180,
      "outputs": [
        {
          "output_type": "stream",
          "name": "stdout",
          "text": [
            "Test loss: 0.377288281917572 / Test accuracy: 0.8439909815788269\n"
          ]
        }
      ]
    },
    {
      "cell_type": "code",
      "source": [
        "# Train the model_2\n",
        "history = model_2.fit(X_val, y_val, epochs=100, batch_size=32)"
      ],
      "metadata": {
        "colab": {
          "base_uri": "https://localhost:8080/"
        },
        "id": "n30g46Xnd6W_",
        "outputId": "76a89cbf-6c58-4358-f9ed-4a0fb4f1edad"
      },
      "execution_count": 181,
      "outputs": [
        {
          "output_type": "stream",
          "name": "stdout",
          "text": [
            "Epoch 1/100\n",
            "195/195 [==============================] - 2s 3ms/step - loss: 1.3934 - binary_accuracy: 0.5522\n",
            "Epoch 2/100\n",
            "195/195 [==============================] - 0s 2ms/step - loss: 0.9246 - binary_accuracy: 0.6258\n",
            "Epoch 3/100\n",
            "195/195 [==============================] - 1s 3ms/step - loss: 0.9304 - binary_accuracy: 0.6737\n",
            "Epoch 4/100\n",
            "195/195 [==============================] - 1s 3ms/step - loss: 0.5893 - binary_accuracy: 0.7424\n",
            "Epoch 5/100\n",
            "195/195 [==============================] - 1s 3ms/step - loss: 0.6988 - binary_accuracy: 0.7137\n",
            "Epoch 6/100\n",
            "195/195 [==============================] - 0s 3ms/step - loss: 0.5956 - binary_accuracy: 0.7404\n",
            "Epoch 7/100\n",
            "195/195 [==============================] - 0s 2ms/step - loss: 0.5194 - binary_accuracy: 0.7768\n",
            "Epoch 8/100\n",
            "195/195 [==============================] - 0s 2ms/step - loss: 0.5269 - binary_accuracy: 0.7746\n",
            "Epoch 9/100\n",
            "195/195 [==============================] - 0s 2ms/step - loss: 0.5296 - binary_accuracy: 0.7796\n",
            "Epoch 10/100\n",
            "195/195 [==============================] - 0s 2ms/step - loss: 0.5318 - binary_accuracy: 0.7760\n",
            "Epoch 11/100\n",
            "195/195 [==============================] - 0s 2ms/step - loss: 0.4879 - binary_accuracy: 0.7903\n",
            "Epoch 12/100\n",
            "195/195 [==============================] - 0s 2ms/step - loss: 0.5693 - binary_accuracy: 0.7653\n",
            "Epoch 13/100\n",
            "195/195 [==============================] - 0s 2ms/step - loss: 0.5171 - binary_accuracy: 0.7813\n",
            "Epoch 14/100\n",
            "195/195 [==============================] - 0s 2ms/step - loss: 0.4558 - binary_accuracy: 0.8112\n",
            "Epoch 15/100\n",
            "195/195 [==============================] - 0s 2ms/step - loss: 0.4620 - binary_accuracy: 0.8017\n",
            "Epoch 16/100\n",
            "195/195 [==============================] - 0s 2ms/step - loss: 0.5075 - binary_accuracy: 0.7839\n",
            "Epoch 17/100\n",
            "195/195 [==============================] - 0s 2ms/step - loss: 0.5394 - binary_accuracy: 0.7669\n",
            "Epoch 18/100\n",
            "195/195 [==============================] - 0s 2ms/step - loss: 0.4659 - binary_accuracy: 0.7971\n",
            "Epoch 19/100\n",
            "195/195 [==============================] - 0s 2ms/step - loss: 0.4378 - binary_accuracy: 0.8162\n",
            "Epoch 20/100\n",
            "195/195 [==============================] - 0s 2ms/step - loss: 0.4251 - binary_accuracy: 0.8225\n",
            "Epoch 21/100\n",
            "195/195 [==============================] - 0s 2ms/step - loss: 0.4608 - binary_accuracy: 0.8051\n",
            "Epoch 22/100\n",
            "195/195 [==============================] - 0s 2ms/step - loss: 0.4268 - binary_accuracy: 0.8260\n",
            "Epoch 23/100\n",
            "195/195 [==============================] - 0s 2ms/step - loss: 0.4216 - binary_accuracy: 0.8247\n",
            "Epoch 24/100\n",
            "195/195 [==============================] - 0s 2ms/step - loss: 0.4566 - binary_accuracy: 0.8059\n",
            "Epoch 25/100\n",
            "195/195 [==============================] - 0s 2ms/step - loss: 0.4132 - binary_accuracy: 0.8305\n",
            "Epoch 26/100\n",
            "195/195 [==============================] - 0s 2ms/step - loss: 0.4222 - binary_accuracy: 0.8250\n",
            "Epoch 27/100\n",
            "195/195 [==============================] - 0s 2ms/step - loss: 0.4205 - binary_accuracy: 0.8257\n",
            "Epoch 28/100\n",
            "195/195 [==============================] - 0s 2ms/step - loss: 0.4353 - binary_accuracy: 0.8149\n",
            "Epoch 29/100\n",
            "195/195 [==============================] - 0s 2ms/step - loss: 0.4152 - binary_accuracy: 0.8249\n",
            "Epoch 30/100\n",
            "195/195 [==============================] - 0s 2ms/step - loss: 0.4304 - binary_accuracy: 0.8176\n",
            "Epoch 31/100\n",
            "195/195 [==============================] - 0s 2ms/step - loss: 0.4651 - binary_accuracy: 0.7916\n",
            "Epoch 32/100\n",
            "195/195 [==============================] - 1s 3ms/step - loss: 0.4198 - binary_accuracy: 0.8165\n",
            "Epoch 33/100\n",
            "195/195 [==============================] - 1s 3ms/step - loss: 0.4210 - binary_accuracy: 0.8146\n",
            "Epoch 34/100\n",
            "195/195 [==============================] - 1s 3ms/step - loss: 0.3974 - binary_accuracy: 0.8311\n",
            "Epoch 35/100\n",
            "195/195 [==============================] - 1s 3ms/step - loss: 0.4010 - binary_accuracy: 0.8274\n",
            "Epoch 36/100\n",
            "195/195 [==============================] - 1s 3ms/step - loss: 0.3954 - binary_accuracy: 0.8318\n",
            "Epoch 37/100\n",
            "195/195 [==============================] - 1s 3ms/step - loss: 0.3938 - binary_accuracy: 0.8315\n",
            "Epoch 38/100\n",
            "195/195 [==============================] - 0s 2ms/step - loss: 0.3812 - binary_accuracy: 0.8398\n",
            "Epoch 39/100\n",
            "195/195 [==============================] - 0s 2ms/step - loss: 0.4116 - binary_accuracy: 0.8258\n",
            "Epoch 40/100\n",
            "195/195 [==============================] - 0s 2ms/step - loss: 0.3881 - binary_accuracy: 0.8307\n",
            "Epoch 41/100\n",
            "195/195 [==============================] - 0s 2ms/step - loss: 0.3902 - binary_accuracy: 0.8329\n",
            "Epoch 42/100\n",
            "195/195 [==============================] - 0s 2ms/step - loss: 0.3824 - binary_accuracy: 0.8379\n",
            "Epoch 43/100\n",
            "195/195 [==============================] - 0s 2ms/step - loss: 0.3892 - binary_accuracy: 0.8315\n",
            "Epoch 44/100\n",
            "195/195 [==============================] - 0s 2ms/step - loss: 0.3915 - binary_accuracy: 0.8258\n",
            "Epoch 45/100\n",
            "195/195 [==============================] - 0s 2ms/step - loss: 0.3859 - binary_accuracy: 0.8342\n",
            "Epoch 46/100\n",
            "195/195 [==============================] - 0s 2ms/step - loss: 0.3850 - binary_accuracy: 0.8345\n",
            "Epoch 47/100\n",
            "195/195 [==============================] - 0s 2ms/step - loss: 0.3712 - binary_accuracy: 0.8461\n",
            "Epoch 48/100\n",
            "195/195 [==============================] - 0s 2ms/step - loss: 0.3751 - binary_accuracy: 0.8377\n",
            "Epoch 49/100\n",
            "195/195 [==============================] - 0s 2ms/step - loss: 0.4232 - binary_accuracy: 0.8143\n",
            "Epoch 50/100\n",
            "195/195 [==============================] - 0s 2ms/step - loss: 0.3749 - binary_accuracy: 0.8453\n",
            "Epoch 51/100\n",
            "195/195 [==============================] - 0s 2ms/step - loss: 0.4004 - binary_accuracy: 0.8337\n",
            "Epoch 52/100\n",
            "195/195 [==============================] - 0s 2ms/step - loss: 0.3857 - binary_accuracy: 0.8388\n",
            "Epoch 53/100\n",
            "195/195 [==============================] - 0s 2ms/step - loss: 0.3983 - binary_accuracy: 0.8374\n",
            "Epoch 54/100\n",
            "195/195 [==============================] - 0s 2ms/step - loss: 0.4205 - binary_accuracy: 0.8170\n",
            "Epoch 55/100\n",
            "195/195 [==============================] - 0s 2ms/step - loss: 0.3865 - binary_accuracy: 0.8345\n",
            "Epoch 56/100\n",
            "195/195 [==============================] - 0s 2ms/step - loss: 0.3935 - binary_accuracy: 0.8308\n",
            "Epoch 57/100\n",
            "195/195 [==============================] - 0s 2ms/step - loss: 0.3892 - binary_accuracy: 0.8348\n",
            "Epoch 58/100\n",
            "195/195 [==============================] - 0s 2ms/step - loss: 0.3969 - binary_accuracy: 0.8270\n",
            "Epoch 59/100\n",
            "195/195 [==============================] - 0s 2ms/step - loss: 0.3899 - binary_accuracy: 0.8310\n",
            "Epoch 60/100\n",
            "195/195 [==============================] - 0s 2ms/step - loss: 0.3809 - binary_accuracy: 0.8380\n",
            "Epoch 61/100\n",
            "195/195 [==============================] - 0s 2ms/step - loss: 0.3910 - binary_accuracy: 0.8340\n",
            "Epoch 62/100\n",
            "195/195 [==============================] - 1s 3ms/step - loss: 0.3912 - binary_accuracy: 0.8315\n",
            "Epoch 63/100\n",
            "195/195 [==============================] - 1s 3ms/step - loss: 0.3948 - binary_accuracy: 0.8289\n",
            "Epoch 64/100\n",
            "195/195 [==============================] - 1s 3ms/step - loss: 0.3867 - binary_accuracy: 0.8348\n",
            "Epoch 65/100\n",
            "195/195 [==============================] - 1s 3ms/step - loss: 0.4119 - binary_accuracy: 0.8192\n",
            "Epoch 66/100\n",
            "195/195 [==============================] - 1s 3ms/step - loss: 0.3676 - binary_accuracy: 0.8478\n",
            "Epoch 67/100\n",
            "195/195 [==============================] - 1s 3ms/step - loss: 0.3761 - binary_accuracy: 0.8388\n",
            "Epoch 68/100\n",
            "195/195 [==============================] - 0s 2ms/step - loss: 0.3894 - binary_accuracy: 0.8366\n",
            "Epoch 69/100\n",
            "195/195 [==============================] - 0s 2ms/step - loss: 0.3729 - binary_accuracy: 0.8427\n",
            "Epoch 70/100\n",
            "195/195 [==============================] - 0s 2ms/step - loss: 0.3832 - binary_accuracy: 0.8360\n",
            "Epoch 71/100\n",
            "195/195 [==============================] - 0s 2ms/step - loss: 0.3683 - binary_accuracy: 0.8464\n",
            "Epoch 72/100\n",
            "195/195 [==============================] - 0s 2ms/step - loss: 0.3930 - binary_accuracy: 0.8316\n",
            "Epoch 73/100\n",
            "195/195 [==============================] - 0s 2ms/step - loss: 0.3759 - binary_accuracy: 0.8453\n",
            "Epoch 74/100\n",
            "195/195 [==============================] - 0s 2ms/step - loss: 0.3836 - binary_accuracy: 0.8406\n",
            "Epoch 75/100\n",
            "195/195 [==============================] - 0s 2ms/step - loss: 0.3728 - binary_accuracy: 0.8490\n",
            "Epoch 76/100\n",
            "195/195 [==============================] - 0s 2ms/step - loss: 0.3732 - binary_accuracy: 0.8472\n",
            "Epoch 77/100\n",
            "195/195 [==============================] - 0s 2ms/step - loss: 0.3833 - binary_accuracy: 0.8401\n",
            "Epoch 78/100\n",
            "195/195 [==============================] - 0s 2ms/step - loss: 0.3714 - binary_accuracy: 0.8461\n",
            "Epoch 79/100\n",
            "195/195 [==============================] - 0s 2ms/step - loss: 0.3722 - binary_accuracy: 0.8462\n",
            "Epoch 80/100\n",
            "195/195 [==============================] - 0s 2ms/step - loss: 0.3762 - binary_accuracy: 0.8409\n",
            "Epoch 81/100\n",
            "195/195 [==============================] - 0s 2ms/step - loss: 0.3727 - binary_accuracy: 0.8435\n",
            "Epoch 82/100\n",
            "195/195 [==============================] - 0s 2ms/step - loss: 0.3830 - binary_accuracy: 0.8369\n",
            "Epoch 83/100\n",
            "195/195 [==============================] - 0s 2ms/step - loss: 0.3861 - binary_accuracy: 0.8342\n",
            "Epoch 84/100\n",
            "195/195 [==============================] - 0s 2ms/step - loss: 0.3862 - binary_accuracy: 0.8406\n",
            "Epoch 85/100\n",
            "195/195 [==============================] - 0s 2ms/step - loss: 0.3686 - binary_accuracy: 0.8483\n",
            "Epoch 86/100\n",
            "195/195 [==============================] - 0s 2ms/step - loss: 0.3713 - binary_accuracy: 0.8443\n",
            "Epoch 87/100\n",
            "195/195 [==============================] - 0s 2ms/step - loss: 0.3708 - binary_accuracy: 0.8462\n",
            "Epoch 88/100\n",
            "195/195 [==============================] - 0s 2ms/step - loss: 0.3777 - binary_accuracy: 0.8387\n",
            "Epoch 89/100\n",
            "195/195 [==============================] - 0s 2ms/step - loss: 0.3703 - binary_accuracy: 0.8450\n",
            "Epoch 90/100\n",
            "195/195 [==============================] - 0s 2ms/step - loss: 0.3686 - binary_accuracy: 0.8501\n",
            "Epoch 91/100\n",
            "195/195 [==============================] - 0s 2ms/step - loss: 0.3750 - binary_accuracy: 0.8424\n",
            "Epoch 92/100\n",
            "195/195 [==============================] - 1s 3ms/step - loss: 0.3699 - binary_accuracy: 0.8456\n",
            "Epoch 93/100\n",
            "195/195 [==============================] - 1s 3ms/step - loss: 0.3714 - binary_accuracy: 0.8425\n",
            "Epoch 94/100\n",
            "195/195 [==============================] - 1s 3ms/step - loss: 0.3900 - binary_accuracy: 0.8297\n",
            "Epoch 95/100\n",
            "195/195 [==============================] - 0s 3ms/step - loss: 0.3708 - binary_accuracy: 0.8456\n",
            "Epoch 96/100\n",
            "195/195 [==============================] - 1s 3ms/step - loss: 0.3714 - binary_accuracy: 0.8454\n",
            "Epoch 97/100\n",
            "195/195 [==============================] - 0s 2ms/step - loss: 0.3641 - binary_accuracy: 0.8495\n",
            "Epoch 98/100\n",
            "195/195 [==============================] - 0s 2ms/step - loss: 0.3698 - binary_accuracy: 0.8462\n",
            "Epoch 99/100\n",
            "195/195 [==============================] - 0s 2ms/step - loss: 0.3664 - binary_accuracy: 0.8491\n",
            "Epoch 100/100\n",
            "195/195 [==============================] - 0s 2ms/step - loss: 0.3686 - binary_accuracy: 0.8450\n"
          ]
        }
      ]
    },
    {
      "cell_type": "code",
      "source": [
        "# Evaluate the model_2\n",
        "score_2 = model_2.evaluate(X_val, y_val, verbose=0)\n",
        "print(f'Test loss: {score_2[0]} / Test accuracy: {score_2[1]}')"
      ],
      "metadata": {
        "colab": {
          "base_uri": "https://localhost:8080/"
        },
        "id": "ah9La7ned9SG",
        "outputId": "1eabb3b9-78a5-468b-8087-68f698f6b6b3"
      },
      "execution_count": 182,
      "outputs": [
        {
          "output_type": "stream",
          "name": "stdout",
          "text": [
            "Test loss: 0.3544981777667999 / Test accuracy: 0.85893315076828\n"
          ]
        }
      ]
    },
    {
      "cell_type": "code",
      "source": [
        "# Train the model_3\n",
        "history = model_3.fit(X_val, y_val, epochs=100, batch_size=32)"
      ],
      "metadata": {
        "colab": {
          "base_uri": "https://localhost:8080/"
        },
        "id": "MoJJW5UHd99o",
        "outputId": "32acda3e-db70-4427-dbc4-22f138c712e2"
      },
      "execution_count": 183,
      "outputs": [
        {
          "output_type": "stream",
          "name": "stdout",
          "text": [
            "Epoch 1/100\n",
            "195/195 [==============================] - 2s 2ms/step - loss: 1.4255 - binary_accuracy: 0.5341\n",
            "Epoch 2/100\n",
            "195/195 [==============================] - 0s 2ms/step - loss: 0.9203 - binary_accuracy: 0.5916\n",
            "Epoch 3/100\n",
            "195/195 [==============================] - 0s 2ms/step - loss: 0.7725 - binary_accuracy: 0.6475\n",
            "Epoch 4/100\n",
            "195/195 [==============================] - 0s 2ms/step - loss: 0.8060 - binary_accuracy: 0.6722\n",
            "Epoch 5/100\n",
            "195/195 [==============================] - 0s 2ms/step - loss: 0.5469 - binary_accuracy: 0.7450\n",
            "Epoch 6/100\n",
            "195/195 [==============================] - 0s 2ms/step - loss: 0.6084 - binary_accuracy: 0.7322\n",
            "Epoch 7/100\n",
            "195/195 [==============================] - 0s 2ms/step - loss: 0.5758 - binary_accuracy: 0.7442\n",
            "Epoch 8/100\n",
            "195/195 [==============================] - 0s 2ms/step - loss: 0.4872 - binary_accuracy: 0.7876\n",
            "Epoch 9/100\n",
            "195/195 [==============================] - 0s 2ms/step - loss: 0.5385 - binary_accuracy: 0.7624\n",
            "Epoch 10/100\n",
            "195/195 [==============================] - 0s 2ms/step - loss: 0.6189 - binary_accuracy: 0.7415\n",
            "Epoch 11/100\n",
            "195/195 [==============================] - 0s 2ms/step - loss: 0.5050 - binary_accuracy: 0.7866\n",
            "Epoch 12/100\n",
            "195/195 [==============================] - 0s 2ms/step - loss: 0.5973 - binary_accuracy: 0.7524\n",
            "Epoch 13/100\n",
            "195/195 [==============================] - 0s 2ms/step - loss: 0.4672 - binary_accuracy: 0.7948\n",
            "Epoch 14/100\n",
            "195/195 [==============================] - 0s 2ms/step - loss: 0.4627 - binary_accuracy: 0.7993\n",
            "Epoch 15/100\n",
            "195/195 [==============================] - 0s 2ms/step - loss: 0.5264 - binary_accuracy: 0.7706\n",
            "Epoch 16/100\n",
            "195/195 [==============================] - 0s 2ms/step - loss: 0.4746 - binary_accuracy: 0.7982\n",
            "Epoch 17/100\n",
            "195/195 [==============================] - 0s 2ms/step - loss: 0.5428 - binary_accuracy: 0.7682\n",
            "Epoch 18/100\n",
            "195/195 [==============================] - 0s 2ms/step - loss: 0.4517 - binary_accuracy: 0.8088\n",
            "Epoch 19/100\n",
            "195/195 [==============================] - 0s 2ms/step - loss: 0.4706 - binary_accuracy: 0.7943\n",
            "Epoch 20/100\n",
            "195/195 [==============================] - 0s 2ms/step - loss: 0.4621 - binary_accuracy: 0.7969\n",
            "Epoch 21/100\n",
            "195/195 [==============================] - 0s 2ms/step - loss: 0.4569 - binary_accuracy: 0.8046\n",
            "Epoch 22/100\n",
            "195/195 [==============================] - 1s 3ms/step - loss: 0.4103 - binary_accuracy: 0.8255\n",
            "Epoch 23/100\n",
            "195/195 [==============================] - 1s 3ms/step - loss: 0.4175 - binary_accuracy: 0.8242\n",
            "Epoch 24/100\n",
            "195/195 [==============================] - 1s 3ms/step - loss: 0.4601 - binary_accuracy: 0.8032\n",
            "Epoch 25/100\n",
            "195/195 [==============================] - 0s 2ms/step - loss: 0.4442 - binary_accuracy: 0.8090\n",
            "Epoch 26/100\n",
            "195/195 [==============================] - 1s 3ms/step - loss: 0.4037 - binary_accuracy: 0.8273\n",
            "Epoch 27/100\n",
            "195/195 [==============================] - 0s 2ms/step - loss: 0.4287 - binary_accuracy: 0.8115\n",
            "Epoch 28/100\n",
            "195/195 [==============================] - 0s 2ms/step - loss: 0.4190 - binary_accuracy: 0.8152\n",
            "Epoch 29/100\n",
            "195/195 [==============================] - 0s 2ms/step - loss: 0.4148 - binary_accuracy: 0.8210\n",
            "Epoch 30/100\n",
            "195/195 [==============================] - 0s 2ms/step - loss: 0.4197 - binary_accuracy: 0.8159\n",
            "Epoch 31/100\n",
            "195/195 [==============================] - 0s 2ms/step - loss: 0.4041 - binary_accuracy: 0.8228\n",
            "Epoch 32/100\n",
            "195/195 [==============================] - 0s 2ms/step - loss: 0.4010 - binary_accuracy: 0.8321\n",
            "Epoch 33/100\n",
            "195/195 [==============================] - 0s 2ms/step - loss: 0.4105 - binary_accuracy: 0.8213\n",
            "Epoch 34/100\n",
            "195/195 [==============================] - 0s 2ms/step - loss: 0.3898 - binary_accuracy: 0.8335\n",
            "Epoch 35/100\n",
            "195/195 [==============================] - 0s 2ms/step - loss: 0.3837 - binary_accuracy: 0.8358\n",
            "Epoch 36/100\n",
            "195/195 [==============================] - 0s 2ms/step - loss: 0.3893 - binary_accuracy: 0.8345\n",
            "Epoch 37/100\n",
            "195/195 [==============================] - 0s 2ms/step - loss: 0.3763 - binary_accuracy: 0.8363\n",
            "Epoch 38/100\n",
            "195/195 [==============================] - 0s 2ms/step - loss: 0.3940 - binary_accuracy: 0.8270\n",
            "Epoch 39/100\n",
            "195/195 [==============================] - 0s 2ms/step - loss: 0.3808 - binary_accuracy: 0.8395\n",
            "Epoch 40/100\n",
            "195/195 [==============================] - 0s 2ms/step - loss: 0.3965 - binary_accuracy: 0.8300\n",
            "Epoch 41/100\n",
            "195/195 [==============================] - 0s 2ms/step - loss: 0.3875 - binary_accuracy: 0.8316\n",
            "Epoch 42/100\n",
            "195/195 [==============================] - 0s 2ms/step - loss: 0.4117 - binary_accuracy: 0.8199\n",
            "Epoch 43/100\n",
            "195/195 [==============================] - 0s 2ms/step - loss: 0.3842 - binary_accuracy: 0.8340\n",
            "Epoch 44/100\n",
            "195/195 [==============================] - 0s 2ms/step - loss: 0.3708 - binary_accuracy: 0.8448\n",
            "Epoch 45/100\n",
            "195/195 [==============================] - 0s 2ms/step - loss: 0.3828 - binary_accuracy: 0.8326\n",
            "Epoch 46/100\n",
            "195/195 [==============================] - 0s 2ms/step - loss: 0.3808 - binary_accuracy: 0.8361\n",
            "Epoch 47/100\n",
            "195/195 [==============================] - 0s 2ms/step - loss: 0.4163 - binary_accuracy: 0.8273\n",
            "Epoch 48/100\n",
            "195/195 [==============================] - 0s 2ms/step - loss: 0.4227 - binary_accuracy: 0.8196\n",
            "Epoch 49/100\n",
            "195/195 [==============================] - 0s 2ms/step - loss: 0.3816 - binary_accuracy: 0.8347\n",
            "Epoch 50/100\n",
            "195/195 [==============================] - 0s 2ms/step - loss: 0.3925 - binary_accuracy: 0.8327\n",
            "Epoch 51/100\n",
            "195/195 [==============================] - 0s 2ms/step - loss: 0.3787 - binary_accuracy: 0.8376\n",
            "Epoch 52/100\n",
            "195/195 [==============================] - 1s 3ms/step - loss: 0.3737 - binary_accuracy: 0.8414\n",
            "Epoch 53/100\n",
            "195/195 [==============================] - 1s 3ms/step - loss: 0.3703 - binary_accuracy: 0.8435\n",
            "Epoch 54/100\n",
            "195/195 [==============================] - 1s 3ms/step - loss: 0.3856 - binary_accuracy: 0.8356\n",
            "Epoch 55/100\n",
            "195/195 [==============================] - 1s 3ms/step - loss: 0.3691 - binary_accuracy: 0.8448\n",
            "Epoch 56/100\n",
            "195/195 [==============================] - 1s 3ms/step - loss: 0.3771 - binary_accuracy: 0.8424\n",
            "Epoch 57/100\n",
            "195/195 [==============================] - 0s 2ms/step - loss: 0.3753 - binary_accuracy: 0.8443\n",
            "Epoch 58/100\n",
            "195/195 [==============================] - 0s 2ms/step - loss: 0.3605 - binary_accuracy: 0.8496\n",
            "Epoch 59/100\n",
            "195/195 [==============================] - 0s 2ms/step - loss: 0.3696 - binary_accuracy: 0.8458\n",
            "Epoch 60/100\n",
            "195/195 [==============================] - 0s 2ms/step - loss: 0.3788 - binary_accuracy: 0.8374\n",
            "Epoch 61/100\n",
            "195/195 [==============================] - 0s 2ms/step - loss: 0.3704 - binary_accuracy: 0.8430\n",
            "Epoch 62/100\n",
            "195/195 [==============================] - 0s 2ms/step - loss: 0.3707 - binary_accuracy: 0.8397\n",
            "Epoch 63/100\n",
            "195/195 [==============================] - 0s 2ms/step - loss: 0.3657 - binary_accuracy: 0.8459\n",
            "Epoch 64/100\n",
            "195/195 [==============================] - 0s 2ms/step - loss: 0.3802 - binary_accuracy: 0.8376\n",
            "Epoch 65/100\n",
            "195/195 [==============================] - 0s 2ms/step - loss: 0.3536 - binary_accuracy: 0.8531\n",
            "Epoch 66/100\n",
            "195/195 [==============================] - 0s 2ms/step - loss: 0.3747 - binary_accuracy: 0.8416\n",
            "Epoch 67/100\n",
            "195/195 [==============================] - 0s 2ms/step - loss: 0.3632 - binary_accuracy: 0.8501\n",
            "Epoch 68/100\n",
            "195/195 [==============================] - 0s 2ms/step - loss: 0.3761 - binary_accuracy: 0.8380\n",
            "Epoch 69/100\n",
            "195/195 [==============================] - 0s 2ms/step - loss: 0.3677 - binary_accuracy: 0.8458\n",
            "Epoch 70/100\n",
            "195/195 [==============================] - 0s 2ms/step - loss: 0.3718 - binary_accuracy: 0.8470\n",
            "Epoch 71/100\n",
            "195/195 [==============================] - 0s 2ms/step - loss: 0.3669 - binary_accuracy: 0.8433\n",
            "Epoch 72/100\n",
            "195/195 [==============================] - 0s 2ms/step - loss: 0.3590 - binary_accuracy: 0.8519\n",
            "Epoch 73/100\n",
            "195/195 [==============================] - 0s 2ms/step - loss: 0.3842 - binary_accuracy: 0.8390\n",
            "Epoch 74/100\n",
            "195/195 [==============================] - 0s 2ms/step - loss: 0.3618 - binary_accuracy: 0.8469\n",
            "Epoch 75/100\n",
            "195/195 [==============================] - 0s 2ms/step - loss: 0.3534 - binary_accuracy: 0.8540\n",
            "Epoch 76/100\n",
            "195/195 [==============================] - 0s 2ms/step - loss: 0.3628 - binary_accuracy: 0.8488\n",
            "Epoch 77/100\n",
            "195/195 [==============================] - 0s 2ms/step - loss: 0.3594 - binary_accuracy: 0.8511\n",
            "Epoch 78/100\n",
            "195/195 [==============================] - 0s 2ms/step - loss: 0.3611 - binary_accuracy: 0.8467\n",
            "Epoch 79/100\n",
            "195/195 [==============================] - 0s 2ms/step - loss: 0.3598 - binary_accuracy: 0.8483\n",
            "Epoch 80/100\n",
            "195/195 [==============================] - 0s 2ms/step - loss: 0.3571 - binary_accuracy: 0.8522\n",
            "Epoch 81/100\n",
            "195/195 [==============================] - 1s 3ms/step - loss: 0.3534 - binary_accuracy: 0.8536\n",
            "Epoch 82/100\n",
            "195/195 [==============================] - 1s 3ms/step - loss: 0.3541 - binary_accuracy: 0.8549\n",
            "Epoch 83/100\n",
            "195/195 [==============================] - 1s 3ms/step - loss: 0.3609 - binary_accuracy: 0.8488\n",
            "Epoch 84/100\n",
            "195/195 [==============================] - 1s 3ms/step - loss: 0.3627 - binary_accuracy: 0.8490\n",
            "Epoch 85/100\n",
            "195/195 [==============================] - 1s 3ms/step - loss: 0.3556 - binary_accuracy: 0.8536\n",
            "Epoch 86/100\n",
            "195/195 [==============================] - 1s 3ms/step - loss: 0.3657 - binary_accuracy: 0.8493\n",
            "Epoch 87/100\n",
            "195/195 [==============================] - 0s 2ms/step - loss: 0.3630 - binary_accuracy: 0.8493\n",
            "Epoch 88/100\n",
            "195/195 [==============================] - 0s 2ms/step - loss: 0.3605 - binary_accuracy: 0.8504\n",
            "Epoch 89/100\n",
            "195/195 [==============================] - 0s 2ms/step - loss: 0.3560 - binary_accuracy: 0.8515\n",
            "Epoch 90/100\n",
            "195/195 [==============================] - 0s 2ms/step - loss: 0.3593 - binary_accuracy: 0.8480\n",
            "Epoch 91/100\n",
            "195/195 [==============================] - 0s 2ms/step - loss: 0.3536 - binary_accuracy: 0.8535\n",
            "Epoch 92/100\n",
            "195/195 [==============================] - 0s 2ms/step - loss: 0.3546 - binary_accuracy: 0.8525\n",
            "Epoch 93/100\n",
            "195/195 [==============================] - 0s 2ms/step - loss: 0.3525 - binary_accuracy: 0.8567\n",
            "Epoch 94/100\n",
            "195/195 [==============================] - 0s 2ms/step - loss: 0.3482 - binary_accuracy: 0.8578\n",
            "Epoch 95/100\n",
            "195/195 [==============================] - 0s 2ms/step - loss: 0.3497 - binary_accuracy: 0.8552\n",
            "Epoch 96/100\n",
            "195/195 [==============================] - 0s 2ms/step - loss: 0.3449 - binary_accuracy: 0.8599\n",
            "Epoch 97/100\n",
            "195/195 [==============================] - 0s 2ms/step - loss: 0.3498 - binary_accuracy: 0.8535\n",
            "Epoch 98/100\n",
            "195/195 [==============================] - 0s 2ms/step - loss: 0.3521 - binary_accuracy: 0.8546\n",
            "Epoch 99/100\n",
            "195/195 [==============================] - 0s 2ms/step - loss: 0.3499 - binary_accuracy: 0.8570\n",
            "Epoch 100/100\n",
            "195/195 [==============================] - 0s 2ms/step - loss: 0.3572 - binary_accuracy: 0.8490\n"
          ]
        }
      ]
    },
    {
      "cell_type": "code",
      "source": [
        "# Evaluate the model_3\n",
        "score_3 = model_3.evaluate(X_val, y_val, verbose=0)\n",
        "print(f'Test loss: {score_3[0]} / Test accuracy: {score_3[1]}')"
      ],
      "metadata": {
        "colab": {
          "base_uri": "https://localhost:8080/"
        },
        "id": "dv26fb5TeGGa",
        "outputId": "7efb95f7-39c6-4c23-a8f9-b6407a8ce9c4"
      },
      "execution_count": 184,
      "outputs": [
        {
          "output_type": "stream",
          "name": "stdout",
          "text": [
            "Test loss: 0.39037713408470154 / Test accuracy: 0.8288881778717041\n"
          ]
        }
      ]
    },
    {
      "cell_type": "code",
      "source": [
        "# Train the model_4\n",
        "history = model_4.fit(X_val, y_val, epochs=100, batch_size=32)"
      ],
      "metadata": {
        "colab": {
          "base_uri": "https://localhost:8080/"
        },
        "id": "ksrusw9RfLzh",
        "outputId": "9bc84854-e333-45f5-9536-e28586c5beb7"
      },
      "execution_count": 185,
      "outputs": [
        {
          "output_type": "stream",
          "name": "stdout",
          "text": [
            "Epoch 1/100\n",
            "195/195 [==============================] - 2s 2ms/step - loss: 1.0900 - binary_accuracy: 0.5249\n",
            "Epoch 2/100\n",
            "195/195 [==============================] - 0s 2ms/step - loss: 0.6747 - binary_accuracy: 0.5913\n",
            "Epoch 3/100\n",
            "195/195 [==============================] - 0s 2ms/step - loss: 0.7142 - binary_accuracy: 0.6060\n",
            "Epoch 4/100\n",
            "195/195 [==============================] - 0s 2ms/step - loss: 0.6063 - binary_accuracy: 0.6780\n",
            "Epoch 5/100\n",
            "195/195 [==============================] - 0s 2ms/step - loss: 0.5728 - binary_accuracy: 0.7175\n",
            "Epoch 6/100\n",
            "195/195 [==============================] - 0s 2ms/step - loss: 0.5130 - binary_accuracy: 0.7710\n",
            "Epoch 7/100\n",
            "195/195 [==============================] - 0s 2ms/step - loss: 0.5327 - binary_accuracy: 0.7476\n",
            "Epoch 8/100\n",
            "195/195 [==============================] - 1s 3ms/step - loss: 0.4899 - binary_accuracy: 0.7802\n",
            "Epoch 9/100\n",
            "195/195 [==============================] - 1s 3ms/step - loss: 0.4577 - binary_accuracy: 0.8004\n",
            "Epoch 10/100\n",
            "195/195 [==============================] - 0s 2ms/step - loss: 0.4482 - binary_accuracy: 0.8059\n",
            "Epoch 11/100\n",
            "195/195 [==============================] - 1s 3ms/step - loss: 0.4543 - binary_accuracy: 0.8017\n",
            "Epoch 12/100\n",
            "195/195 [==============================] - 0s 2ms/step - loss: 0.5242 - binary_accuracy: 0.7887\n",
            "Epoch 13/100\n",
            "195/195 [==============================] - 0s 2ms/step - loss: 0.4516 - binary_accuracy: 0.8025\n",
            "Epoch 14/100\n",
            "195/195 [==============================] - 0s 2ms/step - loss: 0.4200 - binary_accuracy: 0.8162\n",
            "Epoch 15/100\n",
            "195/195 [==============================] - 0s 2ms/step - loss: 0.4203 - binary_accuracy: 0.8199\n",
            "Epoch 16/100\n",
            "195/195 [==============================] - 0s 2ms/step - loss: 0.4023 - binary_accuracy: 0.8290\n",
            "Epoch 17/100\n",
            "195/195 [==============================] - 0s 2ms/step - loss: 0.4112 - binary_accuracy: 0.8181\n",
            "Epoch 18/100\n",
            "195/195 [==============================] - 0s 2ms/step - loss: 0.4217 - binary_accuracy: 0.8112\n",
            "Epoch 19/100\n",
            "195/195 [==============================] - 0s 2ms/step - loss: 0.4030 - binary_accuracy: 0.8249\n",
            "Epoch 20/100\n",
            "195/195 [==============================] - 0s 2ms/step - loss: 0.3928 - binary_accuracy: 0.8292\n",
            "Epoch 21/100\n",
            "195/195 [==============================] - 0s 2ms/step - loss: 0.4049 - binary_accuracy: 0.8254\n",
            "Epoch 22/100\n",
            "195/195 [==============================] - 0s 2ms/step - loss: 0.3870 - binary_accuracy: 0.8335\n",
            "Epoch 23/100\n",
            "195/195 [==============================] - 0s 2ms/step - loss: 0.4388 - binary_accuracy: 0.8098\n",
            "Epoch 24/100\n",
            "195/195 [==============================] - 0s 2ms/step - loss: 0.3890 - binary_accuracy: 0.8334\n",
            "Epoch 25/100\n",
            "195/195 [==============================] - 0s 2ms/step - loss: 0.3988 - binary_accuracy: 0.8274\n",
            "Epoch 26/100\n",
            "195/195 [==============================] - 0s 2ms/step - loss: 0.3972 - binary_accuracy: 0.8258\n",
            "Epoch 27/100\n",
            "195/195 [==============================] - 0s 2ms/step - loss: 0.3971 - binary_accuracy: 0.8292\n",
            "Epoch 28/100\n",
            "195/195 [==============================] - 0s 2ms/step - loss: 0.4095 - binary_accuracy: 0.8202\n",
            "Epoch 29/100\n",
            "195/195 [==============================] - 0s 2ms/step - loss: 0.4123 - binary_accuracy: 0.8176\n",
            "Epoch 30/100\n",
            "195/195 [==============================] - 0s 2ms/step - loss: 0.3915 - binary_accuracy: 0.8344\n",
            "Epoch 31/100\n",
            "195/195 [==============================] - 0s 2ms/step - loss: 0.3760 - binary_accuracy: 0.8405\n",
            "Epoch 32/100\n",
            "195/195 [==============================] - 0s 2ms/step - loss: 0.3835 - binary_accuracy: 0.8385\n",
            "Epoch 33/100\n",
            "195/195 [==============================] - 0s 2ms/step - loss: 0.3945 - binary_accuracy: 0.8255\n",
            "Epoch 34/100\n",
            "195/195 [==============================] - 0s 2ms/step - loss: 0.3746 - binary_accuracy: 0.8413\n",
            "Epoch 35/100\n",
            "195/195 [==============================] - 0s 2ms/step - loss: 0.3723 - binary_accuracy: 0.8425\n",
            "Epoch 36/100\n",
            "195/195 [==============================] - 0s 2ms/step - loss: 0.3851 - binary_accuracy: 0.8372\n",
            "Epoch 37/100\n",
            "195/195 [==============================] - 0s 2ms/step - loss: 0.3696 - binary_accuracy: 0.8430\n",
            "Epoch 38/100\n",
            "195/195 [==============================] - 1s 3ms/step - loss: 0.3878 - binary_accuracy: 0.8287\n",
            "Epoch 39/100\n",
            "195/195 [==============================] - 1s 3ms/step - loss: 0.3744 - binary_accuracy: 0.8451\n",
            "Epoch 40/100\n",
            "195/195 [==============================] - 1s 3ms/step - loss: 0.3703 - binary_accuracy: 0.8461\n",
            "Epoch 41/100\n",
            "195/195 [==============================] - 0s 2ms/step - loss: 0.3751 - binary_accuracy: 0.8384\n",
            "Epoch 42/100\n",
            "195/195 [==============================] - 1s 3ms/step - loss: 0.3693 - binary_accuracy: 0.8435\n",
            "Epoch 43/100\n",
            "195/195 [==============================] - 1s 3ms/step - loss: 0.3698 - binary_accuracy: 0.8416\n",
            "Epoch 44/100\n",
            "195/195 [==============================] - 0s 2ms/step - loss: 0.3867 - binary_accuracy: 0.8355\n",
            "Epoch 45/100\n",
            "195/195 [==============================] - 0s 2ms/step - loss: 0.3847 - binary_accuracy: 0.8387\n",
            "Epoch 46/100\n",
            "195/195 [==============================] - 0s 2ms/step - loss: 0.3859 - binary_accuracy: 0.8350\n",
            "Epoch 47/100\n",
            "195/195 [==============================] - 0s 2ms/step - loss: 0.3653 - binary_accuracy: 0.8493\n",
            "Epoch 48/100\n",
            "195/195 [==============================] - 0s 2ms/step - loss: 0.3810 - binary_accuracy: 0.8414\n",
            "Epoch 49/100\n",
            "195/195 [==============================] - 0s 2ms/step - loss: 0.3701 - binary_accuracy: 0.8446\n",
            "Epoch 50/100\n",
            "195/195 [==============================] - 0s 2ms/step - loss: 0.3605 - binary_accuracy: 0.8454\n",
            "Epoch 51/100\n",
            "195/195 [==============================] - 0s 2ms/step - loss: 0.3744 - binary_accuracy: 0.8390\n",
            "Epoch 52/100\n",
            "195/195 [==============================] - 0s 2ms/step - loss: 0.3592 - binary_accuracy: 0.8519\n",
            "Epoch 53/100\n",
            "195/195 [==============================] - 0s 2ms/step - loss: 0.3686 - binary_accuracy: 0.8417\n",
            "Epoch 54/100\n",
            "195/195 [==============================] - 0s 2ms/step - loss: 0.3658 - binary_accuracy: 0.8475\n",
            "Epoch 55/100\n",
            "195/195 [==============================] - 0s 2ms/step - loss: 0.3627 - binary_accuracy: 0.8511\n",
            "Epoch 56/100\n",
            "195/195 [==============================] - 0s 2ms/step - loss: 0.3705 - binary_accuracy: 0.8458\n",
            "Epoch 57/100\n",
            "195/195 [==============================] - 0s 2ms/step - loss: 0.3649 - binary_accuracy: 0.8474\n",
            "Epoch 58/100\n",
            "195/195 [==============================] - 0s 2ms/step - loss: 0.3665 - binary_accuracy: 0.8453\n",
            "Epoch 59/100\n",
            "195/195 [==============================] - 0s 2ms/step - loss: 0.3558 - binary_accuracy: 0.8540\n",
            "Epoch 60/100\n",
            "195/195 [==============================] - 0s 2ms/step - loss: 0.3689 - binary_accuracy: 0.8440\n",
            "Epoch 61/100\n",
            "195/195 [==============================] - 0s 2ms/step - loss: 0.3653 - binary_accuracy: 0.8493\n",
            "Epoch 62/100\n",
            "195/195 [==============================] - 0s 2ms/step - loss: 0.3568 - binary_accuracy: 0.8506\n",
            "Epoch 63/100\n",
            "195/195 [==============================] - 0s 2ms/step - loss: 0.3525 - binary_accuracy: 0.8564\n",
            "Epoch 64/100\n",
            "195/195 [==============================] - 0s 2ms/step - loss: 0.3571 - binary_accuracy: 0.8535\n",
            "Epoch 65/100\n",
            "195/195 [==============================] - 0s 2ms/step - loss: 0.3537 - binary_accuracy: 0.8535\n",
            "Epoch 66/100\n",
            "195/195 [==============================] - 0s 2ms/step - loss: 0.3520 - binary_accuracy: 0.8576\n",
            "Epoch 67/100\n",
            "195/195 [==============================] - 1s 3ms/step - loss: 0.3516 - binary_accuracy: 0.8585\n",
            "Epoch 68/100\n",
            "195/195 [==============================] - 0s 2ms/step - loss: 0.3540 - binary_accuracy: 0.8523\n",
            "Epoch 69/100\n",
            "195/195 [==============================] - 1s 3ms/step - loss: 0.3615 - binary_accuracy: 0.8498\n",
            "Epoch 70/100\n",
            "195/195 [==============================] - 1s 3ms/step - loss: 0.3576 - binary_accuracy: 0.8530\n",
            "Epoch 71/100\n",
            "195/195 [==============================] - 1s 3ms/step - loss: 0.3524 - binary_accuracy: 0.8576\n",
            "Epoch 72/100\n",
            "195/195 [==============================] - 1s 3ms/step - loss: 0.3468 - binary_accuracy: 0.8613\n",
            "Epoch 73/100\n",
            "195/195 [==============================] - 0s 2ms/step - loss: 0.3610 - binary_accuracy: 0.8515\n",
            "Epoch 74/100\n",
            "195/195 [==============================] - 0s 2ms/step - loss: 0.3633 - binary_accuracy: 0.8495\n",
            "Epoch 75/100\n",
            "195/195 [==============================] - 0s 2ms/step - loss: 0.3550 - binary_accuracy: 0.8511\n",
            "Epoch 76/100\n",
            "195/195 [==============================] - 0s 2ms/step - loss: 0.3579 - binary_accuracy: 0.8503\n",
            "Epoch 77/100\n",
            "195/195 [==============================] - 0s 2ms/step - loss: 0.3449 - binary_accuracy: 0.8615\n",
            "Epoch 78/100\n",
            "195/195 [==============================] - 0s 2ms/step - loss: 0.3505 - binary_accuracy: 0.8544\n",
            "Epoch 79/100\n",
            "195/195 [==============================] - 0s 2ms/step - loss: 0.3546 - binary_accuracy: 0.8546\n",
            "Epoch 80/100\n",
            "195/195 [==============================] - 0s 2ms/step - loss: 0.3552 - binary_accuracy: 0.8509\n",
            "Epoch 81/100\n",
            "195/195 [==============================] - 0s 2ms/step - loss: 0.3617 - binary_accuracy: 0.8466\n",
            "Epoch 82/100\n",
            "195/195 [==============================] - 0s 2ms/step - loss: 0.3500 - binary_accuracy: 0.8585\n",
            "Epoch 83/100\n",
            "195/195 [==============================] - 0s 2ms/step - loss: 0.3463 - binary_accuracy: 0.8580\n",
            "Epoch 84/100\n",
            "195/195 [==============================] - 0s 2ms/step - loss: 0.3530 - binary_accuracy: 0.8523\n",
            "Epoch 85/100\n",
            "195/195 [==============================] - 0s 2ms/step - loss: 0.3507 - binary_accuracy: 0.8538\n",
            "Epoch 86/100\n",
            "195/195 [==============================] - 0s 2ms/step - loss: 0.3471 - binary_accuracy: 0.8596\n",
            "Epoch 87/100\n",
            "195/195 [==============================] - 0s 2ms/step - loss: 0.3610 - binary_accuracy: 0.8512\n",
            "Epoch 88/100\n",
            "195/195 [==============================] - 0s 2ms/step - loss: 0.3472 - binary_accuracy: 0.8591\n",
            "Epoch 89/100\n",
            "195/195 [==============================] - 0s 2ms/step - loss: 0.3495 - binary_accuracy: 0.8531\n",
            "Epoch 90/100\n",
            "195/195 [==============================] - 0s 2ms/step - loss: 0.3504 - binary_accuracy: 0.8576\n",
            "Epoch 91/100\n",
            "195/195 [==============================] - 0s 2ms/step - loss: 0.3470 - binary_accuracy: 0.8593\n",
            "Epoch 92/100\n",
            "195/195 [==============================] - 0s 2ms/step - loss: 0.3483 - binary_accuracy: 0.8557\n",
            "Epoch 93/100\n",
            "195/195 [==============================] - 0s 2ms/step - loss: 0.3433 - binary_accuracy: 0.8613\n",
            "Epoch 94/100\n",
            "195/195 [==============================] - 0s 2ms/step - loss: 0.3433 - binary_accuracy: 0.8594\n",
            "Epoch 95/100\n",
            "195/195 [==============================] - 0s 2ms/step - loss: 0.3420 - binary_accuracy: 0.8597\n",
            "Epoch 96/100\n",
            "195/195 [==============================] - 1s 3ms/step - loss: 0.3500 - binary_accuracy: 0.8557\n",
            "Epoch 97/100\n",
            "195/195 [==============================] - 1s 3ms/step - loss: 0.3473 - binary_accuracy: 0.8573\n",
            "Epoch 98/100\n",
            "195/195 [==============================] - 1s 3ms/step - loss: 0.3508 - binary_accuracy: 0.8541\n",
            "Epoch 99/100\n",
            "195/195 [==============================] - 1s 3ms/step - loss: 0.3415 - binary_accuracy: 0.8568\n",
            "Epoch 100/100\n",
            "195/195 [==============================] - 1s 3ms/step - loss: 0.3376 - binary_accuracy: 0.8662\n"
          ]
        }
      ]
    },
    {
      "cell_type": "code",
      "source": [
        "# Evaluate the model_4\n",
        "score_4 = model_4.evaluate(X_val, y_val, verbose=0)\n",
        "print(f'Test loss: {score_4[0]} / Test accuracy: {score_4[1]}')"
      ],
      "metadata": {
        "colab": {
          "base_uri": "https://localhost:8080/"
        },
        "id": "KEieIh2SfOJo",
        "outputId": "78ea204a-9223-45cf-9afc-505c521be5b3"
      },
      "execution_count": 186,
      "outputs": [
        {
          "output_type": "stream",
          "name": "stdout",
          "text": [
            "Test loss: 0.3482539653778076 / Test accuracy: 0.8584511280059814\n"
          ]
        }
      ]
    },
    {
      "cell_type": "code",
      "source": [
        "# Train the model_5\n",
        "history = model_5.fit(X_val, y_val, epochs=100, batch_size=32)"
      ],
      "metadata": {
        "colab": {
          "base_uri": "https://localhost:8080/"
        },
        "id": "1QUu0QLMgDKX",
        "outputId": "7436fd84-851d-4051-b4e9-f5b35462b3d7"
      },
      "execution_count": 187,
      "outputs": [
        {
          "output_type": "stream",
          "name": "stdout",
          "text": [
            "Epoch 1/100\n",
            "195/195 [==============================] - 2s 3ms/step - loss: 0.9179 - binary_accuracy: 0.5468\n",
            "Epoch 2/100\n",
            "195/195 [==============================] - 1s 3ms/step - loss: 0.7312 - binary_accuracy: 0.5844\n",
            "Epoch 3/100\n",
            "195/195 [==============================] - 1s 3ms/step - loss: 0.6796 - binary_accuracy: 0.6250\n",
            "Epoch 4/100\n",
            "195/195 [==============================] - 1s 3ms/step - loss: 0.5553 - binary_accuracy: 0.7320\n",
            "Epoch 5/100\n",
            "195/195 [==============================] - 0s 2ms/step - loss: 0.5053 - binary_accuracy: 0.7688\n",
            "Epoch 6/100\n",
            "195/195 [==============================] - 1s 3ms/step - loss: 0.4847 - binary_accuracy: 0.7800\n",
            "Epoch 7/100\n",
            "195/195 [==============================] - 1s 3ms/step - loss: 0.4984 - binary_accuracy: 0.7720\n",
            "Epoch 8/100\n",
            "195/195 [==============================] - 1s 3ms/step - loss: 0.4613 - binary_accuracy: 0.7829\n",
            "Epoch 9/100\n",
            "195/195 [==============================] - 1s 3ms/step - loss: 0.4408 - binary_accuracy: 0.7985\n",
            "Epoch 10/100\n",
            "195/195 [==============================] - 1s 3ms/step - loss: 0.4226 - binary_accuracy: 0.8120\n",
            "Epoch 11/100\n",
            "195/195 [==============================] - 1s 3ms/step - loss: 0.4281 - binary_accuracy: 0.8069\n",
            "Epoch 12/100\n",
            "195/195 [==============================] - 1s 3ms/step - loss: 0.4115 - binary_accuracy: 0.8156\n",
            "Epoch 13/100\n",
            "195/195 [==============================] - 1s 3ms/step - loss: 0.4128 - binary_accuracy: 0.8209\n",
            "Epoch 14/100\n",
            "195/195 [==============================] - 1s 3ms/step - loss: 0.3891 - binary_accuracy: 0.8318\n",
            "Epoch 15/100\n",
            "195/195 [==============================] - 1s 3ms/step - loss: 0.4259 - binary_accuracy: 0.8091\n",
            "Epoch 16/100\n",
            "195/195 [==============================] - 1s 3ms/step - loss: 0.3921 - binary_accuracy: 0.8313\n",
            "Epoch 17/100\n",
            "195/195 [==============================] - 1s 3ms/step - loss: 0.3969 - binary_accuracy: 0.8276\n",
            "Epoch 18/100\n",
            "195/195 [==============================] - 1s 4ms/step - loss: 0.4119 - binary_accuracy: 0.8194\n",
            "Epoch 19/100\n",
            "195/195 [==============================] - 1s 4ms/step - loss: 0.3824 - binary_accuracy: 0.8360\n",
            "Epoch 20/100\n",
            "195/195 [==============================] - 1s 4ms/step - loss: 0.3779 - binary_accuracy: 0.8397\n",
            "Epoch 21/100\n",
            "195/195 [==============================] - 1s 4ms/step - loss: 0.3771 - binary_accuracy: 0.8395\n",
            "Epoch 22/100\n",
            "195/195 [==============================] - 1s 3ms/step - loss: 0.3819 - binary_accuracy: 0.8337\n",
            "Epoch 23/100\n",
            "195/195 [==============================] - 1s 3ms/step - loss: 0.3782 - binary_accuracy: 0.8384\n",
            "Epoch 24/100\n",
            "195/195 [==============================] - 1s 3ms/step - loss: 0.3711 - binary_accuracy: 0.8392\n",
            "Epoch 25/100\n",
            "195/195 [==============================] - 1s 3ms/step - loss: 0.3690 - binary_accuracy: 0.8421\n",
            "Epoch 26/100\n",
            "195/195 [==============================] - 1s 3ms/step - loss: 0.3879 - binary_accuracy: 0.8310\n",
            "Epoch 27/100\n",
            "195/195 [==============================] - 1s 3ms/step - loss: 0.3751 - binary_accuracy: 0.8440\n",
            "Epoch 28/100\n",
            "195/195 [==============================] - 1s 3ms/step - loss: 0.3902 - binary_accuracy: 0.8307\n",
            "Epoch 29/100\n",
            "195/195 [==============================] - 1s 3ms/step - loss: 0.3891 - binary_accuracy: 0.8335\n",
            "Epoch 30/100\n",
            "195/195 [==============================] - 1s 3ms/step - loss: 0.3906 - binary_accuracy: 0.8290\n",
            "Epoch 31/100\n",
            "195/195 [==============================] - 1s 3ms/step - loss: 0.3901 - binary_accuracy: 0.8308\n",
            "Epoch 32/100\n",
            "195/195 [==============================] - 1s 3ms/step - loss: 0.3680 - binary_accuracy: 0.8419\n",
            "Epoch 33/100\n",
            "195/195 [==============================] - 1s 3ms/step - loss: 0.3688 - binary_accuracy: 0.8435\n",
            "Epoch 34/100\n",
            "195/195 [==============================] - 1s 3ms/step - loss: 0.3764 - binary_accuracy: 0.8361\n",
            "Epoch 35/100\n",
            "195/195 [==============================] - 1s 3ms/step - loss: 0.3728 - binary_accuracy: 0.8390\n",
            "Epoch 36/100\n",
            "195/195 [==============================] - 1s 3ms/step - loss: 0.3756 - binary_accuracy: 0.8382\n",
            "Epoch 37/100\n",
            "195/195 [==============================] - 1s 3ms/step - loss: 0.3751 - binary_accuracy: 0.8361\n",
            "Epoch 38/100\n",
            "195/195 [==============================] - 1s 3ms/step - loss: 0.3562 - binary_accuracy: 0.8519\n",
            "Epoch 39/100\n",
            "195/195 [==============================] - 1s 5ms/step - loss: 0.3675 - binary_accuracy: 0.8425\n",
            "Epoch 40/100\n",
            "195/195 [==============================] - 1s 4ms/step - loss: 0.3634 - binary_accuracy: 0.8454\n",
            "Epoch 41/100\n",
            "195/195 [==============================] - 1s 4ms/step - loss: 0.3557 - binary_accuracy: 0.8512\n",
            "Epoch 42/100\n",
            "195/195 [==============================] - 1s 4ms/step - loss: 0.3742 - binary_accuracy: 0.8380\n",
            "Epoch 43/100\n",
            "195/195 [==============================] - 1s 3ms/step - loss: 0.3671 - binary_accuracy: 0.8398\n",
            "Epoch 44/100\n",
            "195/195 [==============================] - 1s 3ms/step - loss: 0.3690 - binary_accuracy: 0.8442\n",
            "Epoch 45/100\n",
            "195/195 [==============================] - 1s 3ms/step - loss: 0.3765 - binary_accuracy: 0.8358\n",
            "Epoch 46/100\n",
            "195/195 [==============================] - 1s 3ms/step - loss: 0.3559 - binary_accuracy: 0.8528\n",
            "Epoch 47/100\n",
            "195/195 [==============================] - 1s 3ms/step - loss: 0.3745 - binary_accuracy: 0.8368\n",
            "Epoch 48/100\n",
            "195/195 [==============================] - 1s 3ms/step - loss: 0.3772 - binary_accuracy: 0.8374\n",
            "Epoch 49/100\n",
            "195/195 [==============================] - 1s 3ms/step - loss: 0.3589 - binary_accuracy: 0.8469\n",
            "Epoch 50/100\n",
            "195/195 [==============================] - 1s 3ms/step - loss: 0.3507 - binary_accuracy: 0.8523\n",
            "Epoch 51/100\n",
            "195/195 [==============================] - 1s 3ms/step - loss: 0.3687 - binary_accuracy: 0.8461\n",
            "Epoch 52/100\n",
            "195/195 [==============================] - 1s 3ms/step - loss: 0.3625 - binary_accuracy: 0.8482\n",
            "Epoch 53/100\n",
            "195/195 [==============================] - 1s 3ms/step - loss: 0.3563 - binary_accuracy: 0.8512\n",
            "Epoch 54/100\n",
            "195/195 [==============================] - 1s 3ms/step - loss: 0.3544 - binary_accuracy: 0.8517\n",
            "Epoch 55/100\n",
            "195/195 [==============================] - 1s 3ms/step - loss: 0.3504 - binary_accuracy: 0.8546\n",
            "Epoch 56/100\n",
            "195/195 [==============================] - 1s 3ms/step - loss: 0.3638 - binary_accuracy: 0.8475\n",
            "Epoch 57/100\n",
            "195/195 [==============================] - 1s 3ms/step - loss: 0.3468 - binary_accuracy: 0.8546\n",
            "Epoch 58/100\n",
            "195/195 [==============================] - 1s 3ms/step - loss: 0.3624 - binary_accuracy: 0.8478\n",
            "Epoch 59/100\n",
            "195/195 [==============================] - 1s 3ms/step - loss: 0.3469 - binary_accuracy: 0.8556\n",
            "Epoch 60/100\n",
            "195/195 [==============================] - 1s 4ms/step - loss: 0.3502 - binary_accuracy: 0.8548\n",
            "Epoch 61/100\n",
            "195/195 [==============================] - 1s 4ms/step - loss: 0.3557 - binary_accuracy: 0.8522\n",
            "Epoch 62/100\n",
            "195/195 [==============================] - 1s 4ms/step - loss: 0.3533 - binary_accuracy: 0.8556\n",
            "Epoch 63/100\n",
            "195/195 [==============================] - 1s 3ms/step - loss: 0.3616 - binary_accuracy: 0.8467\n",
            "Epoch 64/100\n",
            "195/195 [==============================] - 1s 3ms/step - loss: 0.3520 - binary_accuracy: 0.8549\n",
            "Epoch 65/100\n",
            "195/195 [==============================] - 1s 3ms/step - loss: 0.3528 - binary_accuracy: 0.8535\n",
            "Epoch 66/100\n",
            "195/195 [==============================] - 1s 3ms/step - loss: 0.3522 - binary_accuracy: 0.8498\n",
            "Epoch 67/100\n",
            "195/195 [==============================] - 1s 3ms/step - loss: 0.3556 - binary_accuracy: 0.8528\n",
            "Epoch 68/100\n",
            "195/195 [==============================] - 1s 3ms/step - loss: 0.3624 - binary_accuracy: 0.8475\n",
            "Epoch 69/100\n",
            "195/195 [==============================] - 1s 3ms/step - loss: 0.3548 - binary_accuracy: 0.8541\n",
            "Epoch 70/100\n",
            "195/195 [==============================] - 1s 3ms/step - loss: 0.3489 - binary_accuracy: 0.8523\n",
            "Epoch 71/100\n",
            "195/195 [==============================] - 1s 3ms/step - loss: 0.3453 - binary_accuracy: 0.8594\n",
            "Epoch 72/100\n",
            "195/195 [==============================] - 1s 3ms/step - loss: 0.3535 - binary_accuracy: 0.8509\n",
            "Epoch 73/100\n",
            "195/195 [==============================] - 1s 3ms/step - loss: 0.3470 - binary_accuracy: 0.8602\n",
            "Epoch 74/100\n",
            "195/195 [==============================] - 1s 3ms/step - loss: 0.3513 - binary_accuracy: 0.8515\n",
            "Epoch 75/100\n",
            "195/195 [==============================] - 1s 3ms/step - loss: 0.3419 - binary_accuracy: 0.8573\n",
            "Epoch 76/100\n",
            "195/195 [==============================] - 1s 3ms/step - loss: 0.3498 - binary_accuracy: 0.8585\n",
            "Epoch 77/100\n",
            "195/195 [==============================] - 1s 3ms/step - loss: 0.3439 - binary_accuracy: 0.8573\n",
            "Epoch 78/100\n",
            "195/195 [==============================] - 1s 3ms/step - loss: 0.3376 - binary_accuracy: 0.8625\n",
            "Epoch 79/100\n",
            "195/195 [==============================] - 1s 3ms/step - loss: 0.3480 - binary_accuracy: 0.8533\n",
            "Epoch 80/100\n",
            "195/195 [==============================] - 1s 3ms/step - loss: 0.3540 - binary_accuracy: 0.8548\n",
            "Epoch 81/100\n",
            "195/195 [==============================] - 1s 4ms/step - loss: 0.3551 - binary_accuracy: 0.8515\n",
            "Epoch 82/100\n",
            "195/195 [==============================] - 1s 4ms/step - loss: 0.3439 - binary_accuracy: 0.8567\n",
            "Epoch 83/100\n",
            "195/195 [==============================] - 1s 4ms/step - loss: 0.3627 - binary_accuracy: 0.8458\n",
            "Epoch 84/100\n",
            "195/195 [==============================] - 1s 4ms/step - loss: 0.3421 - binary_accuracy: 0.8572\n",
            "Epoch 85/100\n",
            "195/195 [==============================] - 1s 3ms/step - loss: 0.3398 - binary_accuracy: 0.8617\n",
            "Epoch 86/100\n",
            "195/195 [==============================] - 1s 3ms/step - loss: 0.3453 - binary_accuracy: 0.8540\n",
            "Epoch 87/100\n",
            "195/195 [==============================] - 1s 3ms/step - loss: 0.3403 - binary_accuracy: 0.8609\n",
            "Epoch 88/100\n",
            "195/195 [==============================] - 1s 3ms/step - loss: 0.3465 - binary_accuracy: 0.8580\n",
            "Epoch 89/100\n",
            "195/195 [==============================] - 1s 3ms/step - loss: 0.3414 - binary_accuracy: 0.8597\n",
            "Epoch 90/100\n",
            "195/195 [==============================] - 1s 3ms/step - loss: 0.3440 - binary_accuracy: 0.8589\n",
            "Epoch 91/100\n",
            "195/195 [==============================] - 1s 3ms/step - loss: 0.3383 - binary_accuracy: 0.8612\n",
            "Epoch 92/100\n",
            "195/195 [==============================] - 1s 3ms/step - loss: 0.3449 - binary_accuracy: 0.8572\n",
            "Epoch 93/100\n",
            "195/195 [==============================] - 1s 3ms/step - loss: 0.3446 - binary_accuracy: 0.8578\n",
            "Epoch 94/100\n",
            "195/195 [==============================] - 1s 3ms/step - loss: 0.3576 - binary_accuracy: 0.8527\n",
            "Epoch 95/100\n",
            "195/195 [==============================] - 1s 3ms/step - loss: 0.3560 - binary_accuracy: 0.8548\n",
            "Epoch 96/100\n",
            "195/195 [==============================] - 1s 3ms/step - loss: 0.3501 - binary_accuracy: 0.8556\n",
            "Epoch 97/100\n",
            "195/195 [==============================] - 1s 3ms/step - loss: 0.3466 - binary_accuracy: 0.8552\n",
            "Epoch 98/100\n",
            "195/195 [==============================] - 1s 3ms/step - loss: 0.3485 - binary_accuracy: 0.8540\n",
            "Epoch 99/100\n",
            "195/195 [==============================] - 1s 3ms/step - loss: 0.3570 - binary_accuracy: 0.8491\n",
            "Epoch 100/100\n",
            "195/195 [==============================] - 1s 3ms/step - loss: 0.3501 - binary_accuracy: 0.8548\n"
          ]
        }
      ]
    },
    {
      "cell_type": "code",
      "source": [
        "# Evaluate the model_5\n",
        "score_5 = model_5.evaluate(X_val, y_val, verbose=0)\n",
        "print(f'Test loss: {score_5[0]} / Test accuracy: {score_5[1]}')"
      ],
      "metadata": {
        "colab": {
          "base_uri": "https://localhost:8080/"
        },
        "id": "9yC16lysgF9n",
        "outputId": "892739c4-be8f-4c9c-c403-0ffee62f36d7"
      },
      "execution_count": 188,
      "outputs": [
        {
          "output_type": "stream",
          "name": "stdout",
          "text": [
            "Test loss: 0.3329090476036072 / Test accuracy: 0.8621465563774109\n"
          ]
        }
      ]
    },
    {
      "cell_type": "code",
      "source": [
        "# Train the model_6\n",
        "history = model_6.fit(X_val, y_val, epochs=100, batch_size=32)"
      ],
      "metadata": {
        "colab": {
          "base_uri": "https://localhost:8080/"
        },
        "id": "VXfvk5K039pU",
        "outputId": "afdca377-2145-434a-8c37-ed63111c4e14"
      },
      "execution_count": 189,
      "outputs": [
        {
          "metadata": {
            "tags": null
          },
          "name": "stdout",
          "output_type": "stream",
          "text": [
            "Epoch 1/100\n",
            "195/195 [==============================] - 3s 5ms/step - loss: 0.6965 - binary_accuracy: 0.5363\n",
            "Epoch 2/100\n",
            "195/195 [==============================] - 1s 6ms/step - loss: 0.6811 - binary_accuracy: 0.5840\n",
            "Epoch 3/100\n",
            "195/195 [==============================] - 1s 6ms/step - loss: 0.6751 - binary_accuracy: 0.5840\n",
            "Epoch 4/100\n",
            "195/195 [==============================] - 1s 5ms/step - loss: 0.6792 - binary_accuracy: 0.5829\n",
            "Epoch 5/100\n",
            "195/195 [==============================] - 1s 4ms/step - loss: 0.6728 - binary_accuracy: 0.5832\n",
            "Epoch 6/100\n",
            "195/195 [==============================] - 1s 4ms/step - loss: 0.6697 - binary_accuracy: 0.5813\n",
            "Epoch 7/100\n",
            "195/195 [==============================] - 1s 4ms/step - loss: 0.6794 - binary_accuracy: 0.5762\n",
            "Epoch 8/100\n",
            "195/195 [==============================] - 1s 4ms/step - loss: 0.6800 - binary_accuracy: 0.5774\n",
            "Epoch 9/100\n",
            "195/195 [==============================] - 1s 5ms/step - loss: 0.6770 - binary_accuracy: 0.5845\n",
            "Epoch 10/100\n",
            "195/195 [==============================] - 1s 5ms/step - loss: 0.6610 - binary_accuracy: 0.6138\n",
            "Epoch 11/100\n",
            "195/195 [==============================] - 1s 4ms/step - loss: 0.6034 - binary_accuracy: 0.6607\n",
            "Epoch 12/100\n",
            "195/195 [==============================] - 1s 4ms/step - loss: 0.6682 - binary_accuracy: 0.5803\n",
            "Epoch 13/100\n",
            "195/195 [==============================] - 1s 4ms/step - loss: 0.6840 - binary_accuracy: 0.5683\n",
            "Epoch 14/100\n",
            "195/195 [==============================] - 1s 5ms/step - loss: 0.6800 - binary_accuracy: 0.5782\n",
            "Epoch 15/100\n",
            "195/195 [==============================] - 1s 5ms/step - loss: 0.6790 - binary_accuracy: 0.5771\n",
            "Epoch 16/100\n",
            "195/195 [==============================] - 1s 6ms/step - loss: 0.6755 - binary_accuracy: 0.5855\n",
            "Epoch 17/100\n",
            "195/195 [==============================] - 1s 6ms/step - loss: 0.6304 - binary_accuracy: 0.6417\n",
            "Epoch 18/100\n",
            "195/195 [==============================] - 1s 4ms/step - loss: 0.5592 - binary_accuracy: 0.7209\n",
            "Epoch 19/100\n",
            "195/195 [==============================] - 1s 5ms/step - loss: 0.5542 - binary_accuracy: 0.7323\n",
            "Epoch 20/100\n",
            "195/195 [==============================] - 1s 4ms/step - loss: 0.4458 - binary_accuracy: 0.7950\n",
            "Epoch 21/100\n",
            "195/195 [==============================] - 1s 5ms/step - loss: 0.4103 - binary_accuracy: 0.8176\n",
            "Epoch 22/100\n",
            "195/195 [==============================] - 1s 5ms/step - loss: 0.4204 - binary_accuracy: 0.8127\n",
            "Epoch 23/100\n",
            "195/195 [==============================] - 1s 5ms/step - loss: 0.3926 - binary_accuracy: 0.8274\n",
            "Epoch 24/100\n",
            "195/195 [==============================] - 1s 4ms/step - loss: 0.3884 - binary_accuracy: 0.8310\n",
            "Epoch 25/100\n",
            "195/195 [==============================] - 1s 5ms/step - loss: 0.3993 - binary_accuracy: 0.8279\n",
            "Epoch 26/100\n",
            "195/195 [==============================] - 1s 4ms/step - loss: 0.3990 - binary_accuracy: 0.8247\n",
            "Epoch 27/100\n",
            "195/195 [==============================] - 1s 4ms/step - loss: 0.3763 - binary_accuracy: 0.8356\n",
            "Epoch 28/100\n",
            "195/195 [==============================] - 1s 4ms/step - loss: 0.3845 - binary_accuracy: 0.8350\n",
            "Epoch 29/100\n",
            "195/195 [==============================] - 1s 5ms/step - loss: 0.3841 - binary_accuracy: 0.8324\n",
            "Epoch 30/100\n",
            "195/195 [==============================] - 1s 6ms/step - loss: 0.3698 - binary_accuracy: 0.8429\n",
            "Epoch 31/100\n",
            "195/195 [==============================] - 1s 6ms/step - loss: 0.3692 - binary_accuracy: 0.8424\n",
            "Epoch 32/100\n",
            "195/195 [==============================] - 1s 5ms/step - loss: 0.3896 - binary_accuracy: 0.8327\n",
            "Epoch 33/100\n",
            "195/195 [==============================] - 1s 5ms/step - loss: 0.3753 - binary_accuracy: 0.8364\n",
            "Epoch 34/100\n",
            "195/195 [==============================] - 1s 5ms/step - loss: 0.3765 - binary_accuracy: 0.8366\n",
            "Epoch 35/100\n",
            "195/195 [==============================] - 1s 5ms/step - loss: 0.3650 - binary_accuracy: 0.8451\n",
            "Epoch 36/100\n",
            "195/195 [==============================] - 1s 5ms/step - loss: 0.3646 - binary_accuracy: 0.8495\n",
            "Epoch 37/100\n",
            "195/195 [==============================] - 1s 5ms/step - loss: 0.3818 - binary_accuracy: 0.8360\n",
            "Epoch 38/100\n",
            "195/195 [==============================] - 1s 5ms/step - loss: 0.3757 - binary_accuracy: 0.8382\n",
            "Epoch 39/100\n",
            "195/195 [==============================] - 1s 4ms/step - loss: 0.3628 - binary_accuracy: 0.8483\n",
            "Epoch 40/100\n",
            "195/195 [==============================] - 1s 4ms/step - loss: 0.3602 - binary_accuracy: 0.8478\n",
            "Epoch 41/100\n",
            "195/195 [==============================] - 1s 5ms/step - loss: 0.3612 - binary_accuracy: 0.8499\n",
            "Epoch 42/100\n",
            "195/195 [==============================] - 1s 5ms/step - loss: 0.3680 - binary_accuracy: 0.8411\n",
            "Epoch 43/100\n",
            "195/195 [==============================] - 1s 6ms/step - loss: 0.3672 - binary_accuracy: 0.8440\n",
            "Epoch 44/100\n",
            "195/195 [==============================] - 1s 6ms/step - loss: 0.3554 - binary_accuracy: 0.8512\n",
            "Epoch 45/100\n",
            "195/195 [==============================] - 1s 5ms/step - loss: 0.3686 - binary_accuracy: 0.8433\n",
            "Epoch 46/100\n",
            "195/195 [==============================] - 1s 4ms/step - loss: 0.3625 - binary_accuracy: 0.8451\n",
            "Epoch 47/100\n",
            "195/195 [==============================] - 1s 4ms/step - loss: 0.3621 - binary_accuracy: 0.8504\n",
            "Epoch 48/100\n",
            "195/195 [==============================] - 1s 4ms/step - loss: 0.3560 - binary_accuracy: 0.8522\n",
            "Epoch 49/100\n",
            "195/195 [==============================] - 1s 5ms/step - loss: 0.3589 - binary_accuracy: 0.8487\n",
            "Epoch 50/100\n",
            "195/195 [==============================] - 1s 5ms/step - loss: 0.3617 - binary_accuracy: 0.8501\n",
            "Epoch 51/100\n",
            "195/195 [==============================] - 1s 4ms/step - loss: 0.3640 - binary_accuracy: 0.8477\n",
            "Epoch 52/100\n",
            "195/195 [==============================] - 1s 4ms/step - loss: 0.3508 - binary_accuracy: 0.8538\n",
            "Epoch 53/100\n",
            "195/195 [==============================] - 1s 4ms/step - loss: 0.3736 - binary_accuracy: 0.8387\n",
            "Epoch 54/100\n",
            "195/195 [==============================] - 1s 5ms/step - loss: 0.3559 - binary_accuracy: 0.8533\n",
            "Epoch 55/100\n",
            "195/195 [==============================] - 1s 5ms/step - loss: 0.3565 - binary_accuracy: 0.8525\n",
            "Epoch 56/100\n",
            "195/195 [==============================] - 1s 5ms/step - loss: 0.3707 - binary_accuracy: 0.8401\n",
            "Epoch 57/100\n",
            "195/195 [==============================] - 1s 6ms/step - loss: 0.3732 - binary_accuracy: 0.8403\n",
            "Epoch 58/100\n",
            "195/195 [==============================] - 1s 6ms/step - loss: 0.3531 - binary_accuracy: 0.8538\n",
            "Epoch 59/100\n",
            "195/195 [==============================] - 1s 4ms/step - loss: 0.3497 - binary_accuracy: 0.8562\n",
            "Epoch 60/100\n",
            "195/195 [==============================] - 1s 4ms/step - loss: 0.3623 - binary_accuracy: 0.8509\n",
            "Epoch 61/100\n",
            "195/195 [==============================] - 1s 4ms/step - loss: 0.3609 - binary_accuracy: 0.8483\n",
            "Epoch 62/100\n",
            "195/195 [==============================] - 1s 5ms/step - loss: 0.3501 - binary_accuracy: 0.8546\n",
            "Epoch 63/100\n",
            "195/195 [==============================] - 1s 5ms/step - loss: 0.3469 - binary_accuracy: 0.8586\n",
            "Epoch 64/100\n",
            "195/195 [==============================] - 1s 5ms/step - loss: 0.3604 - binary_accuracy: 0.8485\n",
            "Epoch 65/100\n",
            "195/195 [==============================] - 1s 5ms/step - loss: 0.3650 - binary_accuracy: 0.8474\n",
            "Epoch 66/100\n",
            "195/195 [==============================] - 1s 4ms/step - loss: 0.3571 - binary_accuracy: 0.8512\n",
            "Epoch 67/100\n",
            "195/195 [==============================] - 1s 5ms/step - loss: 0.3522 - binary_accuracy: 0.8548\n",
            "Epoch 68/100\n",
            "195/195 [==============================] - 1s 5ms/step - loss: 0.3446 - binary_accuracy: 0.8594\n",
            "Epoch 69/100\n",
            "195/195 [==============================] - 1s 5ms/step - loss: 0.3536 - binary_accuracy: 0.8531\n",
            "Epoch 70/100\n",
            "195/195 [==============================] - 1s 6ms/step - loss: 0.3579 - binary_accuracy: 0.8467\n",
            "Epoch 71/100\n",
            "195/195 [==============================] - 1s 6ms/step - loss: 0.3465 - binary_accuracy: 0.8576\n",
            "Epoch 72/100\n",
            "195/195 [==============================] - 1s 6ms/step - loss: 0.3459 - binary_accuracy: 0.8612\n",
            "Epoch 73/100\n",
            "195/195 [==============================] - 1s 5ms/step - loss: 0.3468 - binary_accuracy: 0.8562\n",
            "Epoch 74/100\n",
            "195/195 [==============================] - 1s 5ms/step - loss: 0.3548 - binary_accuracy: 0.8527\n",
            "Epoch 75/100\n",
            "195/195 [==============================] - 1s 4ms/step - loss: 0.3460 - binary_accuracy: 0.8585\n",
            "Epoch 76/100\n",
            "195/195 [==============================] - 1s 4ms/step - loss: 0.3582 - binary_accuracy: 0.8530\n",
            "Epoch 77/100\n",
            "195/195 [==============================] - 1s 4ms/step - loss: 0.3545 - binary_accuracy: 0.8520\n",
            "Epoch 78/100\n",
            "195/195 [==============================] - 1s 4ms/step - loss: 0.3658 - binary_accuracy: 0.8472\n",
            "Epoch 79/100\n",
            "195/195 [==============================] - 1s 4ms/step - loss: 0.3494 - binary_accuracy: 0.8556\n",
            "Epoch 80/100\n",
            "195/195 [==============================] - 1s 5ms/step - loss: 0.3410 - binary_accuracy: 0.8602\n",
            "Epoch 81/100\n",
            "195/195 [==============================] - 1s 4ms/step - loss: 0.3488 - binary_accuracy: 0.8525\n",
            "Epoch 82/100\n",
            "195/195 [==============================] - 1s 5ms/step - loss: 0.3453 - binary_accuracy: 0.8573\n",
            "Epoch 83/100\n",
            "195/195 [==============================] - 1s 5ms/step - loss: 0.3417 - binary_accuracy: 0.8596\n",
            "Epoch 84/100\n",
            "195/195 [==============================] - 1s 6ms/step - loss: 0.3520 - binary_accuracy: 0.8570\n",
            "Epoch 85/100\n",
            "195/195 [==============================] - 1s 6ms/step - loss: 0.3611 - binary_accuracy: 0.8483\n",
            "Epoch 86/100\n",
            "195/195 [==============================] - 1s 5ms/step - loss: 0.3556 - binary_accuracy: 0.8466\n",
            "Epoch 87/100\n",
            "195/195 [==============================] - 1s 5ms/step - loss: 0.3573 - binary_accuracy: 0.8528\n",
            "Epoch 88/100\n",
            "195/195 [==============================] - 1s 5ms/step - loss: 0.3545 - binary_accuracy: 0.8540\n",
            "Epoch 89/100\n",
            "195/195 [==============================] - 1s 4ms/step - loss: 0.3440 - binary_accuracy: 0.8599\n",
            "Epoch 90/100\n",
            "195/195 [==============================] - 1s 5ms/step - loss: 0.3507 - binary_accuracy: 0.8559\n",
            "Epoch 91/100\n",
            "195/195 [==============================] - 1s 5ms/step - loss: 0.3475 - binary_accuracy: 0.8589\n",
            "Epoch 92/100\n",
            "195/195 [==============================] - 1s 5ms/step - loss: 0.3628 - binary_accuracy: 0.8482\n",
            "Epoch 93/100\n",
            "195/195 [==============================] - 1s 5ms/step - loss: 0.3503 - binary_accuracy: 0.8552\n",
            "Epoch 94/100\n",
            "195/195 [==============================] - 1s 5ms/step - loss: 0.3431 - binary_accuracy: 0.8601\n",
            "Epoch 95/100\n",
            "195/195 [==============================] - 1s 4ms/step - loss: 0.3466 - binary_accuracy: 0.8581\n",
            "Epoch 96/100\n",
            "195/195 [==============================] - 1s 5ms/step - loss: 0.3475 - binary_accuracy: 0.8560\n",
            "Epoch 97/100\n",
            "195/195 [==============================] - 1s 6ms/step - loss: 0.3568 - binary_accuracy: 0.8522\n",
            "Epoch 98/100\n",
            "195/195 [==============================] - 1s 6ms/step - loss: 0.3432 - binary_accuracy: 0.8597\n",
            "Epoch 99/100\n",
            "195/195 [==============================] - 1s 6ms/step - loss: 0.3394 - binary_accuracy: 0.8604\n",
            "Epoch 100/100\n",
            "195/195 [==============================] - 1s 5ms/step - loss: 0.3607 - binary_accuracy: 0.8560\n"
          ]
        }
      ]
    },
    {
      "cell_type": "code",
      "source": [
        "# Evaluate the model_6\n",
        "score_6 = model_6.evaluate(X_val, y_val, verbose=0)\n",
        "print(f'Test loss: {score_6[0]} / Test accuracy: {score_6[1]}')"
      ],
      "metadata": {
        "colab": {
          "base_uri": "https://localhost:8080/"
        },
        "id": "VkOT1YkL4BTE",
        "outputId": "2a75d67f-66a3-40bd-dbc2-8cd6be55b298"
      },
      "execution_count": 190,
      "outputs": [
        {
          "output_type": "stream",
          "name": "stdout",
          "text": [
            "Test loss: 0.33835989236831665 / Test accuracy: 0.8573265075683594\n"
          ]
        }
      ]
    },
    {
      "cell_type": "code",
      "source": [
        "# Choose The Final Model\n",
        "model_loss = [score_1[0], score_2[0], score_3[0], score_4[0], score_5[0], score_6[0]]\n",
        "model_accuracy = [score_1[1], score_2[1], score_3[1], score_4[1], score_5[1], score_6[1]]\n",
        "                  \n",
        "# Find the index of the model with the minimum loss\n",
        "min_loss_index = model_loss.index(min(model_loss))\n",
        "\n",
        "# Find the index of the model with the maximum accuracy\n",
        "max_accuracy_index = model_accuracy.index(max(model_accuracy))\n",
        "\n",
        "# Determine the best model based on the minimum loss and maximum accuracy\n",
        "if min_loss_index == max_accuracy_index:\n",
        "    print(\"The best model is Model \", min_loss_index+1, \" with a loss of \", model_loss[min_loss_index], \" and an accuracy of \", model_accuracy[max_accuracy_index])\n",
        "elif min_loss_index < max_accuracy_index:\n",
        "    print(\"The best model based on the minimum loss is Model \", min_loss_index+1, \" with a loss of \", model_loss[min_loss_index])\n",
        "else:\n",
        "    print(\"The best model based on the maximum accuracy is Model \", max_accuracy_index+1, \" with an accuracy of \", model_accuracy[max_accuracy_index])"
      ],
      "metadata": {
        "colab": {
          "base_uri": "https://localhost:8080/"
        },
        "id": "tsn2Y0zdeUca",
        "outputId": "4b6ad746-a09e-46e2-a691-e987234a5530"
      },
      "execution_count": 191,
      "outputs": [
        {
          "output_type": "stream",
          "name": "stdout",
          "text": [
            "The best model is Model  5  with a loss of  0.3329090476036072  and an accuracy of  0.8621465563774109\n"
          ]
        }
      ]
    },
    {
      "cell_type": "code",
      "source": [
        "# Train the Final Model\n",
        "\n",
        "model = model_5\n",
        "history = model.fit(X_train, y_train, epochs=100, batch_size=32)"
      ],
      "metadata": {
        "colab": {
          "base_uri": "https://localhost:8080/"
        },
        "id": "qrDapdCAgfaG",
        "outputId": "ab81a734-acc2-40f0-cf8e-27213ea2bea4"
      },
      "execution_count": 192,
      "outputs": [
        {
          "output_type": "stream",
          "name": "stdout",
          "text": [
            "Epoch 1/100\n",
            "1556/1556 [==============================] - 5s 3ms/step - loss: 0.3305 - binary_accuracy: 0.8633\n",
            "Epoch 2/100\n",
            "1556/1556 [==============================] - 5s 3ms/step - loss: 0.3277 - binary_accuracy: 0.8641\n",
            "Epoch 3/100\n",
            "1556/1556 [==============================] - 5s 3ms/step - loss: 0.3236 - binary_accuracy: 0.8654\n",
            "Epoch 4/100\n",
            "1556/1556 [==============================] - 5s 3ms/step - loss: 0.3272 - binary_accuracy: 0.8643\n",
            "Epoch 5/100\n",
            "1556/1556 [==============================] - 6s 4ms/step - loss: 0.3187 - binary_accuracy: 0.8683\n",
            "Epoch 6/100\n",
            "1556/1556 [==============================] - 4s 3ms/step - loss: 0.3189 - binary_accuracy: 0.8680\n",
            "Epoch 7/100\n",
            "1556/1556 [==============================] - 4s 3ms/step - loss: 0.3175 - binary_accuracy: 0.8688\n",
            "Epoch 8/100\n",
            "1556/1556 [==============================] - 6s 4ms/step - loss: 0.3177 - binary_accuracy: 0.8701\n",
            "Epoch 9/100\n",
            "1556/1556 [==============================] - 4s 3ms/step - loss: 0.3206 - binary_accuracy: 0.8678\n",
            "Epoch 10/100\n",
            "1556/1556 [==============================] - 5s 3ms/step - loss: 0.3164 - binary_accuracy: 0.8698\n",
            "Epoch 11/100\n",
            "1556/1556 [==============================] - 5s 3ms/step - loss: 0.3141 - binary_accuracy: 0.8707\n",
            "Epoch 12/100\n",
            "1556/1556 [==============================] - 4s 3ms/step - loss: 0.3127 - binary_accuracy: 0.8727\n",
            "Epoch 13/100\n",
            "1556/1556 [==============================] - 5s 3ms/step - loss: 0.3188 - binary_accuracy: 0.8682\n",
            "Epoch 14/100\n",
            "1556/1556 [==============================] - 4s 3ms/step - loss: 0.3182 - binary_accuracy: 0.8699\n",
            "Epoch 15/100\n",
            "1556/1556 [==============================] - 5s 3ms/step - loss: 0.3117 - binary_accuracy: 0.8728\n",
            "Epoch 16/100\n",
            "1556/1556 [==============================] - 9s 6ms/step - loss: 0.3141 - binary_accuracy: 0.8709\n",
            "Epoch 17/100\n",
            "1556/1556 [==============================] - 4s 3ms/step - loss: 0.3160 - binary_accuracy: 0.8700\n",
            "Epoch 18/100\n",
            "1556/1556 [==============================] - 5s 3ms/step - loss: 0.3091 - binary_accuracy: 0.8730\n",
            "Epoch 19/100\n",
            "1556/1556 [==============================] - 5s 3ms/step - loss: 0.3149 - binary_accuracy: 0.8705\n",
            "Epoch 20/100\n",
            "1556/1556 [==============================] - 5s 3ms/step - loss: 0.3093 - binary_accuracy: 0.8729\n",
            "Epoch 21/100\n",
            "1556/1556 [==============================] - 5s 3ms/step - loss: 0.3118 - binary_accuracy: 0.8714\n",
            "Epoch 22/100\n",
            "1556/1556 [==============================] - 5s 3ms/step - loss: 0.3094 - binary_accuracy: 0.8730\n",
            "Epoch 23/100\n",
            "1556/1556 [==============================] - 5s 3ms/step - loss: 0.3085 - binary_accuracy: 0.8740\n",
            "Epoch 24/100\n",
            "1556/1556 [==============================] - 5s 3ms/step - loss: 0.3075 - binary_accuracy: 0.8737\n",
            "Epoch 25/100\n",
            "1556/1556 [==============================] - 5s 3ms/step - loss: 0.3074 - binary_accuracy: 0.8731\n",
            "Epoch 26/100\n",
            "1556/1556 [==============================] - 5s 3ms/step - loss: 0.3093 - binary_accuracy: 0.8722\n",
            "Epoch 27/100\n",
            "1556/1556 [==============================] - 5s 3ms/step - loss: 0.3068 - binary_accuracy: 0.8747\n",
            "Epoch 28/100\n",
            "1556/1556 [==============================] - 5s 4ms/step - loss: 0.3058 - binary_accuracy: 0.8751\n",
            "Epoch 29/100\n",
            "1556/1556 [==============================] - 5s 3ms/step - loss: 0.3071 - binary_accuracy: 0.8735\n",
            "Epoch 30/100\n",
            "1556/1556 [==============================] - 5s 3ms/step - loss: 0.3071 - binary_accuracy: 0.8740\n",
            "Epoch 31/100\n",
            "1556/1556 [==============================] - 5s 3ms/step - loss: 0.3026 - binary_accuracy: 0.8764\n",
            "Epoch 32/100\n",
            "1556/1556 [==============================] - 5s 3ms/step - loss: 0.3079 - binary_accuracy: 0.8739\n",
            "Epoch 33/100\n",
            "1556/1556 [==============================] - 5s 3ms/step - loss: 0.3036 - binary_accuracy: 0.8760\n",
            "Epoch 34/100\n",
            "1556/1556 [==============================] - 5s 3ms/step - loss: 0.3047 - binary_accuracy: 0.8751\n",
            "Epoch 35/100\n",
            "1556/1556 [==============================] - 5s 3ms/step - loss: 0.3055 - binary_accuracy: 0.8741\n",
            "Epoch 36/100\n",
            "1556/1556 [==============================] - 5s 3ms/step - loss: 0.3033 - binary_accuracy: 0.8759\n",
            "Epoch 37/100\n",
            "1556/1556 [==============================] - 5s 3ms/step - loss: 0.3040 - binary_accuracy: 0.8749\n",
            "Epoch 38/100\n",
            "1556/1556 [==============================] - 5s 3ms/step - loss: 0.3015 - binary_accuracy: 0.8768\n",
            "Epoch 39/100\n",
            "1556/1556 [==============================] - 5s 3ms/step - loss: 0.3051 - binary_accuracy: 0.8751\n",
            "Epoch 40/100\n",
            "1556/1556 [==============================] - 5s 3ms/step - loss: 0.3049 - binary_accuracy: 0.8741\n",
            "Epoch 41/100\n",
            "1556/1556 [==============================] - 5s 3ms/step - loss: 0.3033 - binary_accuracy: 0.8760\n",
            "Epoch 42/100\n",
            "1556/1556 [==============================] - 5s 3ms/step - loss: 0.3047 - binary_accuracy: 0.8758\n",
            "Epoch 43/100\n",
            "1556/1556 [==============================] - 5s 3ms/step - loss: 0.3027 - binary_accuracy: 0.8761\n",
            "Epoch 44/100\n",
            "1556/1556 [==============================] - 5s 3ms/step - loss: 0.3030 - binary_accuracy: 0.8755\n",
            "Epoch 45/100\n",
            "1556/1556 [==============================] - 5s 3ms/step - loss: 0.2999 - binary_accuracy: 0.8784\n",
            "Epoch 46/100\n",
            "1556/1556 [==============================] - 5s 3ms/step - loss: 0.3019 - binary_accuracy: 0.8759\n",
            "Epoch 47/100\n",
            "1556/1556 [==============================] - 5s 3ms/step - loss: 0.3042 - binary_accuracy: 0.8751\n",
            "Epoch 48/100\n",
            "1556/1556 [==============================] - 5s 3ms/step - loss: 0.3025 - binary_accuracy: 0.8753\n",
            "Epoch 49/100\n",
            "1556/1556 [==============================] - 4s 3ms/step - loss: 0.3002 - binary_accuracy: 0.8770\n",
            "Epoch 50/100\n",
            "1556/1556 [==============================] - 4s 3ms/step - loss: 0.3025 - binary_accuracy: 0.8760\n",
            "Epoch 51/100\n",
            "1556/1556 [==============================] - 5s 3ms/step - loss: 0.3028 - binary_accuracy: 0.8760\n",
            "Epoch 52/100\n",
            "1556/1556 [==============================] - 5s 3ms/step - loss: 0.3022 - binary_accuracy: 0.8753\n",
            "Epoch 53/100\n",
            "1556/1556 [==============================] - 5s 3ms/step - loss: 0.3013 - binary_accuracy: 0.8773\n",
            "Epoch 54/100\n",
            "1556/1556 [==============================] - 5s 3ms/step - loss: 0.3000 - binary_accuracy: 0.8770\n",
            "Epoch 55/100\n",
            "1556/1556 [==============================] - 4s 3ms/step - loss: 0.3032 - binary_accuracy: 0.8776\n",
            "Epoch 56/100\n",
            "1556/1556 [==============================] - 5s 3ms/step - loss: 0.3006 - binary_accuracy: 0.8774\n",
            "Epoch 57/100\n",
            "1556/1556 [==============================] - 4s 3ms/step - loss: 0.3032 - binary_accuracy: 0.8754\n",
            "Epoch 58/100\n",
            "1556/1556 [==============================] - 5s 3ms/step - loss: 0.3009 - binary_accuracy: 0.8763\n",
            "Epoch 59/100\n",
            "1556/1556 [==============================] - 5s 3ms/step - loss: 0.2993 - binary_accuracy: 0.8782\n",
            "Epoch 60/100\n",
            "1556/1556 [==============================] - 5s 3ms/step - loss: 0.2999 - binary_accuracy: 0.8781\n",
            "Epoch 61/100\n",
            "1556/1556 [==============================] - 5s 3ms/step - loss: 0.3020 - binary_accuracy: 0.8763\n",
            "Epoch 62/100\n",
            "1556/1556 [==============================] - 5s 3ms/step - loss: 0.3016 - binary_accuracy: 0.8761\n",
            "Epoch 63/100\n",
            "1556/1556 [==============================] - 5s 3ms/step - loss: 0.3006 - binary_accuracy: 0.8762\n",
            "Epoch 64/100\n",
            "1556/1556 [==============================] - 5s 3ms/step - loss: 0.3002 - binary_accuracy: 0.8777\n",
            "Epoch 65/100\n",
            "1556/1556 [==============================] - 5s 3ms/step - loss: 0.2990 - binary_accuracy: 0.8781\n",
            "Epoch 66/100\n",
            "1556/1556 [==============================] - 5s 3ms/step - loss: 0.3004 - binary_accuracy: 0.8768\n",
            "Epoch 67/100\n",
            "1556/1556 [==============================] - 5s 3ms/step - loss: 0.3008 - binary_accuracy: 0.8774\n",
            "Epoch 68/100\n",
            "1556/1556 [==============================] - 5s 3ms/step - loss: 0.2986 - binary_accuracy: 0.8768\n",
            "Epoch 69/100\n",
            "1556/1556 [==============================] - 5s 3ms/step - loss: 0.2997 - binary_accuracy: 0.8775\n",
            "Epoch 70/100\n",
            "1556/1556 [==============================] - 4s 3ms/step - loss: 0.3002 - binary_accuracy: 0.8775\n",
            "Epoch 71/100\n",
            "1556/1556 [==============================] - 5s 3ms/step - loss: 0.3003 - binary_accuracy: 0.8774\n",
            "Epoch 72/100\n",
            "1556/1556 [==============================] - 5s 3ms/step - loss: 0.3008 - binary_accuracy: 0.8766\n",
            "Epoch 73/100\n",
            "1556/1556 [==============================] - 4s 3ms/step - loss: 0.2999 - binary_accuracy: 0.8764\n",
            "Epoch 74/100\n",
            "1556/1556 [==============================] - 6s 4ms/step - loss: 0.2986 - binary_accuracy: 0.8786\n",
            "Epoch 75/100\n",
            "1556/1556 [==============================] - 4s 3ms/step - loss: 0.3004 - binary_accuracy: 0.8766\n",
            "Epoch 76/100\n",
            "1556/1556 [==============================] - 5s 3ms/step - loss: 0.3003 - binary_accuracy: 0.8775\n",
            "Epoch 77/100\n",
            "1556/1556 [==============================] - 5s 3ms/step - loss: 0.2999 - binary_accuracy: 0.8772\n",
            "Epoch 78/100\n",
            "1556/1556 [==============================] - 5s 3ms/step - loss: 0.2967 - binary_accuracy: 0.8782\n",
            "Epoch 79/100\n",
            "1556/1556 [==============================] - 5s 3ms/step - loss: 0.3043 - binary_accuracy: 0.8756\n",
            "Epoch 80/100\n",
            "1556/1556 [==============================] - 5s 3ms/step - loss: 0.2981 - binary_accuracy: 0.8791\n",
            "Epoch 81/100\n",
            "1556/1556 [==============================] - 5s 3ms/step - loss: 0.2988 - binary_accuracy: 0.8787\n",
            "Epoch 82/100\n",
            "1556/1556 [==============================] - 5s 3ms/step - loss: 0.2982 - binary_accuracy: 0.8788\n",
            "Epoch 83/100\n",
            "1556/1556 [==============================] - 4s 3ms/step - loss: 0.3001 - binary_accuracy: 0.8766\n",
            "Epoch 84/100\n",
            "1556/1556 [==============================] - 5s 3ms/step - loss: 0.3006 - binary_accuracy: 0.8776\n",
            "Epoch 85/100\n",
            "1556/1556 [==============================] - 5s 3ms/step - loss: 0.2972 - binary_accuracy: 0.8788\n",
            "Epoch 86/100\n",
            "1556/1556 [==============================] - 5s 3ms/step - loss: 0.2979 - binary_accuracy: 0.8785\n",
            "Epoch 87/100\n",
            "1556/1556 [==============================] - 5s 3ms/step - loss: 0.2983 - binary_accuracy: 0.8776\n",
            "Epoch 88/100\n",
            "1556/1556 [==============================] - 5s 3ms/step - loss: 0.2984 - binary_accuracy: 0.8777\n",
            "Epoch 89/100\n",
            "1556/1556 [==============================] - 5s 4ms/step - loss: 0.2959 - binary_accuracy: 0.8800\n",
            "Epoch 90/100\n",
            "1556/1556 [==============================] - 5s 3ms/step - loss: 0.2964 - binary_accuracy: 0.8787\n",
            "Epoch 91/100\n",
            "1556/1556 [==============================] - 5s 3ms/step - loss: 0.2980 - binary_accuracy: 0.8780\n",
            "Epoch 92/100\n",
            "1556/1556 [==============================] - 5s 3ms/step - loss: 0.3012 - binary_accuracy: 0.8776\n",
            "Epoch 93/100\n",
            "1556/1556 [==============================] - 5s 3ms/step - loss: 0.2986 - binary_accuracy: 0.8782\n",
            "Epoch 94/100\n",
            "1556/1556 [==============================] - 5s 3ms/step - loss: 0.2979 - binary_accuracy: 0.8772\n",
            "Epoch 95/100\n",
            "1556/1556 [==============================] - 5s 3ms/step - loss: 0.2983 - binary_accuracy: 0.8786\n",
            "Epoch 96/100\n",
            "1556/1556 [==============================] - 5s 3ms/step - loss: 0.2974 - binary_accuracy: 0.8787\n",
            "Epoch 97/100\n",
            "1556/1556 [==============================] - 5s 3ms/step - loss: 0.2970 - binary_accuracy: 0.8791\n",
            "Epoch 98/100\n",
            "1556/1556 [==============================] - 5s 3ms/step - loss: 0.2974 - binary_accuracy: 0.8780\n",
            "Epoch 99/100\n",
            "1556/1556 [==============================] - 5s 4ms/step - loss: 0.2975 - binary_accuracy: 0.8781\n",
            "Epoch 100/100\n",
            "1556/1556 [==============================] - 5s 3ms/step - loss: 0.2964 - binary_accuracy: 0.8795\n"
          ]
        }
      ]
    },
    {
      "cell_type": "code",
      "source": [
        "# Evaluate the Final Model\n",
        "score = model.evaluate(X_test, y_test, verbose=0)\n",
        "print(f'Model loss: {score[0]} \\nModel accuracy: {score[1]}')"
      ],
      "metadata": {
        "colab": {
          "base_uri": "https://localhost:8080/"
        },
        "id": "yMHEeOVOl-S3",
        "outputId": "856c47af-62d1-4bc2-86c6-a29a6ddebeef"
      },
      "execution_count": 193,
      "outputs": [
        {
          "output_type": "stream",
          "name": "stdout",
          "text": [
            "Model loss: 0.28178656101226807 \n",
            "Model accuracy: 0.888978123664856\n"
          ]
        }
      ]
    },
    {
      "cell_type": "code",
      "source": [
        "# Use the model for prediction\n",
        "\n",
        "# Choose a sample from dataset for prediction\n",
        "sample = 568\n",
        "X_new = X_val.iloc[sample].values.reshape(1, -1)\n",
        "\n",
        "y_correct = y_val.iloc[sample]\n",
        "\n",
        "# Predict\n",
        "y_pred = model.predict(X_new)\n",
        "\n",
        "if y_pred > 0.5:\n",
        "  y_predict = 1\n",
        "  print(\"Predict if this trip is going to be shared?   YES\")\n",
        "else:\n",
        "  y_predict = 0\n",
        "  print(\"Predict if this trip is going to be shared?   NO\")\n",
        "\n",
        "print(\"===================================================================\\n\")\n",
        "print(f\"The prediction is: {y_pred}   /   The true answer is: {y_correct}\")\n",
        "\n",
        "print(\"===================================================================\\n\")\n",
        "\n",
        "if y_predict == y_correct:\n",
        "  print(\"Prediction: CORRECT!\")\n",
        "else:\n",
        "  print(\"Prediction: WRONG!\")"
      ],
      "metadata": {
        "colab": {
          "base_uri": "https://localhost:8080/"
        },
        "id": "B48Qyd6ZiM7c",
        "outputId": "cc854e72-d5f6-40f6-94e0-18b223675c8c"
      },
      "execution_count": 198,
      "outputs": [
        {
          "output_type": "stream",
          "name": "stdout",
          "text": [
            "1/1 [==============================] - 0s 28ms/step\n",
            "Predict if this trip is going to be shared?   YES\n",
            "===================================================================\n",
            "\n",
            "The prediction is: [[0.99999726]]   /   The true answer is: 1\n",
            "===================================================================\n",
            "\n",
            "Prediction: CORRECT!\n"
          ]
        }
      ]
    }
  ]
}